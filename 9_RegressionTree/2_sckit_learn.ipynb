{
 "cells": [
  {
   "cell_type": "code",
   "execution_count": 1,
   "id": "c22c15ce-428c-4080-af6c-329056c5cabd",
   "metadata": {},
   "outputs": [],
   "source": [
    "import numpy as np\n",
    "import pandas as pd"
   ]
  },
  {
   "cell_type": "code",
   "execution_count": 13,
   "id": "9d8f8792-c070-437d-b416-0c815f5a3d9b",
   "metadata": {},
   "outputs": [],
   "source": [
    "from sklearn.datasets import make_regression\n",
    "from sklearn.model_selection import train_test_split\n",
    "\n",
    "X,y=make_regression(n_features=3,n_targets=1,random_state=42,n_samples=1000)\n",
    "X_train, X_test, y_train, y_test = train_test_split(X,y, test_size=0.2, random_state=42)"
   ]
  },
  {
   "cell_type": "code",
   "execution_count": 22,
   "id": "98c5b64f-def8-4a5c-8475-b7fe9dc04cca",
   "metadata": {},
   "outputs": [
    {
     "name": "stdout",
     "output_type": "stream",
     "text": [
      "MSE: 1000.5944329570311\n",
      "MAE: 23.08540095427393\n",
      "r2score: 0.9425787362826789\n"
     ]
    }
   ],
   "source": [
    "from sklearn.tree import DecisionTreeRegressor,plot_tree\n",
    "from sklearn.metrics import mean_squared_error,r2_score,mean_absolute_error,r2_score\n",
    "import matplotlib.pyplot as plt\n",
    "\n",
    "dr=DecisionTreeRegressor(max_depth=10)\n",
    "\n",
    "dr.fit(X_train,y_train)\n",
    "y_pred=dr.predict(X_test)\n",
    "\n",
    "\n",
    "mse = mean_squared_error(y_test, y_pred)\n",
    "mae = mean_absolute_error(y_test, y_pred)\n",
    "r2 = r2_score(y_test, y_pred)\n",
    "print(\"MSE:\", mse)\n",
    "print(\"MAE:\", mae)\n",
    "print(\"r2score:\", r2)\n",
    "\n",
    "# plt.figure(figsize=(12, 8))\n",
    "# plot_tree(dr,filled=True)\n",
    "# plt.show()"
   ]
  },
  {
   "cell_type": "code",
   "execution_count": 26,
   "id": "984bce5e-aad5-42b0-a4b6-e4dac278c845",
   "metadata": {},
   "outputs": [
    {
     "name": "stdout",
     "output_type": "stream",
     "text": [
      "MSE: 1032.1551012107097\n",
      "MAE: 24.33280831253701\n",
      "r2score: 0.9407675594509892\n"
     ]
    }
   ],
   "source": [
    "from sklearn.tree import DecisionTreeRegressor,plot_tree\n",
    "from sklearn.metrics import mean_squared_error,r2_score,mean_absolute_error,r2_score\n",
    "import matplotlib.pyplot as plt\n",
    "\n",
    "dr=DecisionTreeRegressor(max_depth=10,criterion=\"absolute_error\")\n",
    "\n",
    "dr.fit(X_train,y_train)\n",
    "y_pred=dr.predict(X_test)\n",
    "\n",
    "\n",
    "mse = mean_squared_error(y_test, y_pred)\n",
    "mae = mean_absolute_error(y_test, y_pred)\n",
    "r2 = r2_score(y_test, y_pred)\n",
    "print(\"MSE:\", mse)\n",
    "print(\"MAE:\", mae)\n",
    "print(\"r2score:\", r2)\n",
    "\n",
    "# plt.figure(figsize=(12, 8))\n",
    "# plot_tree(dr,filled=True)\n",
    "# plt.show()"
   ]
  },
  {
   "cell_type": "code",
   "execution_count": 39,
   "id": "32041a15-296c-4034-9026-2a8437371bbc",
   "metadata": {},
   "outputs": [
    {
     "name": "stdout",
     "output_type": "stream",
     "text": [
      "MSE: 1633.82677980205\n",
      "MAE: 30.43659151966446\n",
      "r2score: 0.9062393360372974\n"
     ]
    }
   ],
   "source": [
    "from sklearn.tree import DecisionTreeRegressor,plot_tree\n",
    "from sklearn.metrics import mean_squared_error,r2_score,mean_absolute_error,r2_score\n",
    "import matplotlib.pyplot as plt\n",
    "\n",
    "dr=DecisionTreeRegressor(max_depth=10,criterion=\"absolute_error\",min_samples_split=20)\n",
    "\n",
    "dr.fit(X_train,y_train)\n",
    "y_pred=dr.predict(X_test)\n",
    "\n",
    "\n",
    "mse = mean_squared_error(y_test, y_pred)\n",
    "mae = mean_absolute_error(y_test, y_pred)\n",
    "r2 = r2_score(y_test, y_pred)\n",
    "print(\"MSE:\", mse)\n",
    "print(\"MAE:\", mae)\n",
    "print(\"r2score:\", r2)\n",
    "\n",
    "# plt.figure(figsize=(12, 8))\n",
    "# plot_tree(dr,filled=True)\n",
    "# plt.show()"
   ]
  },
  {
   "cell_type": "code",
   "execution_count": 42,
   "id": "9d2247ff-5409-42a2-8214-7ca0f59af8b7",
   "metadata": {},
   "outputs": [
    {
     "data": {
      "text/plain": [
       "0    0.070272\n",
       "1    0.540973\n",
       "2    0.388754\n",
       "dtype: float64"
      ]
     },
     "execution_count": 42,
     "metadata": {},
     "output_type": "execute_result"
    }
   ],
   "source": [
    "pd.Series(dr.feature_importances_)"
   ]
  },
  {
   "cell_type": "code",
   "execution_count": null,
   "id": "6e6ec11e-fff1-4d3a-bebc-55b46b06e5ab",
   "metadata": {},
   "outputs": [],
   "source": []
  }
 ],
 "metadata": {
  "kernelspec": {
   "display_name": "Python 3 (ipykernel)",
   "language": "python",
   "name": "python3"
  },
  "language_info": {
   "codemirror_mode": {
    "name": "ipython",
    "version": 3
   },
   "file_extension": ".py",
   "mimetype": "text/x-python",
   "name": "python",
   "nbconvert_exporter": "python",
   "pygments_lexer": "ipython3",
   "version": "3.12.6"
  }
 },
 "nbformat": 4,
 "nbformat_minor": 5
}
