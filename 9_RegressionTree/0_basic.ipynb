{
 "cells": [
  {
   "cell_type": "code",
   "execution_count": 1,
   "id": "b4ecde8d-08ac-4183-86f2-b78ce0b4720e",
   "metadata": {},
   "outputs": [],
   "source": [
    "# in this we try to predict numerical values like in linear regression"
   ]
  },
  {
   "cell_type": "code",
   "execution_count": 3,
   "id": "aa942396-1270-4f39-959e-461091e4d7ea",
   "metadata": {},
   "outputs": [],
   "source": [
    "# everything is almost same only we try to minimise mse or mae insted of gini or entropy"
   ]
  },
  {
   "cell_type": "code",
   "execution_count": null,
   "id": "6c055661-90cd-4331-9816-b73303b82f41",
   "metadata": {},
   "outputs": [],
   "source": []
  }
 ],
 "metadata": {
  "kernelspec": {
   "display_name": "Python 3 (ipykernel)",
   "language": "python",
   "name": "python3"
  },
  "language_info": {
   "codemirror_mode": {
    "name": "ipython",
    "version": 3
   },
   "file_extension": ".py",
   "mimetype": "text/x-python",
   "name": "python",
   "nbconvert_exporter": "python",
   "pygments_lexer": "ipython3",
   "version": "3.12.6"
  }
 },
 "nbformat": 4,
 "nbformat_minor": 5
}
