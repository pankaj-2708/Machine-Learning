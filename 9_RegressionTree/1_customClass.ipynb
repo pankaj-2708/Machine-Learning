{
 "cells": [
  {
   "cell_type": "code",
   "execution_count": 1,
   "id": "58f28bb1-6fbb-47b6-831c-95c3b9d760ec",
   "metadata": {},
   "outputs": [],
   "source": [
    "import numpy as np\n",
    "import pandas as pd"
   ]
  },
  {
   "cell_type": "code",
   "execution_count": 2,
   "id": "b1ad6d85-1e20-4294-b26b-a25ab1832484",
   "metadata": {},
   "outputs": [],
   "source": [
    "class RegressionTree:\n",
    "    def __init__(self,depth):\n",
    "        self.tree=None\n",
    "        self.max_depth=depth\n",
    "\n",
    "    def mae(self,arr):\n",
    "        mean=arr.mean()\n",
    "        \n",
    "        return np.mean(abs(arr-mean))\n",
    "\n",
    "    def mse(self,arr):\n",
    "        mean=arr.mean()\n",
    "        \n",
    "        return np.mean((arr-mean)**2)\n",
    "        \n",
    "\n",
    "    def _best_split(self, X ,y):\n",
    "        best_mse=float('inf')\n",
    "        best_index=None\n",
    "        best_thresh=None\n",
    "        for feature_index in range(X.shape[1]):\n",
    "            thresholds=np.unique(X[:,feature_index])\n",
    "            for threshold in thresholds:\n",
    "                left_mask=X[:,feature_index]<=threshold\n",
    "                right_mask=X[:,feature_index]>threshold\n",
    "\n",
    "                if len(y[left_mask])==0 or len(y[right_mask])==0:\n",
    "                    continue\n",
    "                left_mse=self.mse(y[left_mask])\n",
    "                right_mse=self.mse(y[right_mask])\n",
    "\n",
    "                weighted_mse=(len(y[left_mask])*left_mse+ len(y[right_mask])* right_mse)/len(y)\n",
    "                \n",
    "                if weighted_mse<best_mse:\n",
    "                    best_mse=weighted_mse\n",
    "                    best_index=feature_index\n",
    "                    best_thresh=threshold\n",
    "\n",
    "        return best_index,best_thresh\n",
    "\n",
    "    def build_Tree(self,X,y,depth=0):\n",
    "        if len(np.unique(y)) == 1 or depth == self.max_depth:\n",
    "            return {\"leaf\":True,'value':np.mean(y)}\n",
    "            \n",
    "        feature_index,threshold=self._best_split(X,y)\n",
    "\n",
    "        if feature_index==None:\n",
    "            return {\"leaf\":True,'value':np.mean(y)}\n",
    "\n",
    "        left_mask=X[:,feature_index]<=threshold\n",
    "        right_mask=X[:,feature_index]>threshold\n",
    "\n",
    "        left_subtree=self.build_Tree(X[left_mask],y[left_mask],depth+1)\n",
    "        right_subtree=self.build_Tree(X[right_mask],y[right_mask],depth+1)\n",
    "\n",
    "        return {\n",
    "                'leaf':False,\n",
    "                'feature_index':feature_index,\n",
    "                'threshold':threshold,\n",
    "                'left_subtree':left_subtree,\n",
    "                'right_subtree':right_subtree\n",
    "               }\n",
    "        \n",
    "    def fit(self,X,y):\n",
    "        self.Tree=self.build_Tree(X,y)\n",
    "\n",
    "    def predict_one(self,x):\n",
    "        tree=self.Tree\n",
    "        while not tree['leaf']:\n",
    "            if x[tree['feature_index']] <= tree['threshold']:\n",
    "                tree = tree['left_subtree']\n",
    "            else:\n",
    "                tree = tree['right_subtree']\n",
    "        return tree['value']\n",
    "        \n",
    "    def predict(self,X):\n",
    "        return [self.predict_one(i) for i in X]"
   ]
  },
  {
   "cell_type": "code",
   "execution_count": 9,
   "id": "42db0492-2c97-47df-9424-7494a7c9aa35",
   "metadata": {},
   "outputs": [
    {
     "name": "stdout",
     "output_type": "stream",
     "text": [
      "MSE: 919.3340765765324\n",
      "MAE: 23.317970889685093\n",
      "r2score: 0.9188569048590992\n"
     ]
    }
   ],
   "source": [
    "from sklearn.datasets import make_regression\n",
    "from sklearn.model_selection import train_test_split\n",
    "\n",
    "X,y=make_regression(n_features=3,n_targets=1,random_state=42)\n",
    "X_train, X_test, y_train, y_test = train_test_split(X,y, test_size=0.2, random_state=42)\n",
    "\n",
    "tree = RegressionTree(3)\n",
    "tree.fit(X_train, y_train)\n",
    "y_pred = tree.predict(X_test)\n",
    "\n",
    "from sklearn.metrics import mean_squared_error,r2_score,mean_absolute_error,r2_score\n",
    "\n",
    "mse = mean_squared_error(y_test, y_pred)\n",
    "mae = mean_absolute_error(y_test, y_pred)\n",
    "r2 = r2_score(y_test, y_pred)\n",
    "print(\"MSE:\", mse)\n",
    "print(\"MAE:\", mae)\n",
    "print(\"r2score:\", r2)\n",
    "\n"
   ]
  },
  {
   "cell_type": "code",
   "execution_count": null,
   "id": "4e2ba310-d729-49ec-9179-6f68c05feb0a",
   "metadata": {},
   "outputs": [],
   "source": []
  }
 ],
 "metadata": {
  "kernelspec": {
   "display_name": "Python 3 (ipykernel)",
   "language": "python",
   "name": "python3"
  },
  "language_info": {
   "codemirror_mode": {
    "name": "ipython",
    "version": 3
   },
   "file_extension": ".py",
   "mimetype": "text/x-python",
   "name": "python",
   "nbconvert_exporter": "python",
   "pygments_lexer": "ipython3",
   "version": "3.12.6"
  }
 },
 "nbformat": 4,
 "nbformat_minor": 5
}
