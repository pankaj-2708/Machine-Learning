{
 "cells": [
  {
   "cell_type": "code",
   "execution_count": null,
   "id": "afb997e4-5fd4-4911-adc6-1cc1a93afe29",
   "metadata": {},
   "outputs": [],
   "source": [
    "logistic regression is applied to linearly seprable data \n",
    "\n",
    "in this we use general eqn of line Ax+By+c=0"
   ]
  }
 ],
 "metadata": {
  "kernelspec": {
   "display_name": "Python 3 (ipykernel)",
   "language": "python",
   "name": "python3"
  },
  "language_info": {
   "codemirror_mode": {
    "name": "ipython",
    "version": 3
   },
   "file_extension": ".py",
   "mimetype": "text/x-python",
   "name": "python",
   "nbconvert_exporter": "python",
   "pygments_lexer": "ipython3",
   "version": "3.12.6"
  }
 },
 "nbformat": 4,
 "nbformat_minor": 5
}
