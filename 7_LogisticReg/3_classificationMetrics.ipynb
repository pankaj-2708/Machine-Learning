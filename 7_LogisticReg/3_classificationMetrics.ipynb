{
 "cells": [
  {
   "cell_type": "markdown",
   "id": "c727f029-a961-424a-b284-835f7a4b6f56",
   "metadata": {},
   "source": [
    "# accuracy score \n",
    "\n",
    "=total_correct_classificaton/total_classification * 100\n",
    "\n",
    "demirts of accuracy score\n",
    "\n",
    "    it dont tell which type of error \n",
    "    it is misleading when dataset is not balanced\n",
    "    eg\n",
    "        Suppose you have a dataset where:\n",
    "\n",
    "            95% of the samples are class 0\n",
    "            \n",
    "            5% of the samples are class 1\n",
    "            \n",
    "            Now, if a model predicts everything as class 0, it will be:\n",
    "            \n",
    "            Accuracy = 95/100 = 95%\n",
    "           \n",
    "             \n",
    "            ✅ Looks high,\n",
    "            ❌ But it's useless — it fails to detect any minority class instances."
   ]
  },
  {
   "cell_type": "markdown",
   "id": "32a53cb9-cb51-46b7-8710-7b6aedfb9f1e",
   "metadata": {},
   "source": [
    "# confusion matrix\n",
    "\n",
    "<img src=\"https://spotintelligence.com/wp-content/uploads/2024/09/confusion-matrix.jpg\">\n",
    "\n",
    "True positive - if actual value is 1 and predicted is 1\n",
    "False positive - if actual value is 0 and predicted is 1\n",
    "\n",
    "True negative - if actual value is 0 and predicted is 0\n",
    "False negative - if actual value is 0 and predicted is 1\n",
    "\n",
    "we can calculate acc score from confusion mat = true positive + true negative / ( true positive + true negative + false positive  + false negative )"
   ]
  },
  {
   "cell_type": "markdown",
   "id": "091d362a-c9c8-4d97-b170-4afdb0854818",
   "metadata": {},
   "source": [
    "Types of Error \n",
    "\n",
    "Type I error (False Positive) and Type II error (False Negative)"
   ]
  },
  {
   "cell_type": "markdown",
   "id": "5c496c9d-681c-408e-8e09-8844d986c44e",
   "metadata": {},
   "source": [
    "# Precision\n",
    "\n",
    "precision= True Positive / ( true positive + false positive )\n",
    "\n",
    "used when accuracy score tie and type 1 error is more dangeorus"
   ]
  },
  {
   "cell_type": "markdown",
   "id": "b1ef3782-3042-4884-ba74-1bd7d889ffb1",
   "metadata": {},
   "source": [
    "# Recall\n",
    "\n",
    "recall = True Positive / ( true positive + false negative )\n",
    "\n",
    "used when accuracy score tie and type 2 error is more dangeorus"
   ]
  },
  {
   "cell_type": "markdown",
   "id": "2375f3ad-5ff5-4be1-ae68-eb21a624da7e",
   "metadata": {},
   "source": [
    "# F1 Score\n",
    "\n",
    "f1Score=harmonic mean of precision and recall = 2* precision * recall/ (precision +recall)\n",
    "\n",
    "harmonic mean remain closer to lower value \n",
    "\n",
    "used when we dont know which type of error is more dangerous "
   ]
  },
  {
   "cell_type": "code",
   "execution_count": null,
   "id": "98a63538-5dc3-443f-be69-049bfb4da99e",
   "metadata": {},
   "outputs": [],
   "source": []
  }
 ],
 "metadata": {
  "kernelspec": {
   "display_name": "Python 3 (ipykernel)",
   "language": "python",
   "name": "python3"
  },
  "language_info": {
   "codemirror_mode": {
    "name": "ipython",
    "version": 3
   },
   "file_extension": ".py",
   "mimetype": "text/x-python",
   "name": "python",
   "nbconvert_exporter": "python",
   "pygments_lexer": "ipython3",
   "version": "3.12.7"
  }
 },
 "nbformat": 4,
 "nbformat_minor": 5
}
