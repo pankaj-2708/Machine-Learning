{
 "cells": [
  {
   "cell_type": "markdown",
   "id": "c727f029-a961-424a-b284-835f7a4b6f56",
   "metadata": {},
   "source": [
    "# accuracy score \n",
    "\n",
    "=total_correct_classificaton/total_classification * 100\n",
    "\n",
    "demirts of accuracy score\n",
    "\n",
    "    it dont tell which type of error \n",
    "    it is misleading when dataset is not balanced\n",
    "    eg\n",
    "        Suppose you have a dataset where:\n",
    "\n",
    "            95% of the samples are class 0\n",
    "            \n",
    "            5% of the samples are class 1\n",
    "            \n",
    "            Now, if a model predicts everything as class 0, it will be:\n",
    "            \n",
    "            Accuracy = 95/100 = 95%\n",
    "           \n",
    "             \n",
    "            ✅ Looks high,\n",
    "            ❌ But it's useless — it fails to detect any minority class instances."
   ]
  },
  {
   "cell_type": "markdown",
   "id": "32a53cb9-cb51-46b7-8710-7b6aedfb9f1e",
   "metadata": {},
   "source": [
    "# confusion matrix\n",
    "\n",
    "<img src=\"https://spotintelligence.com/wp-content/uploads/2024/09/confusion-matrix.jpg\">\n",
    "\n",
    "True positive - if actual value is 1 and predicted is 1\n",
    "False positive - if actual value is 0 and predicted is 1\n",
    "\n",
    "True negative - if actual value is 0 and predicted is 0\n",
    "False negative - if actual value is 0 and predicted is 1\n",
    "\n",
    "we can calculate acc score from confusion mat = true positive + true negative / ( true positive + true negative + false positive  + false negative )"
   ]
  },
  {
   "cell_type": "markdown",
   "id": "091d362a-c9c8-4d97-b170-4afdb0854818",
   "metadata": {},
   "source": [
    "Types of Error \n",
    "\n",
    "Type I error (False Positive) and Type II error (False Negative)"
   ]
  },
  {
   "cell_type": "markdown",
   "id": "5c496c9d-681c-408e-8e09-8844d986c44e",
   "metadata": {},
   "source": [
    "# Precision\n",
    "\n",
    "precision= True Positive / ( true positive + false positive )\n",
    "\n",
    "used when accuracy score tie and type 1 error is more dangeorus"
   ]
  },
  {
   "cell_type": "markdown",
   "id": "b1ef3782-3042-4884-ba74-1bd7d889ffb1",
   "metadata": {},
   "source": [
    "# Recall\n",
    "\n",
    "recall = True Positive / ( true positive + false negative )\n",
    "\n",
    "used when accuracy score tie and type 2 error is more dangeorus"
   ]
  },
  {
   "cell_type": "markdown",
   "id": "2375f3ad-5ff5-4be1-ae68-eb21a624da7e",
   "metadata": {},
   "source": [
    "# F1 Score\n",
    "\n",
    "f1Score=harmonic mean of precision and recall = 2* precision * recall/ (precision +recall)\n",
    "\n",
    "harmonic mean remain closer to lower value \n",
    "\n",
    "used when we dont know which type of error is more dangerous "
   ]
  },
  {
   "cell_type": "markdown",
   "id": "4a07f000-d78c-4137-89af-b82783c3df74",
   "metadata": {},
   "source": [
    "# for more than 2 class of outputs\n",
    "\n",
    "precision , recall and f1 score are calculated for each class and then we have two ways to calculate final ans\n",
    "\n",
    "1- macro\n",
    "    average of all \n",
    "\n",
    "2-weighted\n",
    "    each precision/recall is multiplied with the no of their samples/total no of samples\n"
   ]
  },
  {
   "cell_type": "code",
   "execution_count": 1,
   "id": "ec3c4903-9dab-4441-b7ea-6dcb5f07b7f6",
   "metadata": {},
   "outputs": [
    {
     "ename": "NameError",
     "evalue": "name 'y_tes' is not defined",
     "output_type": "error",
     "traceback": [
      "\u001b[1;31m---------------------------------------------------------------------------\u001b[0m",
      "\u001b[1;31mNameError\u001b[0m                                 Traceback (most recent call last)",
      "Cell \u001b[1;32mIn[1], line 4\u001b[0m\n\u001b[0;32m      1\u001b[0m \u001b[38;5;28;01mfrom\u001b[39;00m \u001b[38;5;21;01msklearn\u001b[39;00m\u001b[38;5;21;01m.\u001b[39;00m\u001b[38;5;21;01mmetrics\u001b[39;00m \u001b[38;5;28;01mimport\u001b[39;00m precision_score, recall_score , accuracy_score , f1_score ,classification_report\n\u001b[0;32m      3\u001b[0m \u001b[38;5;66;03m# for 2 class\u001b[39;00m\n\u001b[1;32m----> 4\u001b[0m precision_score(\u001b[43my_tes\u001b[49m,y_pred)\n\u001b[0;32m      5\u001b[0m recall_score(y_tes,y_pred)\n\u001b[0;32m      6\u001b[0m accuracy_score(y_tes,y_pred)\n",
      "\u001b[1;31mNameError\u001b[0m: name 'y_tes' is not defined"
     ]
    }
   ],
   "source": [
    "from sklearn.metrics import precision_score, recall_score , accuracy_score , f1_score ,classification_report\n",
    "\n",
    "# for 2 class\n",
    "precision_score(y_tes,y_pred)\n",
    "recall_score(y_tes,y_pred)\n",
    "accuracy_score(y_tes,y_pred)\n",
    "f1_score(y_tes,y_pred)\n",
    "\n",
    "# for 3 class\n",
    "precision_score(y_tes,y_pred,average=\"weighted\")\n",
    "recall_score(y_tes,y_pred,average=\"weighted\")\n",
    "f1_score(y_tes,y_pred,average=\"weighted\")\n",
    "\n",
    "precision_score(y_tes,y_pred,average=\"macro\")\n",
    "recall_score(y_tes,y_pred,average=\"macro\")\n",
    "f1_score(y_tes,y_pred,average=\"macro\")\n",
    "\n",
    "# it will give metrics of each class\n",
    "precision_score(y_tes,y_pred,average=\"None\")\n",
    "recall_score(y_tes,y_pred,average=\"None\")\n",
    "f1_score(y_tes,y_pred,average=\"None\")\n",
    "\n",
    "\n",
    "# it will give evrything above\n",
    "classification_report(y_test,y_pred)"
   ]
  },
  {
   "cell_type": "code",
   "execution_count": null,
   "id": "04ce38eb-9722-4fbd-844f-9bf8a7d9579e",
   "metadata": {},
   "outputs": [],
   "source": []
  }
 ],
 "metadata": {
  "kernelspec": {
   "display_name": "Python 3 (ipykernel)",
   "language": "python",
   "name": "python3"
  },
  "language_info": {
   "codemirror_mode": {
    "name": "ipython",
    "version": 3
   },
   "file_extension": ".py",
   "mimetype": "text/x-python",
   "name": "python",
   "nbconvert_exporter": "python",
   "pygments_lexer": "ipython3",
   "version": "3.12.6"
  }
 },
 "nbformat": 4,
 "nbformat_minor": 5
}
