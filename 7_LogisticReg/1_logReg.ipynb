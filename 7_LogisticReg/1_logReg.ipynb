{
 "cells": [
  {
   "cell_type": "markdown",
   "id": "6886af7b-a7f9-45de-95cc-ec6f4ff5053c",
   "metadata": {},
   "source": [
    "what we do in perceptron  to get the line\n",
    "\n",
    "    if a point is not perfectly classified will update our line\n",
    "\n",
    "it is not enough to get a perfect line"
   ]
  },
  {
   "cell_type": "markdown",
   "id": "1bd9bf5a-29ac-497d-8885-420ce761d920",
   "metadata": {},
   "source": [
    "we want a perfect fit line which we are not getting from perceptron trick what we require is\n",
    "\n",
    "    1- points which are perfectly fit also affect the line they push they line away from them\n",
    "\n",
    "        points which are closer push more and points which are are far push less\n",
    "\n",
    "    2- points which are not perfectly fit also affect the line they pull they line towards them\n",
    "\n",
    "        points which are more far pull more and points which are close pull less\n",
    "\n",
    "the above requirements can be achived using sigmoid function\n",
    "\n",
    "    sigmoid function = 1/(1+e**(-z))   here in place of z we provide y_hat\n",
    "\n",
    "    graph of sigmoid function \n",
    "\n",
    "<img src=\"https://www.researchgate.net/profile/Muhammad-Farrukh-5/publication/338580890/figure/fig3/AS:847253531021312@1579012391039/Graph-for-Sigmoid-Function.ppm\" />"
   ]
  },
  {
   "cell_type": "markdown",
   "id": "dd7f239b-c99b-41ec-8958-be780b05d527",
   "metadata": {},
   "source": [
    "sigmoid function can also be seen as probability function\n",
    "\n",
    "    when y_hat=0 sigmoid(0)=0.5 or probability(event)=0.5\n",
    "\n",
    "eg\n",
    "    Suppose you're predicting whether a student will pass an exam based on the number of hours studied:\n",
    "    \n",
    "    Let’s say we have:\n",
    "\n",
    "        z=2×(hours studied)−5\n",
    "\n",
    "    | Hours Studied | z = 2x - 5 | Sigmoid(z) = Probability of Passing |\n",
    "    | ------------- | ----------- | ----------------------------------- |\n",
    "    | 0             | -5          | $\\approx 0.0067$ (\\~0.7%)           |\n",
    "    | 2.5           | 0           | $0.5$ (50%)                         |\n",
    "    | 4             | 3           | $\\approx 0.95$ (95%)                |\n",
    "    | 5             | 5           | $\\approx 0.993$ (99.3%)             |\n"
   ]
  },
  {
   "cell_type": "code",
   "execution_count": 2,
   "id": "a44f4736-35d2-41bf-82c2-718dd8365c16",
   "metadata": {},
   "outputs": [],
   "source": [
    "import numpy as np\n",
    "import pandas as pd\n",
    "import matplotlib.pyplot as plt\n",
    "from sklearn.datasets import make_classification"
   ]
  },
  {
   "cell_type": "code",
   "execution_count": 39,
   "id": "1b44d8e9-7129-480b-9a42-70a40fe69daa",
   "metadata": {},
   "outputs": [
    {
     "data": {
      "text/plain": [
       "array([1, 0, 1, 1, 1, 1, 0, 0, 0, 1, 1, 1, 0, 0, 0, 0, 0, 1, 1, 1, 1, 1,\n",
       "       0, 0, 1, 1, 1, 1, 0, 1, 0, 1, 1, 1, 1, 0, 0, 0, 0, 0, 0, 1, 0, 0,\n",
       "       1, 1, 1, 1, 0, 1, 0, 1, 0, 0, 1, 0, 0, 0, 1, 0, 1, 1, 1, 1, 1, 0,\n",
       "       1, 0, 1, 1, 0, 1, 0, 1, 0, 1, 0, 0, 1, 1, 1, 1, 0, 0, 1, 0, 0, 1,\n",
       "       1, 0, 0, 0, 0, 0, 0, 0, 0, 1, 0, 0])"
      ]
     },
     "execution_count": 39,
     "metadata": {},
     "output_type": "execute_result"
    }
   ],
   "source": [
    "X,y=make_classification(n_samples=100,n_features=2,n_clusters_per_class=1,n_informative=1,n_redundant=0,random_state=42,class_sep=5)\n",
    "y"
   ]
  },
  {
   "cell_type": "code",
   "execution_count": 38,
   "id": "934c8179-ec17-4357-93cc-b9ac5ba0be7c",
   "metadata": {},
   "outputs": [
    {
     "data": {
      "text/plain": [
       "<matplotlib.collections.PathCollection at 0x230595e30e0>"
      ]
     },
     "execution_count": 38,
     "metadata": {},
     "output_type": "execute_result"
    },
    {
     "data": {
      "image/png": "[encoded data removed]",
      "text/plain": [
       "<Figure size 640x480 with 1 Axes>"
      ]
     },
     "metadata": {},
     "output_type": "display_data"
    }
   ],
   "source": [
    "plt.scatter(x=X[:,0],y=X[:,1],c=y)"
   ]
  },
  {
   "cell_type": "code",
   "execution_count": 31,
   "id": "79483904-4888-41ea-9f72-6e2961b1c216",
   "metadata": {},
   "outputs": [],
   "source": [
    "from sklearn.model_selection import train_test_split\n",
    "\n",
    "X_train,X_test,y_train,y_test=train_test_split(X,y,test_size=0.2)"
   ]
  },
  {
   "cell_type": "code",
   "execution_count": 32,
   "id": "fdc69617-f84d-4061-9d82-14013dd44c56",
   "metadata": {},
   "outputs": [],
   "source": [
    "class PerceptronSigmoid:\n",
    "    def __init__(self,lr,epochs):\n",
    "        self.lr=lr\n",
    "        self.epochs=epochs\n",
    "        self.weights=None\n",
    "\n",
    "    def activateSigmoid(self,i):\n",
    "        return 1/(1+np.exp(i))\n",
    "\n",
    "    def activate(self,i):\n",
    "        return 1 if i>0.5 else 0\n",
    "        \n",
    "    def fit(self,X,y):\n",
    "        X=np.insert(X,0,1,axis=1)\n",
    "        self.weights=np.ones(X.shape[1])\n",
    "        \n",
    "        for i in range(self.epochs):\n",
    "            i=np.random.randint(0,len(X))\n",
    "            y_hat=self.activateSigmoid(X[i].T@self.weights)\n",
    "            self.weights=self.weights+self.lr*X[i]*(y[i]-y_hat)\n",
    "        return self.weights\n",
    "    def predict(self,X):\n",
    "        X=np.insert(X,0,1,axis=1)\n",
    "        return [ self.activate(i)  for i in X @ self.weights ]"
   ]
  },
  {
   "cell_type": "code",
   "execution_count": 33,
   "id": "6d560dde-bc25-4541-b1c6-f83b10f35325",
   "metadata": {},
   "outputs": [],
   "source": [
    "class Perceptron:\n",
    "    def __init__(self,lr,epochs):\n",
    "        self.lr=lr\n",
    "        self.epochs=epochs\n",
    "        self.weights=None\n",
    "\n",
    "    def activate(self,i):\n",
    "        \n",
    "        return 1 if i>0 else 0\n",
    "        \n",
    "    def fit(self,X,y):\n",
    "        X=np.insert(X,0,1,axis=1)\n",
    "        self.weights=np.ones(X.shape[1])\n",
    "        \n",
    "        for i in range(self.epochs):\n",
    "            i=np.random.randint(0,len(X))\n",
    "            y_hat=self.activate(X[i].T@self.weights)\n",
    "            self.weights=self.weights+self.lr*X[i]*(y[i]-y_hat)\n",
    "        return self.weights\n",
    "    def predict(self,X):\n",
    "        X=np.insert(X,0,1,axis=1)\n",
    "        return [ self.activate(i)  for i in X @ self.weights ]"
   ]
  },
  {
   "cell_type": "code",
   "execution_count": 34,
   "id": "ebc34971-6405-4c33-acb7-68ba93d186e8",
   "metadata": {},
   "outputs": [
    {
     "name": "stderr",
     "output_type": "stream",
     "text": [
      "C:\\Users\\panka\\AppData\\Local\\Temp\\ipykernel_28352\\2429539921.py:8: RuntimeWarning: overflow encountered in exp\n",
      "  return 1/(1+np.exp(i))\n"
     ]
    }
   ],
   "source": [
    "pr=PerceptronSigmoid(0.01,1000)\n",
    "wts=pr.fit(X_train,y_train)\n",
    "y_pred=pr.predict(X_test)"
   ]
  },
  {
   "cell_type": "code",
   "execution_count": 35,
   "id": "0a547f22-ce3f-433f-ad57-1fae72c79519",
   "metadata": {},
   "outputs": [],
   "source": [
    "# olderone for comp\n",
    "pr=Perceptron(0.01,1000)\n",
    "wts2=pr.fit(X_train,y_train)\n",
    "y_pred2=pr.predict(X_test)"
   ]
  },
  {
   "cell_type": "code",
   "execution_count": 36,
   "id": "fadf3ece-05dd-4c49-9312-9ce6b9b9751b",
   "metadata": {},
   "outputs": [
    {
     "data": {
      "text/plain": [
       "<matplotlib.legend.Legend at 0x2305943dc70>"
      ]
     },
     "execution_count": 36,
     "metadata": {},
     "output_type": "execute_result"
    },
    {
     "data": {
      "image/png": "[encoded data removed]",
      "text/plain": [
       "<Figure size 640x480 with 1 Axes>"
      ]
     },
     "metadata": {},
     "output_type": "display_data"
    }
   ],
   "source": [
    "x=np.linspace(-1,0.5,100)\n",
    "\n",
    "# w0+w1x+w2y=0\n",
    "\n",
    "coef=-wts[1]/wts[2]\n",
    "intercept=-wts[0]/wts[2]\n",
    "coef2=-wts2[1]/wts2[2]\n",
    "intercept2=-wts2[0]/wts2[2]\n",
    "plt.plot(x,x * coef +intercept,\"r-\",label=\"sigmoid\")\n",
    "plt.plot(x,x * coef2 +intercept2,\"b-\",label=\"step\")\n",
    "plt.scatter(x=X[:,0],y=X[:,1],c=y)\n",
    "plt.legend()"
   ]
  },
  {
   "cell_type": "code",
   "execution_count": null,
   "id": "67cecccd-7462-46ad-bb91-4ed8292ace0a",
   "metadata": {},
   "outputs": [],
   "source": []
  }
 ],
 "metadata": {
  "kernelspec": {
   "display_name": "Python 3 (ipykernel)",
   "language": "python",
   "name": "python3"
  },
  "language_info": {
   "codemirror_mode": {
    "name": "ipython",
    "version": 3
   },
   "file_extension": ".py",
   "mimetype": "text/x-python",
   "name": "python",
   "nbconvert_exporter": "python",
   "pygments_lexer": "ipython3",
   "version": "3.12.6"
  }
 },
 "nbformat": 4,
 "nbformat_minor": 5
}
