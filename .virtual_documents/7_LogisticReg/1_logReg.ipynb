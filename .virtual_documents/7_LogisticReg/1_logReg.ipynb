








import numpy as np
import pandas as pd
import matplotlib.pyplot as plt
from sklearn.datasets import make_classification


X,y=make_classification(n_samples=100,n_features=2,n_clusters_per_class=1,n_informative=1,n_redundant=0,random_state=42,class_sep=5)
y


plt.scatter(x=X[:,0],y=X[:,1],c=y)


from sklearn.model_selection import train_test_split

X_train,X_test,y_train,y_test=train_test_split(X,y,test_size=0.2)


class PerceptronSigmoid:
    def __init__(self,lr,epochs):
        self.lr=lr
        self.epochs=epochs
        self.weights=None

    def activateSigmoid(self,i):
        return 1/(1+np.exp(i))

    def activate(self,i):
        return 1 if i>0.5 else 0
        
    def fit(self,X,y):
        X=np.insert(X,0,1,axis=1)
        self.weights=np.ones(X.shape[1])
        
        for i in range(self.epochs):
            i=np.random.randint(0,len(X))
            y_hat=self.activateSigmoid(X[i].T@self.weights)
            self.weights=self.weights+self.lr*X[i]*(y[i]-y_hat)
        return self.weights
    def predict(self,X):
        X=np.insert(X,0,1,axis=1)
        return [ self.activate(i)  for i in X @ self.weights ]


class Perceptron:
    def __init__(self,lr,epochs):
        self.lr=lr
        self.epochs=epochs
        self.weights=None

    def activate(self,i):
        
        return 1 if i>0 else 0
        
    def fit(self,X,y):
        X=np.insert(X,0,1,axis=1)
        self.weights=np.ones(X.shape[1])
        
        for i in range(self.epochs):
            i=np.random.randint(0,len(X))
            y_hat=self.activate(X[i].T@self.weights)
            self.weights=self.weights+self.lr*X[i]*(y[i]-y_hat)
        return self.weights
    def predict(self,X):
        X=np.insert(X,0,1,axis=1)
        return [ self.activate(i)  for i in X @ self.weights ]


pr=PerceptronSigmoid(0.01,1000)
wts=pr.fit(X_train,y_train)
y_pred=pr.predict(X_test)


# olderone for comp
pr=Perceptron(0.01,1000)
wts2=pr.fit(X_train,y_train)
y_pred2=pr.predict(X_test)


x=np.linspace(-1,0.5,100)

# w0+w1x+w2y=0

coef=-wts[1]/wts[2]
intercept=-wts[0]/wts[2]
coef2=-wts2[1]/wts2[2]
intercept2=-wts2[0]/wts2[2]
plt.plot(x,x * coef +intercept,"r-",label="sigmoid")
plt.plot(x,x * coef2 +intercept2,"b-",label="step")
plt.scatter(x=X[:,0],y=X[:,1],c=y)
plt.legend()
