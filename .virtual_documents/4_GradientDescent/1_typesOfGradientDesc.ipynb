











import numpy as np
import pandas as pd
import matplotlib.pyplot as plt
import seaborn as sns
from sklearn.datasets import make_regression


X,y=make_regression(n_samples=100,n_features=3,n_informative=1,n_targets=1,noise=20)


from sklearn.model_selection import train_test_split

X_train,X_test,y_train,y_test=train_test_split(X,y,test_size=0.1)


from sklearn.linear_model import LinearRegression
from sklearn.metrics import r2_score
lr=LinearRegression()
lr.fit(X_train,y_train)
print(lr.coef_,lr.intercept_)
y_pred=lr.predict(X_test)
print("r2 score " , r2_score(y_test,y_pred))


class GD:
    def __init__(self,epochs,lr):
        self.epochs=epochs
        self.lr=lr
        
    def fit(self,X,y):
        
        X=np.insert(X,0,1,axis=1)
        
        self.b=np.ones(X.shape[1])
        
        for p in range(self.epochs):
            y_pred=X @ self.b
            error = y - y_pred 
            gradient=-2 * X.T @ error / len(X)
            self.b=self.b - gradient * self.lr
        
        print(self.b)

    def predict(self,X):
        X=np.insert(X,0,1,axis=1)

        ans=X@self.b

        return ans


gd=GD(40,0.1)
gd.fit(X_train,y_train)
y_pred=gd.predict(X_test)
y_pred


print("r2 score " , r2_score(y_test,y_pred))


# sckit learn dont provide and implementation for it 
