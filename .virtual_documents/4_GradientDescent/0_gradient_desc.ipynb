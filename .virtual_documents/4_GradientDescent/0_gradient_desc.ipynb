


import numpy as np
import pandas as pd
import matplotlib.pyplot as plt
import seaborn as sns
from sklearn.datasets import make_regression


X,y=make_regression(n_samples=100,n_features=1,n_informative=1,n_targets=1,noise=20)


from sklearn.model_selection import train_test_split

X_train,X_test,y_train,y_test=train_test_split(X,y,test_size=0.1)


from sklearn.linear_model import LinearRegression
from sklearn.metrics import r2_score
lr=LinearRegression()
lr.fit(X_train,y_train)
print(lr.coef_,lr.intercept_)
y_pred=lr.predict(X_test)
r2_score(y_test,y_pred)


class GD:
    def __init__(self,epochs,lr):
        self.epochs=epochs
        self.m=1
        self.mList=[1]
        self.bList=[1]
        self.lr=lr
        self.b=1
        self.cost=[]
        
    def fit(self,X,y):
        for i in range(self.epochs):
            self.m=self.m+self.lr*2*sum((y-X.ravel()*self.m - self.b)*X.ravel())
            self.b=self.b+self.lr*2*sum(y-X.ravel()*self.m - self.b)
            self.mList.append(self.m)
            self.bList.append(self.b)
            self.cost.append(sum((y - self.m * X.ravel() -self.b) ** 2))
        print(self.m,self.b)

    def predict(self,X):
        y=self.m*X.ravel()+self.b
        return y


epochs=60
gd=GD(epochs,0.001)
gd.fit(X_train,y_train)


y_pred=gd.predict(X_test)
r2_score(y_test,y_pred)
gd.cost





%matplotlib inline
from matplotlib.animation import FuncAnimation
import matplotlib.animation as animation


fig, ax = plt.subplots(figsize=(9,5))
#fig.set_tight_layout(True)

x_i = np.arange(-3, 3, 0.1)
y_i = x_i*(-27) -150
ax.scatter(X, y)
line, = ax.plot(x_i, x_i*50 - 4, 'r-', linewidth=2)

def update(i):
    label = 'epoch {0}'.format(i + 1)
    line.set_ydata(x_i*gd.mList[i] + gd.bList[i])
    ax.set_xlabel(label)
    # return line, ax

anim = FuncAnimation(fig, update, repeat=True, frames=epochs, interval=500)
anim.save("lineWithepochs.gif")
#f = r"animation4.gif" 
#writergif = animation.PillowWriter(fps=2) 
#anim.save(f, writer=writergif)


fig, ax = plt.subplots(figsize=(9,5))
#fig.set_tight_layout(True)

x_i = np.arange(-3, 3, 0.1)
y_i = x_i*(-27) -150
ax.scatter(X, y)

line, = ax.plot(x_i, x_i*50 - 4, 'r-', linewidth=2)

def update(i):
    label = 'epoch {0}'.format(i + 1)
    line.set_ydata(x_i*gd.mList[i] + gd.bList[i])
    ax.set_xlabel(label)
    # return line, ax

anim = FuncAnimation(fig, update, repeat=True, frames=epochs, interval=500)
anim.save("lineWithepochs.gif")









