{
 "cells": [
  {
   "cell_type": "raw",
   "id": "bdb485cd-5655-4d13-8de3-727c65e2cf5d",
   "metadata": {},
   "source": [
    "it has twp types \n",
    "1-KNN imputer\n",
    "    it works on the algo KNN\n",
    "\n",
    "    steps-\n",
    "        1- we calculate k neigherset neighbours of missing value using its other points in the row by nan_euclidean_dist\n",
    "        2- we take avergage of these k neigherst neighbours and fill missing value\n",
    "\n",
    "            nan_euclidean_dist is used because other columns can also contain missing value\n",
    "                nan_euclidean_dist(x,y) = sqrt(weight * sq. distance from present coordinates)\n",
    "                ref- https://scikit-learn.org/stable/modules/generated/sklearn.metrics.pairwise.nan_euclidean_distances.html\n",
    "        adv-\n",
    "            it gives better results\n",
    "        dis-\n",
    "            it require lots of computation\n",
    "            we have to deploy our whole X_train in server\n",
    "\n",
    "2-iterative imputer\n",
    "\n",
    "    Steps-\n",
    "            Initialize missing values with a simple strategy (like mean or median).\n",
    "\n",
    "            Iterate through features with missing values.\n",
    "            \n",
    "            For each feature:\n",
    "            \n",
    "                Treat it as the target.\n",
    "                \n",
    "                Use the other features (which have current filled values) as predictors.\n",
    "                \n",
    "                Train a regression model (like BayesianRidge or DecisionTreeRegressor) to predict the missing values.\n",
    "                \n",
    "                Update the missing values with the model's predictions.\n",
    "\n",
    "                calculate difference between new values and old values\n",
    "            \n",
    "            Repeat steps 2–4 for a fixed number of iterations or until differnce of all values become zero"
   ]
  },
  {
   "cell_type": "code",
   "execution_count": 1,
   "id": "828c5a77-972f-4dba-a65e-5f8c622b6621",
   "metadata": {},
   "outputs": [],
   "source": [
    "import numpy as np\n",
    "import pandas as pd\n",
    "import matplotlib.pyplot as plt\n",
    "import seaborn as sns"
   ]
  },
  {
   "cell_type": "code",
   "execution_count": 16,
   "id": "bcff46c8-1522-42a4-bad5-7fde832c09ab",
   "metadata": {},
   "outputs": [
    {
     "data": {
      "text/html": [
       "<div>\n",
       "<style scoped>\n",
       "    .dataframe tbody tr th:only-of-type {\n",
       "        vertical-align: middle;\n",
       "    }\n",
       "\n",
       "    .dataframe tbody tr th {\n",
       "        vertical-align: top;\n",
       "    }\n",
       "\n",
       "    .dataframe thead th {\n",
       "        text-align: right;\n",
       "    }\n",
       "</style>\n",
       "<table border=\"1\" class=\"dataframe\">\n",
       "  <thead>\n",
       "    <tr style=\"text-align: right;\">\n",
       "      <th></th>\n",
       "      <th>Survived</th>\n",
       "      <th>Age</th>\n",
       "      <th>Fare</th>\n",
       "    </tr>\n",
       "  </thead>\n",
       "  <tbody>\n",
       "    <tr>\n",
       "      <th>130</th>\n",
       "      <td>0</td>\n",
       "      <td>33.0</td>\n",
       "      <td>7.8958</td>\n",
       "    </tr>\n",
       "    <tr>\n",
       "      <th>369</th>\n",
       "      <td>1</td>\n",
       "      <td>24.0</td>\n",
       "      <td>69.3000</td>\n",
       "    </tr>\n",
       "    <tr>\n",
       "      <th>414</th>\n",
       "      <td>1</td>\n",
       "      <td>44.0</td>\n",
       "      <td>7.9250</td>\n",
       "    </tr>\n",
       "    <tr>\n",
       "      <th>287</th>\n",
       "      <td>0</td>\n",
       "      <td>22.0</td>\n",
       "      <td>7.8958</td>\n",
       "    </tr>\n",
       "    <tr>\n",
       "      <th>726</th>\n",
       "      <td>1</td>\n",
       "      <td>30.0</td>\n",
       "      <td>21.0000</td>\n",
       "    </tr>\n",
       "  </tbody>\n",
       "</table>\n",
       "</div>"
      ],
      "text/plain": [
       "     Survived   Age     Fare\n",
       "130         0  33.0   7.8958\n",
       "369         1  24.0  69.3000\n",
       "414         1  44.0   7.9250\n",
       "287         0  22.0   7.8958\n",
       "726         1  30.0  21.0000"
      ]
     },
     "execution_count": 16,
     "metadata": {},
     "output_type": "execute_result"
    }
   ],
   "source": [
    "df=pd.read_csv(\"../Datasets/train.csv\",usecols=[\"Age\",\"Fare\",\"Survived\"])\n",
    "df.sample(5)"
   ]
  },
  {
   "cell_type": "code",
   "execution_count": 17,
   "id": "c3dfdad0-de9a-484c-b29e-7890898b11f2",
   "metadata": {},
   "outputs": [
    {
     "data": {
      "text/plain": [
       "Survived     0.00000\n",
       "Age         19.86532\n",
       "Fare         0.00000\n",
       "dtype: float64"
      ]
     },
     "execution_count": 17,
     "metadata": {},
     "output_type": "execute_result"
    }
   ],
   "source": [
    "df.isnull().mean()*100"
   ]
  },
  {
   "cell_type": "code",
   "execution_count": 22,
   "id": "66f1bf6f-292c-4161-bbaf-22e830474971",
   "metadata": {},
   "outputs": [],
   "source": [
    "from sklearn.model_selection import train_test_split\n",
    "\n",
    "X_train,X_test=train_test_split(df,test_size=0.25)"
   ]
  },
  {
   "cell_type": "code",
   "execution_count": 23,
   "id": "7a138b7f-c05b-478b-8ef0-dfc8347f57f8",
   "metadata": {},
   "outputs": [],
   "source": [
    "from sklearn.impute import KNNImputer\n",
    "\n",
    "imp=KNNImputer()\n",
    "\n",
    "imp.fit(X_train)\n",
    "\n",
    "X_train_trans=imp.transform(X_train)\n",
    "X_test_trans=imp.transform(X_test)\n",
    "\n",
    "X_train_trans=pd.DataFrame(X_train_trans,columns=df.columns)\n",
    "X_test_trans=pd.DataFrame(X_test_trans,columns=df.columns)"
   ]
  },
  {
   "cell_type": "code",
   "execution_count": 24,
   "id": "4f2cff15-c679-47a4-9c50-a39ef0533fb9",
   "metadata": {},
   "outputs": [
    {
     "data": {
      "text/html": [
       "<div>\n",
       "<style scoped>\n",
       "    .dataframe tbody tr th:only-of-type {\n",
       "        vertical-align: middle;\n",
       "    }\n",
       "\n",
       "    .dataframe tbody tr th {\n",
       "        vertical-align: top;\n",
       "    }\n",
       "\n",
       "    .dataframe thead th {\n",
       "        text-align: right;\n",
       "    }\n",
       "</style>\n",
       "<table border=\"1\" class=\"dataframe\">\n",
       "  <thead>\n",
       "    <tr style=\"text-align: right;\">\n",
       "      <th></th>\n",
       "      <th>Survived</th>\n",
       "      <th>Age</th>\n",
       "      <th>Fare</th>\n",
       "    </tr>\n",
       "  </thead>\n",
       "  <tbody>\n",
       "    <tr>\n",
       "      <th>0</th>\n",
       "      <td>0.0</td>\n",
       "      <td>70.0</td>\n",
       "      <td>10.5000</td>\n",
       "    </tr>\n",
       "    <tr>\n",
       "      <th>1</th>\n",
       "      <td>0.0</td>\n",
       "      <td>42.0</td>\n",
       "      <td>8.4042</td>\n",
       "    </tr>\n",
       "    <tr>\n",
       "      <th>2</th>\n",
       "      <td>0.0</td>\n",
       "      <td>55.0</td>\n",
       "      <td>30.5000</td>\n",
       "    </tr>\n",
       "    <tr>\n",
       "      <th>3</th>\n",
       "      <td>0.0</td>\n",
       "      <td>25.4</td>\n",
       "      <td>7.8958</td>\n",
       "    </tr>\n",
       "    <tr>\n",
       "      <th>4</th>\n",
       "      <td>0.0</td>\n",
       "      <td>65.0</td>\n",
       "      <td>26.5500</td>\n",
       "    </tr>\n",
       "    <tr>\n",
       "      <th>...</th>\n",
       "      <td>...</td>\n",
       "      <td>...</td>\n",
       "      <td>...</td>\n",
       "    </tr>\n",
       "    <tr>\n",
       "      <th>218</th>\n",
       "      <td>0.0</td>\n",
       "      <td>31.1</td>\n",
       "      <td>7.2250</td>\n",
       "    </tr>\n",
       "    <tr>\n",
       "      <th>219</th>\n",
       "      <td>1.0</td>\n",
       "      <td>16.0</td>\n",
       "      <td>86.5000</td>\n",
       "    </tr>\n",
       "    <tr>\n",
       "      <th>220</th>\n",
       "      <td>0.0</td>\n",
       "      <td>36.4</td>\n",
       "      <td>0.0000</td>\n",
       "    </tr>\n",
       "    <tr>\n",
       "      <th>221</th>\n",
       "      <td>0.0</td>\n",
       "      <td>39.0</td>\n",
       "      <td>24.1500</td>\n",
       "    </tr>\n",
       "    <tr>\n",
       "      <th>222</th>\n",
       "      <td>1.0</td>\n",
       "      <td>24.0</td>\n",
       "      <td>69.3000</td>\n",
       "    </tr>\n",
       "  </tbody>\n",
       "</table>\n",
       "<p>223 rows × 3 columns</p>\n",
       "</div>"
      ],
      "text/plain": [
       "     Survived   Age     Fare\n",
       "0         0.0  70.0  10.5000\n",
       "1         0.0  42.0   8.4042\n",
       "2         0.0  55.0  30.5000\n",
       "3         0.0  25.4   7.8958\n",
       "4         0.0  65.0  26.5500\n",
       "..        ...   ...      ...\n",
       "218       0.0  31.1   7.2250\n",
       "219       1.0  16.0  86.5000\n",
       "220       0.0  36.4   0.0000\n",
       "221       0.0  39.0  24.1500\n",
       "222       1.0  24.0  69.3000\n",
       "\n",
       "[223 rows x 3 columns]"
      ]
     },
     "execution_count": 24,
     "metadata": {},
     "output_type": "execute_result"
    }
   ],
   "source": [
    "X_test_trans"
   ]
  },
  {
   "cell_type": "code",
   "execution_count": 25,
   "id": "83311a7b-eade-45cb-b1a2-166e8166aa01",
   "metadata": {},
   "outputs": [
    {
     "name": "stdout",
     "output_type": "stream",
     "text": [
      "Orignal Variance  211.44367958863495\n",
      "New Variance 180.82574895434018\n"
     ]
    }
   ],
   "source": [
    "# checking changes in variance due to KNN imputation\n",
    "print(\"Orignal Variance \",X_train[\"Age\"].var())\n",
    "print(\"New Variance\",X_train_trans[\"Age\"].var())"
   ]
  },
  {
   "cell_type": "code",
   "execution_count": 27,
   "id": "98ac1095-cac6-4b5b-a828-dbb6f2b2174f",
   "metadata": {},
   "outputs": [
    {
     "name": "stderr",
     "output_type": "stream",
     "text": [
      "C:\\Users\\panka\\AppData\\Local\\Temp\\ipykernel_9788\\1662053704.py:1: UserWarning: \n",
      "\n",
      "`distplot` is a deprecated function and will be removed in seaborn v0.14.0.\n",
      "\n",
      "Please adapt your code to use either `displot` (a figure-level function with\n",
      "similar flexibility) or `kdeplot` (an axes-level function for kernel density plots).\n",
      "\n",
      "For a guide to updating your code to use the new functions, please see\n",
      "https://gist.github.com/mwaskom/de44147ed2974457ad6372750bbe5751\n",
      "\n",
      "  sns.distplot(X_train[\"Age\"],color=\"red\",hist=False,label=\"Orignal Age\")\n",
      "C:\\Users\\panka\\AppData\\Local\\Temp\\ipykernel_9788\\1662053704.py:2: UserWarning: \n",
      "\n",
      "`distplot` is a deprecated function and will be removed in seaborn v0.14.0.\n",
      "\n",
      "Please adapt your code to use either `displot` (a figure-level function with\n",
      "similar flexibility) or `kdeplot` (an axes-level function for kernel density plots).\n",
      "\n",
      "For a guide to updating your code to use the new functions, please see\n",
      "https://gist.github.com/mwaskom/de44147ed2974457ad6372750bbe5751\n",
      "\n",
      "  sns.distplot(X_train_trans[\"Age\"],color=\"green\",hist=False,label=\"Imputed Age\")\n"
     ]
    },
    {
     "data": {
      "text/plain": [
       "<matplotlib.legend.Legend at 0x2afb6ae0a10>"
      ]
     },
     "execution_count": 27,
     "metadata": {},
     "output_type": "execute_result"
    },
    {
     "data": {
      "image/png": "[encoded data removed]",
      "text/plain": [
       "<Figure size 640x480 with 1 Axes>"
      ]
     },
     "metadata": {},
     "output_type": "display_data"
    }
   ],
   "source": [
    "sns.distplot(X_train[\"Age\"],color=\"red\",hist=False,label=\"Orignal Age\")\n",
    "sns.distplot(X_train_trans[\"Age\"],color=\"green\",hist=False,label=\"Imputed Age\")\n",
    "plt.legend()"
   ]
  },
  {
   "cell_type": "markdown",
   "id": "5d72ec0f-18ca-49f1-a0f8-7cdf79604d55",
   "metadata": {},
   "source": [
    "# Iterative Imputer"
   ]
  },
  {
   "cell_type": "code",
   "execution_count": 83,
   "id": "58dce58e-0214-40c4-8031-dce1d7788c65",
   "metadata": {},
   "outputs": [
    {
     "data": {
      "text/html": [
       "<div>\n",
       "<style scoped>\n",
       "    .dataframe tbody tr th:only-of-type {\n",
       "        vertical-align: middle;\n",
       "    }\n",
       "\n",
       "    .dataframe tbody tr th {\n",
       "        vertical-align: top;\n",
       "    }\n",
       "\n",
       "    .dataframe thead th {\n",
       "        text-align: right;\n",
       "    }\n",
       "</style>\n",
       "<table border=\"1\" class=\"dataframe\">\n",
       "  <thead>\n",
       "    <tr style=\"text-align: right;\">\n",
       "      <th></th>\n",
       "      <th>Survived</th>\n",
       "      <th>Age</th>\n",
       "      <th>Fare</th>\n",
       "    </tr>\n",
       "  </thead>\n",
       "  <tbody>\n",
       "    <tr>\n",
       "      <th>886</th>\n",
       "      <td>0</td>\n",
       "      <td>27.0</td>\n",
       "      <td>13.00</td>\n",
       "    </tr>\n",
       "    <tr>\n",
       "      <th>887</th>\n",
       "      <td>1</td>\n",
       "      <td>19.0</td>\n",
       "      <td>30.00</td>\n",
       "    </tr>\n",
       "    <tr>\n",
       "      <th>888</th>\n",
       "      <td>0</td>\n",
       "      <td>NaN</td>\n",
       "      <td>23.45</td>\n",
       "    </tr>\n",
       "    <tr>\n",
       "      <th>889</th>\n",
       "      <td>1</td>\n",
       "      <td>26.0</td>\n",
       "      <td>30.00</td>\n",
       "    </tr>\n",
       "    <tr>\n",
       "      <th>890</th>\n",
       "      <td>0</td>\n",
       "      <td>32.0</td>\n",
       "      <td>7.75</td>\n",
       "    </tr>\n",
       "  </tbody>\n",
       "</table>\n",
       "</div>"
      ],
      "text/plain": [
       "     Survived   Age   Fare\n",
       "886         0  27.0  13.00\n",
       "887         1  19.0  30.00\n",
       "888         0   NaN  23.45\n",
       "889         1  26.0  30.00\n",
       "890         0  32.0   7.75"
      ]
     },
     "execution_count": 83,
     "metadata": {},
     "output_type": "execute_result"
    }
   ],
   "source": [
    "from sklearn.linear_model import LinearRegression\n",
    "def IterativeImputer(new_df):\n",
    "    columns=df.columns\n",
    "    for i in columns:\n",
    "        new_df[i]=df[i].fillna(df[i].mean())\n",
    "\n",
    "    for j in range(10):\n",
    "        for i in columns:\n",
    "            missing_mask=new_df[i].isnull()\n",
    "            if missing_mask.sum()==0:\n",
    "                continue\n",
    "            notMissing=~missing\n",
    "            X_train=df.loc(notMissing,columns-i)\n",
    "            Y_train=df.loc(notMissing,i)\n",
    "            X_pred=df.loc(Missing,columns-i)\n",
    "            lr=LinearRegression()\n",
    "            lr.fit(X_train,Y_train)\n",
    "            new_df.loc[missing_mask,i]=lr.predict(X_pred)\n",
    "            \n",
    "    return new_df\n",
    "    \n",
    "df=pd.read_csv(\"../Datasets/train.csv\",usecols=[\"Age\",\"Fare\",\"Survived\"])\n",
    "df.tail()\n",
    "        "
   ]
  },
  {
   "cell_type": "code",
   "execution_count": 84,
   "id": "d6a09408-a23f-4e9d-9da6-54dc9bb1855b",
   "metadata": {},
   "outputs": [
    {
     "data": {
      "text/html": [
       "<div>\n",
       "<style scoped>\n",
       "    .dataframe tbody tr th:only-of-type {\n",
       "        vertical-align: middle;\n",
       "    }\n",
       "\n",
       "    .dataframe tbody tr th {\n",
       "        vertical-align: top;\n",
       "    }\n",
       "\n",
       "    .dataframe thead th {\n",
       "        text-align: right;\n",
       "    }\n",
       "</style>\n",
       "<table border=\"1\" class=\"dataframe\">\n",
       "  <thead>\n",
       "    <tr style=\"text-align: right;\">\n",
       "      <th></th>\n",
       "      <th>Survived</th>\n",
       "      <th>Age</th>\n",
       "      <th>Fare</th>\n",
       "    </tr>\n",
       "  </thead>\n",
       "  <tbody>\n",
       "    <tr>\n",
       "      <th>886</th>\n",
       "      <td>0</td>\n",
       "      <td>27.000000</td>\n",
       "      <td>13.00</td>\n",
       "    </tr>\n",
       "    <tr>\n",
       "      <th>887</th>\n",
       "      <td>1</td>\n",
       "      <td>19.000000</td>\n",
       "      <td>30.00</td>\n",
       "    </tr>\n",
       "    <tr>\n",
       "      <th>888</th>\n",
       "      <td>0</td>\n",
       "      <td>29.699118</td>\n",
       "      <td>23.45</td>\n",
       "    </tr>\n",
       "    <tr>\n",
       "      <th>889</th>\n",
       "      <td>1</td>\n",
       "      <td>26.000000</td>\n",
       "      <td>30.00</td>\n",
       "    </tr>\n",
       "    <tr>\n",
       "      <th>890</th>\n",
       "      <td>0</td>\n",
       "      <td>32.000000</td>\n",
       "      <td>7.75</td>\n",
       "    </tr>\n",
       "  </tbody>\n",
       "</table>\n",
       "</div>"
      ],
      "text/plain": [
       "     Survived        Age   Fare\n",
       "886         0  27.000000  13.00\n",
       "887         1  19.000000  30.00\n",
       "888         0  29.699118  23.45\n",
       "889         1  26.000000  30.00\n",
       "890         0  32.000000   7.75"
      ]
     },
     "execution_count": 84,
     "metadata": {},
     "output_type": "execute_result"
    }
   ],
   "source": [
    "ndf=IterativeImputer(df)\n",
    "df.tail()"
   ]
  },
  {
   "cell_type": "code",
   "execution_count": 85,
   "id": "64fb7c75-95ad-4330-b534-5184b0d9f5ea",
   "metadata": {},
   "outputs": [
    {
     "name": "stderr",
     "output_type": "stream",
     "text": [
      "C:\\Users\\panka\\AppData\\Local\\Temp\\ipykernel_9788\\3859900841.py:1: UserWarning: \n",
      "\n",
      "`distplot` is a deprecated function and will be removed in seaborn v0.14.0.\n",
      "\n",
      "Please adapt your code to use either `displot` (a figure-level function with\n",
      "similar flexibility) or `kdeplot` (an axes-level function for kernel density plots).\n",
      "\n",
      "For a guide to updating your code to use the new functions, please see\n",
      "https://gist.github.com/mwaskom/de44147ed2974457ad6372750bbe5751\n",
      "\n",
      "  sns.distplot(df[\"Age\"],color=\"red\",hist=False,label=\"Orignal Age\")\n",
      "C:\\Users\\panka\\AppData\\Local\\Temp\\ipykernel_9788\\3859900841.py:2: UserWarning: \n",
      "\n",
      "`distplot` is a deprecated function and will be removed in seaborn v0.14.0.\n",
      "\n",
      "Please adapt your code to use either `displot` (a figure-level function with\n",
      "similar flexibility) or `kdeplot` (an axes-level function for kernel density plots).\n",
      "\n",
      "For a guide to updating your code to use the new functions, please see\n",
      "https://gist.github.com/mwaskom/de44147ed2974457ad6372750bbe5751\n",
      "\n",
      "  sns.distplot(ndf[\"Age\"],color=\"green\",hist=False,label=\"Imputed Age\")\n"
     ]
    },
    {
     "data": {
      "text/plain": [
       "<matplotlib.legend.Legend at 0x2afbc63b7d0>"
      ]
     },
     "execution_count": 85,
     "metadata": {},
     "output_type": "execute_result"
    },
    {
     "data": {
      "image/png": "[encoded data removed]",
      "text/plain": [
       "<Figure size 640x480 with 1 Axes>"
      ]
     },
     "metadata": {},
     "output_type": "display_data"
    }
   ],
   "source": [
    "sns.distplot(df[\"Age\"],color=\"red\",hist=False,label=\"Orignal Age\")\n",
    "sns.distplot(ndf[\"Age\"],color=\"green\",hist=False,label=\"Imputed Age\")\n",
    "plt.legend()"
   ]
  },
  {
   "cell_type": "code",
   "execution_count": 86,
   "id": "1e0a5800-7970-44ee-aa5c-485c5554a227",
   "metadata": {},
   "outputs": [
    {
     "name": "stdout",
     "output_type": "stream",
     "text": [
      "Orignal Variance  169.0523999372108\n",
      "New Variance 169.0523999372108\n"
     ]
    }
   ],
   "source": [
    "print(\"Orignal Variance \",df[\"Age\"].var())\n",
    "print(\"New Variance\",ndf[\"Age\"].var())"
   ]
  },
  {
   "cell_type": "code",
   "execution_count": 88,
   "id": "7099acef-acc5-441d-91b7-013b8b0d4b85",
   "metadata": {},
   "outputs": [],
   "source": [
    "# by sklearn\n",
    "from sklearn.model_selection import train_test_split\n",
    "\n",
    "X_train,X_test=train_test_split(df,test_size=0.25)\n"
   ]
  },
  {
   "cell_type": "code",
   "execution_count": 100,
   "id": "00545a54-a4f1-4557-9534-b0fc43cb764d",
   "metadata": {},
   "outputs": [],
   "source": [
    "from sklearn.impute import IterativeImputer\n",
    "from sklearn.experimental import enable_iterative_imputer\n",
    "\n",
    "imp=IterativeImputer(estimator=LinearRegression(), \n",
    "                           max_iter=10,random_state=42)\n",
    "# Setting random_state=42 (or any fixed integer) ensures that the results are reproducible. Every time you run the code, you'll get the same train-test split, same model behavior, and same imputed values.\n",
    "imp.fit(X_train)\n",
    "X_train_trans=imp.transform(X_train)\n",
    "X_test_trans=imp.transform(X_test)\n",
    "\n",
    "X_train_trans=pd.DataFrame(X_train_trans,columns=X_train.columns)\n",
    "X_test_trans=pd.DataFrame(X_test_trans,columns=X_train.columns)"
   ]
  },
  {
   "cell_type": "code",
   "execution_count": 101,
   "id": "378d582e-16a4-4f47-9403-1e38f57dcfab",
   "metadata": {},
   "outputs": [
    {
     "name": "stderr",
     "output_type": "stream",
     "text": [
      "C:\\Users\\panka\\AppData\\Local\\Temp\\ipykernel_9788\\1662053704.py:1: UserWarning: \n",
      "\n",
      "`distplot` is a deprecated function and will be removed in seaborn v0.14.0.\n",
      "\n",
      "Please adapt your code to use either `displot` (a figure-level function with\n",
      "similar flexibility) or `kdeplot` (an axes-level function for kernel density plots).\n",
      "\n",
      "For a guide to updating your code to use the new functions, please see\n",
      "https://gist.github.com/mwaskom/de44147ed2974457ad6372750bbe5751\n",
      "\n",
      "  sns.distplot(X_train[\"Age\"],color=\"red\",hist=False,label=\"Orignal Age\")\n",
      "C:\\Users\\panka\\AppData\\Local\\Temp\\ipykernel_9788\\1662053704.py:2: UserWarning: \n",
      "\n",
      "`distplot` is a deprecated function and will be removed in seaborn v0.14.0.\n",
      "\n",
      "Please adapt your code to use either `displot` (a figure-level function with\n",
      "similar flexibility) or `kdeplot` (an axes-level function for kernel density plots).\n",
      "\n",
      "For a guide to updating your code to use the new functions, please see\n",
      "https://gist.github.com/mwaskom/de44147ed2974457ad6372750bbe5751\n",
      "\n",
      "  sns.distplot(X_train_trans[\"Age\"],color=\"green\",hist=False,label=\"Imputed Age\")\n"
     ]
    },
    {
     "data": {
      "text/plain": [
       "<matplotlib.legend.Legend at 0x2afbbcc3680>"
      ]
     },
     "execution_count": 101,
     "metadata": {},
     "output_type": "execute_result"
    },
    {
     "data": {
      "image/png": "[encoded data removed]",
      "text/plain": [
       "<Figure size 640x480 with 1 Axes>"
      ]
     },
     "metadata": {},
     "output_type": "display_data"
    }
   ],
   "source": [
    "sns.distplot(X_train[\"Age\"],color=\"red\",hist=False,label=\"Orignal Age\")\n",
    "sns.distplot(X_train_trans[\"Age\"],color=\"green\",hist=False,label=\"Imputed Age\")\n",
    "plt.legend()"
   ]
  },
  {
   "cell_type": "code",
   "execution_count": null,
   "id": "b8386bd5-2950-41e8-996a-115fdc0b78b8",
   "metadata": {},
   "outputs": [],
   "source": []
  }
 ],
 "metadata": {
  "kernelspec": {
   "display_name": "Python 3 (ipykernel)",
   "language": "python",
   "name": "python3"
  },
  "language_info": {
   "codemirror_mode": {
    "name": "ipython",
    "version": 3
   },
   "file_extension": ".py",
   "mimetype": "text/x-python",
   "name": "python",
   "nbconvert_exporter": "python",
   "pygments_lexer": "ipython3",
   "version": "3.12.6"
  }
 },
 "nbformat": 4,
 "nbformat_minor": 5
}
