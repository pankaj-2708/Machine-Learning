{
 "cells": [
  {
   "cell_type": "markdown",
   "id": "5861e2b6-6e8c-42e1-961d-51b79328dd87",
   "metadata": {},
   "source": [
    "The curse of dimensionality refers to the problems that arise when working with high-dimensional data, such as increased sparsity, overfitting, and \n",
    "ineffective distance metrics. As dimensions increase, models require more data and computation, and performance often degrades.\n",
    "\n",
    "Solution: Use feature selection, Or Feature Extrantion .\n",
    "\n",
    "feature selection is used at the end so will study it at the end\n",
    "\n",
    "feature extraction\n",
    "\n",
    "    PCA (Principle Component Analysis (PCA))\n",
    "    \n",
    "        PCA convert a higher dimensional data to a lower dimensional data with maintaing essence of data\n",
    "\n",
    "        benefits of PCA\n",
    "        \n",
    "            faster execution of code\n",
    "\n",
    "            better visualisation\n"
   ]
  },
  {
   "cell_type": "markdown",
   "id": "e301bd80-ad11-4052-807f-84d690033e63",
   "metadata": {},
   "source": [
    "# PCA"
   ]
  },
  {
   "cell_type": "markdown",
   "id": "b9a437e7-72d5-4cae-9919-47625751fcec",
   "metadata": {},
   "source": [
    "## Covariance\n",
    "\n",
    "<img src=\"../../images/Covariance.jpg\" alt=\"covariance matrix\">\n",
    "<img src=\"https://d138zd1ktt9iqe.cloudfront.net/media/seo_landing_files/covariance-formula-1-1624005488.png\" alt=\"covariance formula\">\n"
   ]
  },
  {
   "cell_type": "markdown",
   "id": "3a2a2e8d-0b24-4051-9814-747d605c965f",
   "metadata": {},
   "source": [
    "Steps of PCA\n",
    "\n",
    "<a href=\"https://www.geeksforgeeks.org/principal-component-analysis-pca/\" target=\"_blank\">\n",
    "  click here for steps of PCA\n",
    "</a>"
   ]
  },
  {
   "cell_type": "code",
   "execution_count": 2,
   "id": "08651129-a43b-4d9f-af96-4d1d5f677be6",
   "metadata": {},
   "outputs": [
    {
     "data": {
      "text/html": [
       "<div>\n",
       "<style scoped>\n",
       "    .dataframe tbody tr th:only-of-type {\n",
       "        vertical-align: middle;\n",
       "    }\n",
       "\n",
       "    .dataframe tbody tr th {\n",
       "        vertical-align: top;\n",
       "    }\n",
       "\n",
       "    .dataframe thead th {\n",
       "        text-align: right;\n",
       "    }\n",
       "</style>\n",
       "<table border=\"1\" class=\"dataframe\">\n",
       "  <thead>\n",
       "    <tr style=\"text-align: right;\">\n",
       "      <th></th>\n",
       "      <th>feature1</th>\n",
       "      <th>feature2</th>\n",
       "      <th>feature3</th>\n",
       "      <th>target</th>\n",
       "    </tr>\n",
       "  </thead>\n",
       "  <tbody>\n",
       "    <tr>\n",
       "      <th>25</th>\n",
       "      <td>-1.009942</td>\n",
       "      <td>0.441736</td>\n",
       "      <td>1.128877</td>\n",
       "      <td>1</td>\n",
       "    </tr>\n",
       "    <tr>\n",
       "      <th>38</th>\n",
       "      <td>-0.331617</td>\n",
       "      <td>-1.632386</td>\n",
       "      <td>0.619114</td>\n",
       "      <td>1</td>\n",
       "    </tr>\n",
       "    <tr>\n",
       "      <th>24</th>\n",
       "      <td>0.322272</td>\n",
       "      <td>0.060343</td>\n",
       "      <td>-1.043450</td>\n",
       "      <td>1</td>\n",
       "    </tr>\n",
       "    <tr>\n",
       "      <th>15</th>\n",
       "      <td>1.233898</td>\n",
       "      <td>0.052778</td>\n",
       "      <td>-0.261576</td>\n",
       "      <td>0</td>\n",
       "    </tr>\n",
       "    <tr>\n",
       "      <th>13</th>\n",
       "      <td>2.823378</td>\n",
       "      <td>-0.332863</td>\n",
       "      <td>2.637391</td>\n",
       "      <td>0</td>\n",
       "    </tr>\n",
       "  </tbody>\n",
       "</table>\n",
       "</div>"
      ],
      "text/plain": [
       "    feature1  feature2  feature3  target\n",
       "25 -1.009942  0.441736  1.128877       1\n",
       "38 -0.331617 -1.632386  0.619114       1\n",
       "24  0.322272  0.060343 -1.043450       1\n",
       "15  1.233898  0.052778 -0.261576       0\n",
       "13  2.823378 -0.332863  2.637391       0"
      ]
     },
     "execution_count": 2,
     "metadata": {},
     "output_type": "execute_result"
    }
   ],
   "source": [
    "# creating a df\n",
    "\n",
    "import numpy as np\n",
    "import pandas as pd\n",
    "\n",
    "np.random.seed(23) #You're telling NumPy to initialize the random number generator with the seed value 23.\n",
    "\n",
    "mu_vec1 = np.array([0,0,0])\n",
    "cov_mat1 = np.array([[1,0,0],[0,1,0],[0,0,1]])\n",
    "class1_sample = np.random.multivariate_normal(mu_vec1, cov_mat1, 20)\n",
    "\n",
    "df = pd.DataFrame(class1_sample,columns=['feature1','feature2','feature3'])\n",
    "df['target'] = 1\n",
    "\n",
    "mu_vec2 = np.array([1,1,1])\n",
    "cov_mat2 = np.array([[1,0,0],[0,1,0],[0,0,1]])\n",
    "class2_sample = np.random.multivariate_normal(mu_vec2, cov_mat2, 20)\n",
    "\n",
    "df1 = pd.DataFrame(class2_sample,columns=['feature1','feature2','feature3'])\n",
    "\n",
    "df1['target'] = 0\n",
    "\n",
    "df = pd.concat([df1,df],ignore_index=True)\n",
    "\n",
    "df = df.sample(40)\n",
    "df.sample(5)"
   ]
  },
  {
   "cell_type": "code",
   "execution_count": 4,
   "id": "344b6e84-2854-4e84-98c1-f3ebaf056adc",
   "metadata": {},
   "outputs": [
    {
     "data": {
      "application/vnd.plotly.v1+json": {
       "config": {
        "plotlyServerURL": "https://plot.ly"
       },
       "data": [
        {
         "hovertemplate": "color=0<br>x=%{x}<br>y=%{y}<br>z=%{z}<extra></extra>",
         "legendgroup": "0",
         "marker": {
          "color": "#636efa",
          "symbol": "circle"
         },
         "mode": "markers",
         "name": "0",
         "scene": "scene",
         "showlegend": true,
         "type": "scatter3d",
         "x": {
          "_inputArray": {
           "0": 1.6768601170532067,
           "1": 0.17706132172337474,
           "10": 0.384865020097948,
           "11": -1.3898657754386314,
           "12": 0.7318578608644015,
           "13": 1.4378924797989945,
           "14": 2.0110588281146295,
           "15": 0.8989070866188994,
           "16": -1.0278608158717826,
           "17": 2.8233782346552134,
           "18": 1.4251400838063584,
           "19": 1.0102293014527666,
           "2": 2.2244306714266617,
           "3": -0.7232530617473043,
           "4": 0.748854969154346,
           "5": -0.7643136425986499,
           "6": 1.2507365519778904,
           "7": 0.2907460978401567,
           "8": 0.2046367811112989,
           "9": 1.2338979906194056,
           "bdata": "NF0rRmvU+j9wHhgF8qnGP4T5z06iywFAJPjdmuMk579S4T6ynvbnP3QhW+JBdei/boKqVAQD9D8OcGqFlZvSPzxDN72JMco/p/fE0Qu+8z8EfKzkoKHYP+pqNeXjPPa/vnU3LWFr5z+Wan6LmwH3P+SsyAKmFgBAS3dly9jD7D+eJdAuHnLwv6qo8FNHlgZAEaxCsF/N9j98NTMz5inwPw==",
           "dtype": "f8",
           "shape": "20"
          },
          "bdata": "NF0rRmvU+j9wHhgF8qnGP4T5z06iywFAJPjdmuMk579S4T6ynvbnP3QhW+JBdei/boKqVAQD9D8OcGqFlZvSPzxDN72JMco/p/fE0Qu+8z8EfKzkoKHYP+pqNeXjPPa/vnU3LWFr5z+Wan6LmwH3P+SsyAKmFgBAS3dly9jD7D+eJdAuHnLwv6qo8FNHlgZAEaxCsF/N9j98NTMz5inwPw==",
          "dtype": "f8"
         },
         "y": {
          "_inputArray": {
           "0": 4.18750268656634,
           "1": -0.5981091105055654,
           "10": 1.3235456388910538,
           "11": 0.666726013990038,
           "12": 0.5174405213469511,
           "13": 1.0997232778942088,
           "14": 1.920995835754021,
           "15": 0.43596037244890706,
           "16": 1.1314163050665054,
           "17": -0.3328634933589074,
           "18": 1.4411515070733996,
           "19": 1.4378296804363488,
           "2": 0.23040095103627523,
           "3": 1.4612592026030409,
           "4": 2.5931106271669737,
           "5": 1.5665039251630606,
           "6": 0.186383752529512,
           "7": 0.866975408938099,
           "8": -0.011535196733127862,
           "9": 0.05277755327574496,
           "bdata": "uNtKtADAEEAm9KG3tSPjv0iE1ULHfc0/q4tiVFFh9z/UvNTIsL4EQHsYemtmEPk/iFzPPGzbxz9caXo2Q77rPwAQxuXDn4e/cH+Q0qgFqz/bzhwxPi31P05ZL8vRVeU/WO6ZbN+O4D/rSZNvd5jxPyQNJSFmvP4/QkiBVcbm2z+xv8b7RxryP4SQgK6iTdW/v2H34fQO9z90E+uxWQH3Pw==",
           "dtype": "f8",
           "shape": "20"
          },
          "bdata": "uNtKtADAEEAm9KG3tSPjv0iE1ULHfc0/q4tiVFFh9z/UvNTIsL4EQHsYemtmEPk/iFzPPGzbxz9caXo2Q77rPwAQxuXDn4e/cH+Q0qgFqz/bzhwxPi31P05ZL8vRVeU/WO6ZbN+O4D/rSZNvd5jxPyQNJSFmvP4/QkiBVcbm2z+xv8b7RxryP4SQgK6iTdW/v2H34fQO9z90E+uxWQH3Pw==",
          "dtype": "f8"
         },
         "z": {
          "_inputArray": {
           "0": -0.08056475466158819,
           "1": 1.2265117397883383,
           "10": -0.10319346470680757,
           "11": 1.3435167629532274,
           "12": 2.24461048024104,
           "13": 1.0654060685240712,
           "14": 2.9330898341447647,
           "15": 0.8209644048616087,
           "16": 2.6032341109823642,
           "17": 2.637391221142465,
           "18": 0.1825606731342252,
           "19": 2.3277876229781747,
           "2": 1.192119679126636,
           "3": -0.08536677887702493,
           "4": 1.1708177071000119,
           "5": 1.5487880741551483,
           "6": 1.7036236301227703,
           "7": 0.9826430605096849,
           "8": 3.150779945582542,
           "9": -0.26157620770596424,
           "bdata": "QFZ7SuSftL/L0CjGyp/zP0lFrBXsEvM/UBJx45jatb/4JxlZq7vyPyLm7gDWx/g/IB8B2gpC+z9p+RDcz3HvP4BbuR3MNAlAgJBgIqq90L+QoBMM42q6v7ow6G4Lf/U/KSfnVvb0AUBIVdQ75wvxP/wNj833dgdAXPHBJFdF6j/SAdRnbNMEQN+DjJFgGQVA3NhS7CVexz94zAUeT58CQA==",
           "dtype": "f8",
           "shape": "20"
          },
          "bdata": "QFZ7SuSftL/L0CjGyp/zP0lFrBXsEvM/UBJx45jatb/4JxlZq7vyPyLm7gDWx/g/IB8B2gpC+z9p+RDcz3HvP4BbuR3MNAlAgJBgIqq90L+QoBMM42q6v7ow6G4Lf/U/KSfnVvb0AUBIVdQ75wvxP/wNj833dgdAXPHBJFdF6j/SAdRnbNMEQN+DjJFgGQVA3NhS7CVexz94zAUeT58CQA==",
          "dtype": "f8"
         }
        },
        {
         "hovertemplate": "color=1<br>x=%{x}<br>y=%{y}<br>z=%{z}<extra></extra>",
         "legendgroup": "1",
         "marker": {
          "color": "#EF553B",
          "symbol": "circle"
         },
         "mode": "markers",
         "name": "1",
         "scene": "scene",
         "showlegend": true,
         "type": "scatter3d",
         "x": {
          "_inputArray": {
           "0": 0.4206226601707677,
           "1": 1.267248208556173,
           "10": 0.9486338224949431,
           "11": 0.19014135902999077,
           "12": -0.33161712421648365,
           "13": 1.0453712773541248,
           "14": -1.8380677677579502,
           "15": 1.7722582783074305,
           "16": 0.6669880563534684,
           "17": 0.2411063006295245,
           "18": 0.3222715203493051,
           "19": -0.045437575551217295,
           "2": 1.9684347309098176,
           "3": -2.506230317020084,
           "4": -0.022538890053004787,
           "5": -0.4208439532804717,
           "6": -0.9925737805679127,
           "7": -0.3675481161171661,
           "8": 1.4153199811177524,
           "9": -1.0099418765878465,
           "bdata": "QfVYTnvr2j8VnboOpkb0P3UXmWq1fv8/gcL+esIMBMA8xqlObxSXv0vGA3ob79q/IADNFirD7780f5uI6IXXv9dqhJAmpfY/BeQs0Lgo8L8W2W9RNVvuP5FNU1ONVsg/XWrTBzc51b+QnoY717nwP0iiZb+5aP2/tVQWfytb/D9HixtW91flP+sbCD6S3M4/F0cVuhig1D8fBwEKmEOnvw==",
           "dtype": "f8",
           "shape": "20"
          },
          "bdata": "QfVYTnvr2j8VnboOpkb0P3UXmWq1fv8/gcL+esIMBMA8xqlObxSXv0vGA3ob79q/IADNFirD7780f5uI6IXXv9dqhJAmpfY/BeQs0Lgo8L8W2W9RNVvuP5FNU1ONVsg/XWrTBzc51b+QnoY717nwP0iiZb+5aP2/tVQWfytb/D9HixtW91flP+sbCD6S3M4/F0cVuhig1D8fBwEKmEOnvw==",
          "dtype": "f8"
         },
         "y": {
          "_inputArray": {
           "0": 0.4116196409053295,
           "1": 0.1736336445901797,
           "10": 0.701671794647513,
           "11": 0.5121373947463833,
           "12": -1.6323862806162175,
           "13": 0.5381619658145043,
           "14": -0.9387686311201282,
           "15": -0.34745899102186334,
           "16": 0.02581308106627382,
           "17": -0.9525095310029906,
           "18": 0.060342934170488124,
           "19": 1.0408859729898774,
           "2": -0.547788007825014,
           "3": 0.14696049490701452,
           "4": 0.013422257380147637,
           "5": -0.5519885648743732,
           "6": -0.16134638680500063,
           "7": -1.1374596907250272,
           "8": 0.4577109797826604,
           "9": 0.44173637238220625,
           "bdata": "DRkF6PlX2j+TA4CUoDnGP0/7V7d6h+G/Mv22+5nPwj/ly+PjIH2LP1TYPOzjqeG/Bt9Tl/+mxL+Q6sLuCDPyv/jxS/4iS90/y3Q1omhF3D+dLFFoGHTmP8nRL/ZtY+A/w/iaE0Ee+r/O+mNxnzjhPxB+JYNkCu6/wfbIosQ81r/MXvSLvm6aPxUomUT1eu6/liWd4UTlrj/ktM0MeKfwPw==",
           "dtype": "f8",
           "shape": "20"
          },
          "bdata": "DRkF6PlX2j+TA4CUoDnGP0/7V7d6h+G/Mv22+5nPwj/ly+PjIH2LP1TYPOzjqeG/Bt9Tl/+mxL+Q6sLuCDPyv/jxS/4iS90/y3Q1omhF3D+dLFFoGHTmP8nRL/ZtY+A/w/iaE0Ee+r/O+mNxnzjhPxB+JYNkCu6/wfbIosQ81r/MXvSLvm6aPxUomUT1eu6/liWd4UTlrj/ktM0MeKfwPw==",
          "dtype": "f8"
         },
         "z": {
          "_inputArray": {
           "0": -0.07132392476214137,
           "1": -1.223254774207143,
           "10": -1.0510815639071178,
           "11": 0.1315384666668556,
           "12": 0.6191140727503102,
           "13": 0.8121186697722536,
           "14": -0.20184052243138237,
           "15": 0.6701401628971514,
           "16": -0.7776194131918178,
           "17": -0.13626675631863647,
           "18": -1.0434500017467254,
           "19": -0.09403473465553544,
           "2": -0.6794182716515045,
           "3": 0.6061954904535464,
           "4": 0.9359448937456367,
           "5": -0.12109754794565243,
           "6": 1.192404330680825,
           "7": -1.3221475225908594,
           "8": 0.7288758428914587,
           "9": 1.1288768534468012,
           "bdata": "U5hG5EhCsr8lVB6Zc5Lzv6yJIWPLveW/lWHPFfRl4z/Q3K+0QvPtPxFoDbg/AL+/aSA+kBYU8z8bPiAphCf1vyMGgm7zUuc/ED/sLOEP8j++jebmOtHwv0oEQKJA1sA/HpfeUMjP4z9AkuRK4PzpP//XbAXp1cm/3SNsyMlx5T8dmIwbQuLov2vU9WYwccG/mDYIofix8L+OlwgOqRK4vw==",
           "dtype": "f8",
           "shape": "20"
          },
          "bdata": "U5hG5EhCsr8lVB6Zc5Lzv6yJIWPLveW/lWHPFfRl4z/Q3K+0QvPtPxFoDbg/AL+/aSA+kBYU8z8bPiAphCf1vyMGgm7zUuc/ED/sLOEP8j++jebmOtHwv0oEQKJA1sA/HpfeUMjP4z9AkuRK4PzpP//XbAXp1cm/3SNsyMlx5T8dmIwbQuLov2vU9WYwccG/mDYIofix8L+OlwgOqRK4vw==",
          "dtype": "f8"
         }
        }
       ],
       "layout": {
        "autosize": true,
        "legend": {
         "title": {
          "text": "color"
         },
         "tracegroupgap": 0
        },
        "margin": {
         "t": 60
        },
        "scene": {
         "aspectmode": "auto",
         "aspectratio": {
          "x": 1.0295039639186307,
          "y": 1.1242099120764437,
          "z": 0.8640215344441289
         },
         "camera": {
          "center": {
           "x": 0,
           "y": 0,
           "z": 0
          },
          "eye": {
           "x": 0.6430990543595559,
           "y": 0.5897084921236311,
           "z": 0.45227746872725155
          },
          "projection": {
           "type": "perspective"
          },
          "up": {
           "x": 0.4352569353838677,
           "y": -0.7965183317901263,
           "z": 0.4196545571330281
          }
         },
         "domain": {
          "x": [
           0,
           1
          ],
          "y": [
           0,
           1
          ]
         },
         "xaxis": {
          "title": {
           "text": "x"
          },
          "type": "linear"
         },
         "yaxis": {
          "title": {
           "text": "y"
          },
          "type": "linear"
         },
         "zaxis": {
          "title": {
           "text": "z"
          },
          "type": "linear"
         }
        },
        "template": {
         "data": {
          "bar": [
           {
            "error_x": {
             "color": "#2a3f5f"
            },
            "error_y": {
             "color": "#2a3f5f"
            },
            "marker": {
             "line": {
              "color": "#E5ECF6",
              "width": 0.5
             },
             "pattern": {
              "fillmode": "overlay",
              "size": 10,
              "solidity": 0.2
             }
            },
            "type": "bar"
           }
          ],
          "barpolar": [
           {
            "marker": {
             "line": {
              "color": "#E5ECF6",
              "width": 0.5
             },
             "pattern": {
              "fillmode": "overlay",
              "size": 10,
              "solidity": 0.2
             }
            },
            "type": "barpolar"
           }
          ],
          "carpet": [
           {
            "aaxis": {
             "endlinecolor": "#2a3f5f",
             "gridcolor": "white",
             "linecolor": "white",
             "minorgridcolor": "white",
             "startlinecolor": "#2a3f5f"
            },
            "baxis": {
             "endlinecolor": "#2a3f5f",
             "gridcolor": "white",
             "linecolor": "white",
             "minorgridcolor": "white",
             "startlinecolor": "#2a3f5f"
            },
            "type": "carpet"
           }
          ],
          "choropleth": [
           {
            "colorbar": {
             "outlinewidth": 0,
             "ticks": ""
            },
            "type": "choropleth"
           }
          ],
          "contour": [
           {
            "colorbar": {
             "outlinewidth": 0,
             "ticks": ""
            },
            "colorscale": [
             [
              0,
              "#0d0887"
             ],
             [
              0.1111111111111111,
              "#46039f"
             ],
             [
              0.2222222222222222,
              "#7201a8"
             ],
             [
              0.3333333333333333,
              "#9c179e"
             ],
             [
              0.4444444444444444,
              "#bd3786"
             ],
             [
              0.5555555555555556,
              "#d8576b"
             ],
             [
              0.6666666666666666,
              "#ed7953"
             ],
             [
              0.7777777777777778,
              "#fb9f3a"
             ],
             [
              0.8888888888888888,
              "#fdca26"
             ],
             [
              1,
              "#f0f921"
             ]
            ],
            "type": "contour"
           }
          ],
          "contourcarpet": [
           {
            "colorbar": {
             "outlinewidth": 0,
             "ticks": ""
            },
            "type": "contourcarpet"
           }
          ],
          "heatmap": [
           {
            "colorbar": {
             "outlinewidth": 0,
             "ticks": ""
            },
            "colorscale": [
             [
              0,
              "#0d0887"
             ],
             [
              0.1111111111111111,
              "#46039f"
             ],
             [
              0.2222222222222222,
              "#7201a8"
             ],
             [
              0.3333333333333333,
              "#9c179e"
             ],
             [
              0.4444444444444444,
              "#bd3786"
             ],
             [
              0.5555555555555556,
              "#d8576b"
             ],
             [
              0.6666666666666666,
              "#ed7953"
             ],
             [
              0.7777777777777778,
              "#fb9f3a"
             ],
             [
              0.8888888888888888,
              "#fdca26"
             ],
             [
              1,
              "#f0f921"
             ]
            ],
            "type": "heatmap"
           }
          ],
          "histogram": [
           {
            "marker": {
             "pattern": {
              "fillmode": "overlay",
              "size": 10,
              "solidity": 0.2
             }
            },
            "type": "histogram"
           }
          ],
          "histogram2d": [
           {
            "colorbar": {
             "outlinewidth": 0,
             "ticks": ""
            },
            "colorscale": [
             [
              0,
              "#0d0887"
             ],
             [
              0.1111111111111111,
              "#46039f"
             ],
             [
              0.2222222222222222,
              "#7201a8"
             ],
             [
              0.3333333333333333,
              "#9c179e"
             ],
             [
              0.4444444444444444,
              "#bd3786"
             ],
             [
              0.5555555555555556,
              "#d8576b"
             ],
             [
              0.6666666666666666,
              "#ed7953"
             ],
             [
              0.7777777777777778,
              "#fb9f3a"
             ],
             [
              0.8888888888888888,
              "#fdca26"
             ],
             [
              1,
              "#f0f921"
             ]
            ],
            "type": "histogram2d"
           }
          ],
          "histogram2dcontour": [
           {
            "colorbar": {
             "outlinewidth": 0,
             "ticks": ""
            },
            "colorscale": [
             [
              0,
              "#0d0887"
             ],
             [
              0.1111111111111111,
              "#46039f"
             ],
             [
              0.2222222222222222,
              "#7201a8"
             ],
             [
              0.3333333333333333,
              "#9c179e"
             ],
             [
              0.4444444444444444,
              "#bd3786"
             ],
             [
              0.5555555555555556,
              "#d8576b"
             ],
             [
              0.6666666666666666,
              "#ed7953"
             ],
             [
              0.7777777777777778,
              "#fb9f3a"
             ],
             [
              0.8888888888888888,
              "#fdca26"
             ],
             [
              1,
              "#f0f921"
             ]
            ],
            "type": "histogram2dcontour"
           }
          ],
          "mesh3d": [
           {
            "colorbar": {
             "outlinewidth": 0,
             "ticks": ""
            },
            "type": "mesh3d"
           }
          ],
          "parcoords": [
           {
            "line": {
             "colorbar": {
              "outlinewidth": 0,
              "ticks": ""
             }
            },
            "type": "parcoords"
           }
          ],
          "pie": [
           {
            "automargin": true,
            "type": "pie"
           }
          ],
          "scatter": [
           {
            "fillpattern": {
             "fillmode": "overlay",
             "size": 10,
             "solidity": 0.2
            },
            "type": "scatter"
           }
          ],
          "scatter3d": [
           {
            "line": {
             "colorbar": {
              "outlinewidth": 0,
              "ticks": ""
             }
            },
            "marker": {
             "colorbar": {
              "outlinewidth": 0,
              "ticks": ""
             }
            },
            "type": "scatter3d"
           }
          ],
          "scattercarpet": [
           {
            "marker": {
             "colorbar": {
              "outlinewidth": 0,
              "ticks": ""
             }
            },
            "type": "scattercarpet"
           }
          ],
          "scattergeo": [
           {
            "marker": {
             "colorbar": {
              "outlinewidth": 0,
              "ticks": ""
             }
            },
            "type": "scattergeo"
           }
          ],
          "scattergl": [
           {
            "marker": {
             "colorbar": {
              "outlinewidth": 0,
              "ticks": ""
             }
            },
            "type": "scattergl"
           }
          ],
          "scattermap": [
           {
            "marker": {
             "colorbar": {
              "outlinewidth": 0,
              "ticks": ""
             }
            },
            "type": "scattermap"
           }
          ],
          "scattermapbox": [
           {
            "marker": {
             "colorbar": {
              "outlinewidth": 0,
              "ticks": ""
             }
            },
            "type": "scattermapbox"
           }
          ],
          "scatterpolar": [
           {
            "marker": {
             "colorbar": {
              "outlinewidth": 0,
              "ticks": ""
             }
            },
            "type": "scatterpolar"
           }
          ],
          "scatterpolargl": [
           {
            "marker": {
             "colorbar": {
              "outlinewidth": 0,
              "ticks": ""
             }
            },
            "type": "scatterpolargl"
           }
          ],
          "scatterternary": [
           {
            "marker": {
             "colorbar": {
              "outlinewidth": 0,
              "ticks": ""
             }
            },
            "type": "scatterternary"
           }
          ],
          "surface": [
           {
            "colorbar": {
             "outlinewidth": 0,
             "ticks": ""
            },
            "colorscale": [
             [
              0,
              "#0d0887"
             ],
             [
              0.1111111111111111,
              "#46039f"
             ],
             [
              0.2222222222222222,
              "#7201a8"
             ],
             [
              0.3333333333333333,
              "#9c179e"
             ],
             [
              0.4444444444444444,
              "#bd3786"
             ],
             [
              0.5555555555555556,
              "#d8576b"
             ],
             [
              0.6666666666666666,
              "#ed7953"
             ],
             [
              0.7777777777777778,
              "#fb9f3a"
             ],
             [
              0.8888888888888888,
              "#fdca26"
             ],
             [
              1,
              "#f0f921"
             ]
            ],
            "type": "surface"
           }
          ],
          "table": [
           {
            "cells": {
             "fill": {
              "color": "#EBF0F8"
             },
             "line": {
              "color": "white"
             }
            },
            "header": {
             "fill": {
              "color": "#C8D4E3"
             },
             "line": {
              "color": "white"
             }
            },
            "type": "table"
           }
          ]
         },
         "layout": {
          "annotationdefaults": {
           "arrowcolor": "#2a3f5f",
           "arrowhead": 0,
           "arrowwidth": 1
          },
          "autotypenumbers": "strict",
          "coloraxis": {
           "colorbar": {
            "outlinewidth": 0,
            "ticks": ""
           }
          },
          "colorscale": {
           "diverging": [
            [
             0,
             "#8e0152"
            ],
            [
             0.1,
             "#c51b7d"
            ],
            [
             0.2,
             "#de77ae"
            ],
            [
             0.3,
             "#f1b6da"
            ],
            [
             0.4,
             "#fde0ef"
            ],
            [
             0.5,
             "#f7f7f7"
            ],
            [
             0.6,
             "#e6f5d0"
            ],
            [
             0.7,
             "#b8e186"
            ],
            [
             0.8,
             "#7fbc41"
            ],
            [
             0.9,
             "#4d9221"
            ],
            [
             1,
             "#276419"
            ]
           ],
           "sequential": [
            [
             0,
             "#0d0887"
            ],
            [
             0.1111111111111111,
             "#46039f"
            ],
            [
             0.2222222222222222,
             "#7201a8"
            ],
            [
             0.3333333333333333,
             "#9c179e"
            ],
            [
             0.4444444444444444,
             "#bd3786"
            ],
            [
             0.5555555555555556,
             "#d8576b"
            ],
            [
             0.6666666666666666,
             "#ed7953"
            ],
            [
             0.7777777777777778,
             "#fb9f3a"
            ],
            [
             0.8888888888888888,
             "#fdca26"
            ],
            [
             1,
             "#f0f921"
            ]
           ],
           "sequentialminus": [
            [
             0,
             "#0d0887"
            ],
            [
             0.1111111111111111,
             "#46039f"
            ],
            [
             0.2222222222222222,
             "#7201a8"
            ],
            [
             0.3333333333333333,
             "#9c179e"
            ],
            [
             0.4444444444444444,
             "#bd3786"
            ],
            [
             0.5555555555555556,
             "#d8576b"
            ],
            [
             0.6666666666666666,
             "#ed7953"
            ],
            [
             0.7777777777777778,
             "#fb9f3a"
            ],
            [
             0.8888888888888888,
             "#fdca26"
            ],
            [
             1,
             "#f0f921"
            ]
           ]
          },
          "colorway": [
           "#636efa",
           "#EF553B",
           "#00cc96",
           "#ab63fa",
           "#FFA15A",
           "#19d3f3",
           "#FF6692",
           "#B6E880",
           "#FF97FF",
           "#FECB52"
          ],
          "font": {
           "color": "#2a3f5f"
          },
          "geo": {
           "bgcolor": "white",
           "lakecolor": "white",
           "landcolor": "#E5ECF6",
           "showlakes": true,
           "showland": true,
           "subunitcolor": "white"
          },
          "hoverlabel": {
           "align": "left"
          },
          "hovermode": "closest",
          "mapbox": {
           "style": "light"
          },
          "paper_bgcolor": "white",
          "plot_bgcolor": "#E5ECF6",
          "polar": {
           "angularaxis": {
            "gridcolor": "white",
            "linecolor": "white",
            "ticks": ""
           },
           "bgcolor": "#E5ECF6",
           "radialaxis": {
            "gridcolor": "white",
            "linecolor": "white",
            "ticks": ""
           }
          },
          "scene": {
           "xaxis": {
            "backgroundcolor": "#E5ECF6",
            "gridcolor": "white",
            "gridwidth": 2,
            "linecolor": "white",
            "showbackground": true,
            "ticks": "",
            "zerolinecolor": "white"
           },
           "yaxis": {
            "backgroundcolor": "#E5ECF6",
            "gridcolor": "white",
            "gridwidth": 2,
            "linecolor": "white",
            "showbackground": true,
            "ticks": "",
            "zerolinecolor": "white"
           },
           "zaxis": {
            "backgroundcolor": "#E5ECF6",
            "gridcolor": "white",
            "gridwidth": 2,
            "linecolor": "white",
            "showbackground": true,
            "ticks": "",
            "zerolinecolor": "white"
           }
          },
          "shapedefaults": {
           "line": {
            "color": "#2a3f5f"
           }
          },
          "ternary": {
           "aaxis": {
            "gridcolor": "white",
            "linecolor": "white",
            "ticks": ""
           },
           "baxis": {
            "gridcolor": "white",
            "linecolor": "white",
            "ticks": ""
           },
           "bgcolor": "#E5ECF6",
           "caxis": {
            "gridcolor": "white",
            "linecolor": "white",
            "ticks": ""
           }
          },
          "title": {
           "x": 0.05
          },
          "xaxis": {
           "automargin": true,
           "gridcolor": "white",
           "linecolor": "white",
           "ticks": "",
           "title": {
            "standoff": 15
           },
           "zerolinecolor": "white",
           "zerolinewidth": 2
          },
          "yaxis": {
           "automargin": true,
           "gridcolor": "white",
           "linecolor": "white",
           "ticks": "",
           "title": {
            "standoff": 15
           },
           "zerolinecolor": "white",
           "zerolinewidth": 2
          }
         }
        }
       }
      },
      "image/png": "[encoded data removed]"
     },
     "metadata": {},
     "output_type": "display_data"
    }
   ],
   "source": [
    "# visualising data in 3d\n",
    " \n",
    "import plotly.express as px\n",
    "\n",
    "fig = px.scatter_3d(\n",
    "    x=df[\"feature1\"],\n",
    "    y=df[\"feature2\"],\n",
    "    z=df[\"feature3\"],\n",
    "    color=df[\"target\"].astype(str)\n",
    ")\n",
    "\n",
    "fig.show()"
   ]
  },
  {
   "cell_type": "code",
   "execution_count": 6,
   "id": "9e681f49-045e-4059-af5d-21dca0b66dd1",
   "metadata": {},
   "outputs": [],
   "source": [
    "# step 1 applyin standard scaler\n",
    "\n",
    "from sklearn.preprocessing import StandardScaler\n",
    "\n",
    "std=StandardScaler()\n",
    "df.iloc[:,:3]=std.fit_transform(df.iloc[:,:3])"
   ]
  },
  {
   "cell_type": "code",
   "execution_count": 9,
   "id": "5bc58437-256a-49e5-808c-6524a4d1d70a",
   "metadata": {},
   "outputs": [
    {
     "data": {
      "text/html": [
       "<div>\n",
       "<style scoped>\n",
       "    .dataframe tbody tr th:only-of-type {\n",
       "        vertical-align: middle;\n",
       "    }\n",
       "\n",
       "    .dataframe tbody tr th {\n",
       "        vertical-align: top;\n",
       "    }\n",
       "\n",
       "    .dataframe thead th {\n",
       "        text-align: right;\n",
       "    }\n",
       "</style>\n",
       "<table border=\"1\" class=\"dataframe\">\n",
       "  <thead>\n",
       "    <tr style=\"text-align: right;\">\n",
       "      <th></th>\n",
       "      <th>feature1</th>\n",
       "      <th>feature2</th>\n",
       "      <th>feature3</th>\n",
       "    </tr>\n",
       "  </thead>\n",
       "  <tbody>\n",
       "    <tr>\n",
       "      <th>feature1</th>\n",
       "      <td>1.025641</td>\n",
       "      <td>0.204781</td>\n",
       "      <td>0.080118</td>\n",
       "    </tr>\n",
       "    <tr>\n",
       "      <th>feature2</th>\n",
       "      <td>0.204781</td>\n",
       "      <td>1.025641</td>\n",
       "      <td>0.198389</td>\n",
       "    </tr>\n",
       "    <tr>\n",
       "      <th>feature3</th>\n",
       "      <td>0.080118</td>\n",
       "      <td>0.198389</td>\n",
       "      <td>1.025641</td>\n",
       "    </tr>\n",
       "  </tbody>\n",
       "</table>\n",
       "</div>"
      ],
      "text/plain": [
       "          feature1  feature2  feature3\n",
       "feature1  1.025641  0.204781  0.080118\n",
       "feature2  0.204781  1.025641  0.198389\n",
       "feature3  0.080118  0.198389  1.025641"
      ]
     },
     "execution_count": 9,
     "metadata": {},
     "output_type": "execute_result"
    }
   ],
   "source": [
    "# step 2 clculating vovariance mat\n",
    "\n",
    "cov=df.iloc[:,:3].cov()\n",
    "cov"
   ]
  },
  {
   "cell_type": "code",
   "execution_count": 10,
   "id": "cd78b238-f414-47dc-bd52-bcd322900361",
   "metadata": {},
   "outputs": [],
   "source": [
    "# step 3 calulating eigen values and eigne vectors\n",
    "\n",
    "eigen_values,eigen_vectors=np.linalg.eig(cov)"
   ]
  },
  {
   "cell_type": "code",
   "execution_count": 11,
   "id": "ad153bd9-f606-4990-9404-fd6e22007832",
   "metadata": {},
   "outputs": [
    {
     "data": {
      "text/plain": [
       "array([1.3536065 , 0.94557084, 0.77774573])"
      ]
     },
     "execution_count": 11,
     "metadata": {},
     "output_type": "execute_result"
    }
   ],
   "source": [
    "eigen_values"
   ]
  },
  {
   "cell_type": "code",
   "execution_count": 12,
   "id": "2ebd61af-e824-4cac-9e62-6c096b7424e8",
   "metadata": {},
   "outputs": [
    {
     "data": {
      "text/plain": [
       "array([[-0.53875915, -0.69363291,  0.47813384],\n",
       "       [-0.65608325, -0.01057596, -0.75461442],\n",
       "       [-0.52848211,  0.72025103,  0.44938304]])"
      ]
     },
     "execution_count": 12,
     "metadata": {},
     "output_type": "execute_result"
    }
   ],
   "source": [
    "eigen_vectors"
   ]
  },
  {
   "cell_type": "code",
   "execution_count": 13,
   "id": "dde720a4-b065-4b71-ae13-e9ff3fd5ea1f",
   "metadata": {},
   "outputs": [],
   "source": [
    "# we are converting 3 columns to columns so fetching two greatest eigen vevtors als known as Principal component\n",
    "pc=eigen_vectors[0:2]"
   ]
  },
  {
   "cell_type": "code",
   "execution_count": 17,
   "id": "113aa474-b5e4-4134-92c6-839209ebdb62",
   "metadata": {},
   "outputs": [
    {
     "data": {
      "text/html": [
       "<div>\n",
       "<style scoped>\n",
       "    .dataframe tbody tr th:only-of-type {\n",
       "        vertical-align: middle;\n",
       "    }\n",
       "\n",
       "    .dataframe tbody tr th {\n",
       "        vertical-align: top;\n",
       "    }\n",
       "\n",
       "    .dataframe thead th {\n",
       "        text-align: right;\n",
       "    }\n",
       "</style>\n",
       "<table border=\"1\" class=\"dataframe\">\n",
       "  <thead>\n",
       "    <tr style=\"text-align: right;\">\n",
       "      <th></th>\n",
       "      <th>PC1</th>\n",
       "      <th>PC2</th>\n",
       "      <th>Target</th>\n",
       "    </tr>\n",
       "  </thead>\n",
       "  <tbody>\n",
       "    <tr>\n",
       "      <th>0</th>\n",
       "      <td>-3.367715</td>\n",
       "      <td>-0.254627</td>\n",
       "      <td>0</td>\n",
       "    </tr>\n",
       "    <tr>\n",
       "      <th>1</th>\n",
       "      <td>-0.271876</td>\n",
       "      <td>0.498222</td>\n",
       "      <td>1</td>\n",
       "    </tr>\n",
       "    <tr>\n",
       "      <th>2</th>\n",
       "      <td>1.056919</td>\n",
       "      <td>-0.212737</td>\n",
       "      <td>0</td>\n",
       "    </tr>\n",
       "    <tr>\n",
       "      <th>3</th>\n",
       "      <td>-0.470834</td>\n",
       "      <td>-1.373121</td>\n",
       "      <td>0</td>\n",
       "    </tr>\n",
       "    <tr>\n",
       "      <th>4</th>\n",
       "      <td>-0.433734</td>\n",
       "      <td>1.153326</td>\n",
       "      <td>0</td>\n",
       "    </tr>\n",
       "  </tbody>\n",
       "</table>\n",
       "</div>"
      ],
      "text/plain": [
       "        PC1       PC2  Target\n",
       "0 -3.367715 -0.254627       0\n",
       "1 -0.271876  0.498222       1\n",
       "2  1.056919 -0.212737       0\n",
       "3 -0.470834 -1.373121       0\n",
       "4 -0.433734  1.153326       0"
      ]
     },
     "execution_count": 17,
     "metadata": {},
     "output_type": "execute_result"
    }
   ],
   "source": [
    "transformed_df=np.dot(df.iloc[:,:3],pc.T)\n",
    "new_df=pd.DataFrame(transformed_df,columns=[\"PC1\",\"PC2\"])\n",
    "new_df[\"Target\"]=df[\"target\"].values\n",
    "new_df.head(5)"
   ]
  },
  {
   "cell_type": "code",
   "execution_count": null,
   "id": "598e99c1-d82b-4a73-b287-ce8dbd240bbb",
   "metadata": {},
   "outputs": [],
   "source": []
  }
 ],
 "metadata": {
  "kernelspec": {
   "display_name": "Python 3 (ipykernel)",
   "language": "python",
   "name": "python3"
  },
  "language_info": {
   "codemirror_mode": {
    "name": "ipython",
    "version": 3
   },
   "file_extension": ".py",
   "mimetype": "text/x-python",
   "name": "python",
   "nbconvert_exporter": "python",
   "pygments_lexer": "ipython3",
   "version": "3.12.6"
  }
 },
 "nbformat": 4,
 "nbformat_minor": 5
}
