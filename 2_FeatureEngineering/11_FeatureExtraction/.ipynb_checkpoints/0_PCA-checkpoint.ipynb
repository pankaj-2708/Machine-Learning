{
 "cells": [
  {
   "cell_type": "markdown",
   "id": "5861e2b6-6e8c-42e1-961d-51b79328dd87",
   "metadata": {},
   "source": [
    "The curse of dimensionality refers to the problems that arise when working with high-dimensional data, such as increased sparsity, overfitting, and \n",
    "ineffective distance metrics. As dimensions increase, models require more data and computation, and performance often degrades.\n",
    "\n",
    "Solution: Use feature selection, Or Feature Extrantion .\n",
    "\n",
    "feature selection is used at the end so will study it at the end\n"
   ]
  },
  {
   "cell_type": "code",
   "execution_count": null,
   "id": "f2a79dfd-3826-4486-b690-5d93a4f529d5",
   "metadata": {},
   "outputs": [],
   "source": []
  }
 ],
 "metadata": {
  "kernelspec": {
   "display_name": "Python 3 (ipykernel)",
   "language": "python",
   "name": "python3"
  },
  "language_info": {
   "codemirror_mode": {
    "name": "ipython",
    "version": 3
   },
   "file_extension": ".py",
   "mimetype": "text/x-python",
   "name": "python",
   "nbconvert_exporter": "python",
   "pygments_lexer": "ipython3",
   "version": "3.12.6"
  }
 },
 "nbformat": 4,
 "nbformat_minor": 5
}
