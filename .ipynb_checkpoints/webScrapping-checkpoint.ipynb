{
 "cells": [
  {
   "cell_type": "code",
   "execution_count": 91,
   "id": "f0f2ac32-ebf7-4131-a027-0e702573f6b4",
   "metadata": {},
   "outputs": [],
   "source": [
    "import pandas as pd\n",
    "import requests\n",
    "from bs4 import BeautifulSoup\n"
   ]
  },
  {
   "cell_type": "code",
   "execution_count": null,
   "id": "9b720422-c6da-4fbc-8c2f-a7d5496b427e",
   "metadata": {},
   "outputs": [],
   "source": [
    "from fake_useragent import UserAgent\n",
    "url=\"https://www.ambitionbox.com/list-of-companies?page=\"\n",
    "ua = UserAgent()\n",
    "\n",
    "    headers = {\n",
    "    \"User-Agent\": ua.random,\n",
    "    \"Accept-Language\": \"en-US,en;q=0.9\",\n",
    "    }"
   ]
  },
  {
   "cell_type": "code",
   "execution_count": null,
   "id": "c9587cf7-3293-446f-a7dc-f5432f39189f",
   "metadata": {},
   "outputs": [],
   "source": [
    "df=pd.DataFrame({})\n",
    "for i in range(1,500):\n",
    "    \n",
    "    url+=str(i)\n",
    "    response = requests.get(url, headers=headers)\n",
    "    html_content = response.text\n",
    "    soup=BeautifulSoup(html_content,\"html.parser\")\n",
    "    companies=soup.find_all(class_=\"companyCardWrapper__companyName\")\n",
    "    companies=[i.text.replace(\"\\t\",\"\").replace(\"\\n\",\"\") for i in companies]\n",
    "    # print(len(companies))\n",
    "    \n",
    "    # ratings\n",
    "    rating=soup.find_all(class_=[\"rating_text--md\",\"rating_text\"])\n",
    "    rating=[i.text.replace(\"\\t\",\"\").replace(\"\\n\",\"\") for i in rating]\n",
    "    # print(len(rating))\n",
    "    \n",
    "    # rating count\n",
    "    rating_count=soup.find_all(class_=\"companyCardWrapper__companyRatingCount\")\n",
    "    rating_count=[i.text.replace(\"\\t\",\"\").replace(\"\\n\",\"\").replace(\"(\",\"\").replace(\")\",\"\") for i in rating_count]\n",
    "    # print(len(rating_count))\n",
    "    \n",
    "    # location and sector\n",
    "    loc_and_sec=soup.find_all(class_=\"companyCardWrapper__interLinking\")\n",
    "    loc_and_sec=[i.text.replace(\"\\t\",\"\").replace(\"\\n\",\"\").replace(\"(\",\"\").replace(\")\",\"\").split(\"|\") for i in loc_and_sec]\n",
    "    loc,sec=[],[]\n",
    "    for p in loc_and_sec:\n",
    "        loc.append(p[0])\n",
    "        if len(p)>1:\n",
    "            sec.append(p[1])\n",
    "        else:\n",
    "            sec.append(\"\")\n",
    "    # reviews\n",
    "    reviews=soup.find_all(class_=\"companyCardWrapper__ratingComparisonWrapper\")\n",
    "    reviews=[i.text for i in reviews]\n",
    "    reviews=[review.split(\"Critically\") for review in reviews]\n",
    "    # print(reviews[8])\n",
    "    positive,negative=[],[]\n",
    "    for p in reviews:\n",
    "        # print(p)\n",
    "        positive.append(p[0])\n",
    "        if len(p)>1:\n",
    "            negative.append(p[1])\n",
    "        else :\n",
    "            negative.append(\"\")\n",
    "\n",
    "    temp_df=pd.DataFrame({\n",
    "        \"Company_Name\":companies,\n",
    "        \"Sector of Company\":sec,\n",
    "        \"Locations of company\":loc,\n",
    "        \"Rating\":rating,\n",
    "        \"No_of_Ratings\":rating_count,\n",
    "        \"Positives of Company\":positive,\n",
    "        \"Negatives of Company\":negative\n",
    "    })\n",
    "    print(temp_df)\n",
    "    df=pd.concat([df,temp_df],ignore_index=True)\n",
    "\n",
    "df"
   ]
  },
  {
   "cell_type": "code",
   "execution_count": null,
   "id": "9aaa3cc3-d234-486c-9723-929ebc2df75b",
   "metadata": {},
   "outputs": [],
   "source": [
    "df.shape"
   ]
  }
 ],
 "metadata": {
  "kernelspec": {
   "display_name": "Python 3 (ipykernel)",
   "language": "python",
   "name": "python3"
  },
  "language_info": {
   "codemirror_mode": {
    "name": "ipython",
    "version": 3
   },
   "file_extension": ".py",
   "mimetype": "text/x-python",
   "name": "python",
   "nbconvert_exporter": "python",
   "pygments_lexer": "ipython3",
   "version": "3.12.6"
  }
 },
 "nbformat": 4,
 "nbformat_minor": 5
}
