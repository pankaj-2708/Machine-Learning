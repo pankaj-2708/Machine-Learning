{
 "cells": [
  {
   "cell_type": "code",
   "execution_count": 6,
   "id": "1c28b1d4-be35-49ad-ba79-146f9da3dff3",
   "metadata": {},
   "outputs": [
    {
     "data": {
      "text/html": [
       "\n",
       "        <iframe\n",
       "            width=\"800\"\n",
       "            height=\"450\"\n",
       "            src=\"https://www.youtube.com/embed/PLKnIA16_Rmvbr7zKYQuBfsVkjoLcJgxHH\"\n",
       "            frameborder=\"0\"\n",
       "            allowfullscreen\n",
       "            \n",
       "        ></iframe>\n",
       "        "
      ],
      "text/plain": [
       "<IPython.lib.display.YouTubeVideo at 0x26e231f8ce0>"
      ]
     },
     "execution_count": 6,
     "metadata": {},
     "output_type": "execute_result"
    }
   ],
   "source": [
    "https://www.youtube.com/watch?v=81ymPYEtFOw&list=PLKnIA16_Rmvbr7zKYQuBfsVkjoLcJgxHH&index=3"
   ]
  },
  {
   "cell_type": "code",
   "execution_count": 1,
   "id": "0e112ae2-e642-4e38-8d11-d3312c945ddb",
   "metadata": {},
   "outputs": [],
   "source": [
    "# # Steps in ml\n",
    "\n",
    "# 1. Frame the Problem \n",
    "# 2. Gathering Data \n",
    "# 3. Data Preprocessing \n",
    "# 4. Exploratory Data Analysis \n",
    "# 5. Feature Engineering and Selection\n",
    "# 6. Model Training, Evalation and selection\n",
    "# 7. Model Deployment \n",
    "# 8. Testing \n",
    "# 9. Optimize"
   ]
  },
  {
   "cell_type": "code",
   "execution_count": null,
   "id": "642b5331-63ff-4e42-aa1e-a5df6b07ca6a",
   "metadata": {},
   "outputs": [],
   "source": [
    "# A data scientist is someone who is better at statistics than any software engineer and better at software \n",
    "# engineering than any statistician"
   ]
  }
 ],
 "metadata": {
  "kernelspec": {
   "display_name": "Python 3 (ipykernel)",
   "language": "python",
   "name": "python3"
  },
  "language_info": {
   "codemirror_mode": {
    "name": "ipython",
    "version": 3
   },
   "file_extension": ".py",
   "mimetype": "text/x-python",
   "name": "python",
   "nbconvert_exporter": "python",
   "pygments_lexer": "ipython3",
   "version": "3.12.6"
  }
 },
 "nbformat": 4,
 "nbformat_minor": 5
}
