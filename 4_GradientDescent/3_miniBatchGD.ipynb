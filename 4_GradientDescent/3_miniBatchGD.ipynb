{
 "cells": [
  {
   "cell_type": "markdown",
   "id": "f4ecb6d8-18ea-4e45-a2f0-eedfed279516",
   "metadata": {},
   "source": [
    "# Mini batch Gradient descent\n",
    "\n",
    "in Mini batch Gradient descent we update values of coefficent no of batch times in an epoch\n",
    "\n",
    "by making no of batch=1 we can achive SGD\n",
    "\n",
    "by making no of batch=n we can achive GD"
   ]
  },
  {
   "cell_type": "code",
   "execution_count": 20,
   "id": "07de7036-a21c-47b4-8c50-0fc4595cc183",
   "metadata": {},
   "outputs": [],
   "source": [
    "import numpy as np\n",
    "import pandas as pd\n",
    "import matplotlib.pyplot as plt\n",
    "import seaborn as sns\n",
    "from sklearn.datasets import make_regression\n",
    "import random"
   ]
  },
  {
   "cell_type": "code",
   "execution_count": 2,
   "id": "e5a7baca-734b-4a35-be26-191a72e4a82b",
   "metadata": {},
   "outputs": [],
   "source": [
    "X,y=make_regression(n_samples=100,n_features=3,n_informative=1,n_targets=1,noise=20)"
   ]
  },
  {
   "cell_type": "code",
   "execution_count": 3,
   "id": "f1a1b9ac-7dd4-4aac-b872-5664d24d0918",
   "metadata": {},
   "outputs": [],
   "source": [
    "from sklearn.model_selection import train_test_split\n",
    "\n",
    "X_train,X_test,y_train,y_test=train_test_split(X,y,test_size=0.1)"
   ]
  },
  {
   "cell_type": "code",
   "execution_count": 24,
   "id": "d878b680-b822-48c9-a47e-c10a83522988",
   "metadata": {},
   "outputs": [
    {
     "name": "stdout",
     "output_type": "stream",
     "text": [
      "[92.99518725 -1.02634273 -2.08077038] 0.7242613081460902\n",
      "r2 score  0.9072804404080195\n"
     ]
    }
   ],
   "source": [
    "from sklearn.linear_model import LinearRegression\n",
    "from sklearn.metrics import r2_score\n",
    "lr=LinearRegression()\n",
    "lr.fit(X_train,y_train)\n",
    "print(lr.coef_,lr.intercept_)\n",
    "y_pred=lr.predict(X_test)\n",
    "print(\"r2 score \" , r2_score(y_test,y_pred))"
   ]
  },
  {
   "cell_type": "code",
   "execution_count": 25,
   "id": "43b79d3b-7730-4802-860f-77ce50d005bb",
   "metadata": {},
   "outputs": [],
   "source": [
    "class MBGD:\n",
    "    def __init__(self,epochs,lr,batchsize):\n",
    "        self.epochs=epochs\n",
    "        self.lr=lr\n",
    "        self.batchsize=batchsize\n",
    "        \n",
    "    def fit(self,X,y):\n",
    "        \n",
    "        X=np.insert(X,0,1,axis=1)\n",
    "        \n",
    "        self.b=np.ones(X.shape[1])\n",
    "        \n",
    "        for p in range(self.epochs):\n",
    "            for i in range(len(X)//self.batchsize):\n",
    "                idx=random.sample(range(len(X)),self.batchsize)\n",
    "                X=X[idx]\n",
    "                y=y[idx]\n",
    "                y_pred=X @ self.b\n",
    "                error = y - y_pred \n",
    "                gradient=-2 * X.T @ error / len(X)\n",
    "                self.b=self.b - gradient * self.lr\n",
    "        \n",
    "        print(self.b)\n",
    "\n",
    "    def predict(self,X):\n",
    "        X=np.insert(X,0,1,axis=1)\n",
    "\n",
    "        ans=X@self.b\n",
    "\n",
    "        return ans"
   ]
  },
  {
   "cell_type": "code",
   "execution_count": 36,
   "id": "67f5b168-d5db-461a-ab57-ea7aa159cf44",
   "metadata": {},
   "outputs": [
    {
     "name": "stdout",
     "output_type": "stream",
     "text": [
      "[-0.26429485 91.57101695 -0.20696985  1.77021041]\n"
     ]
    },
    {
     "data": {
      "text/plain": [
       "array([-53.80676191, -67.03777344, -90.39683318, 110.14097659,\n",
       "        69.51356   , -26.34943908, -22.43754753, 125.08554418,\n",
       "        -1.80021566,  -1.29247928])"
      ]
     },
     "execution_count": 36,
     "metadata": {},
     "output_type": "execute_result"
    }
   ],
   "source": [
    "gd=MBGD(40,0.1,20)\n",
    "gd.fit(X_train,y_train)\n",
    "y_pred=gd.predict(X_test)\n",
    "y_pred"
   ]
  },
  {
   "cell_type": "code",
   "execution_count": 37,
   "id": "365f65e7-1dd3-464b-bebc-3c2785f25f7d",
   "metadata": {},
   "outputs": [
    {
     "name": "stdout",
     "output_type": "stream",
     "text": [
      "r2 score  0.917176614985003\n"
     ]
    }
   ],
   "source": [
    "print(\"r2 score \" , r2_score(y_test,y_pred))"
   ]
  },
  {
   "cell_type": "markdown",
   "id": "3116b008-1818-4fa4-b4ae-dca13ae95595",
   "metadata": {},
   "source": [
    "# Problems with SGD\n",
    "\n",
    "1- it does not decrease steps when move toward solution so we do as in previous notebook known as learning shedule"
   ]
  },
  {
   "cell_type": "markdown",
   "id": "c8e9c18a-e8bc-4091-919c-886cd7ae97dd",
   "metadata": {},
   "source": [
    "# sckit learn implementation"
   ]
  },
  {
   "cell_type": "code",
   "execution_count": 40,
   "id": "840a9d22-6788-4b63-a634-d2ec84e8e458",
   "metadata": {},
   "outputs": [],
   "source": [
    "from sklearn.linear_model import SGDRegressor\n",
    "\n",
    "mbdg=SGDRegressor(eta0=0.01,learning_rate='constant')\n"
   ]
  },
  {
   "cell_type": "code",
   "execution_count": 41,
   "id": "b8534b9b-708b-41d1-a783-ed9d6b16b413",
   "metadata": {},
   "outputs": [],
   "source": [
    "epochs=100\n",
    "batchsize=10\n",
    "for i in range(epochs):\n",
    "    idx=random.sample(range(len(X)),batchsize)\n",
    "    mbdg.partial_fit(X[idx],y[idx])  #partial_fit fit that only one time"
   ]
  },
  {
   "cell_type": "code",
   "execution_count": 42,
   "id": "486061ef-1185-4b50-a9b2-770de1deff4d",
   "metadata": {},
   "outputs": [
    {
     "name": "stdout",
     "output_type": "stream",
     "text": [
      "r2 score  0.9017055388433269\n"
     ]
    }
   ],
   "source": [
    "y_pred=mbdg.predict(X_test)\n",
    "print(\"r2 score \" , r2_score(y_test,y_pred))"
   ]
  },
  {
   "cell_type": "code",
   "execution_count": null,
   "id": "fcce292b-c2b7-4416-aef6-bb3248912f65",
   "metadata": {},
   "outputs": [],
   "source": []
  }
 ],
 "metadata": {
  "kernelspec": {
   "display_name": "Python 3 (ipykernel)",
   "language": "python",
   "name": "python3"
  },
  "language_info": {
   "codemirror_mode": {
    "name": "ipython",
    "version": 3
   },
   "file_extension": ".py",
   "mimetype": "text/x-python",
   "name": "python",
   "nbconvert_exporter": "python",
   "pygments_lexer": "ipython3",
   "version": "3.12.6"
  }
 },
 "nbformat": 4,
 "nbformat_minor": 5
}
