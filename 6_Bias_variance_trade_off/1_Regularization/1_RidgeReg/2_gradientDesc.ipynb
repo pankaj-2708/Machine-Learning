{
 "cells": [
  {
   "cell_type": "raw",
   "id": "35e893d3-2c57-412e-a66f-1133505186d8",
   "metadata": {},
   "source": [
    "\n",
    "now new loss function is = sum( ( yi - ( b0 + b1 ( xi1 ) + b2 ( xi2 ) + b3 ( xi3 ) +..... bn ( xin ) ) **2 + lamda * ( bi**2 ) ) / n \n",
    "\n",
    "we start with a random value of m and b and update \n",
    "\n",
    "new_b0 = b0 - leaningRate * slope ( loss function w.r.t b0)\n",
    "new_b1 = b1 - leaningRate * slope ( loss function w.r.t b1)\n",
    ".\n",
    ".\n",
    ".     \n",
    "new_bn = bn - leaningRate * slope ( loss function w.r.t bn)\n",
    "\n",
    "\n",
    "here slope(loss function w.r.t b0) = df/db0 = -2*sum( ( yi - ( b0 + b1 ( xi1 ) + b2 ( xi2 ) + b3 ( xi3 ) +..... bn ( xin ) ) / n = -2 * mean ( yi - yi_hat - lamda * b0 ) \n",
    "here slope(loss function w.r.t b1) = df/db1 = -2*sum( ( yi - ( b0 + b1 ( xi1 ) + b2 ( xi2 ) + b3 ( xi3 ) +..... bn ( xin ))*xi1 ) / n = -2 * mean ( (yi -yi_hat ) * xi1 - lamda * b1 ) \n",
    ".\n",
    ".\n",
    ".\n",
    "here slope(loss function w.r.t bn) = df/dbn = -2*sum( ( yi - ( b0 + b1 ( xi1 ) + b2 ( xi2 ) + b3 ( xi3 ) +..... bn ( xin )*xin ) / n = -2 * mean ( (yi -yi_hat ) * xin - lamda * bn )"
   ]
  },
  {
   "cell_type": "code",
   "execution_count": 3,
   "id": "9fb777d9-778f-4b55-98c8-5a9fa2b1b597",
   "metadata": {},
   "outputs": [],
   "source": [
    "import numpy as np\n",
    "import pandas as pd\n",
    "import matplotlib.pyplot as plt\n",
    "import seaborn as sns\n",
    "from sklearn.datasets import make_regression"
   ]
  },
  {
   "cell_type": "code",
   "execution_count": 4,
   "id": "9a6bbd92-f00b-4d88-bf79-ef15f85814cd",
   "metadata": {},
   "outputs": [],
   "source": [
    "X,y=make_regression(n_samples=100,n_features=3,n_informative=1,n_targets=1,noise=20)"
   ]
  },
  {
   "cell_type": "code",
   "execution_count": 5,
   "id": "6ec0bf02-5836-4df3-8de5-8b9c3877deee",
   "metadata": {},
   "outputs": [],
   "source": [
    "from sklearn.model_selection import train_test_split\n",
    "\n",
    "X_train,X_test,y_train,y_test=train_test_split(X,y,test_size=0.1)"
   ]
  },
  {
   "cell_type": "code",
   "execution_count": 6,
   "id": "a1edb91b-19ef-4e0a-a586-d2b4ccc53ca0",
   "metadata": {},
   "outputs": [
    {
     "name": "stdout",
     "output_type": "stream",
     "text": [
      "[-1.96322027 -1.4132511  29.47388233] 0.6137922713252508\n",
      "r2 score  0.7577688804135891\n"
     ]
    }
   ],
   "source": [
    "from sklearn.linear_model import LinearRegression\n",
    "from sklearn.metrics import r2_score\n",
    "lr=LinearRegression()\n",
    "lr.fit(X_train,y_train)\n",
    "print(lr.coef_,lr.intercept_)\n",
    "y_pred=lr.predict(X_test)\n",
    "print(\"r2 score \" , r2_score(y_test,y_pred))"
   ]
  },
  {
   "cell_type": "code",
   "execution_count": 10,
   "id": "c65499ee-c910-4a58-b87a-335a62f5af95",
   "metadata": {},
   "outputs": [],
   "source": [
    "class RGD:\n",
    "    def __init__(self,epochs,lr,lbd):\n",
    "        self.epochs=epochs\n",
    "        self.lr=lr\n",
    "        self.lbd=lbd\n",
    "        \n",
    "    def fit(self,X,y):\n",
    "        \n",
    "        X=np.insert(X,0,1,axis=1)\n",
    "        \n",
    "        self.b=np.ones(X.shape[1])\n",
    "        \n",
    "        for p in range(self.epochs):\n",
    "            y_pred=X @ self.b\n",
    "            error = y - y_pred \n",
    "            gradient=-2 * ( X.T @ error + self.lbd * self.b ) / len(X)\n",
    "            self.b=self.b - gradient * self.lr\n",
    "        \n",
    "        print(self.b)\n",
    "\n",
    "    def predict(self,X):\n",
    "        X=np.insert(X,0,1,axis=1)\n",
    "\n",
    "        ans=X@self.b\n",
    "\n",
    "        return ans"
   ]
  },
  {
   "cell_type": "code",
   "execution_count": 17,
   "id": "5f26b42c-5a96-4a64-8c0f-99f1b39f769f",
   "metadata": {},
   "outputs": [
    {
     "name": "stdout",
     "output_type": "stream",
     "text": [
      "[ 0.61876872 -1.96094226 -1.41345559 29.52277802]\n"
     ]
    }
   ],
   "source": [
    "gd=RGD(40,0.1,0.2)\n",
    "gd.fit(X_train,y_train)\n",
    "y_pred=gd.predict(X_test)"
   ]
  },
  {
   "cell_type": "code",
   "execution_count": 18,
   "id": "fa4efd02-922e-4a0e-a071-558813fc41b6",
   "metadata": {},
   "outputs": [
    {
     "name": "stdout",
     "output_type": "stream",
     "text": [
      "r2 score  0.7573855418104027\n"
     ]
    }
   ],
   "source": [
    "print(\"r2 score \" , r2_score(y_test,y_pred))"
   ]
  },
  {
   "cell_type": "code",
   "execution_count": null,
   "id": "599e3d87-cbe9-46f2-8ab2-1b2b2438dc4a",
   "metadata": {},
   "outputs": [],
   "source": []
  }
 ],
 "metadata": {
  "kernelspec": {
   "display_name": "Python 3 (ipykernel)",
   "language": "python",
   "name": "python3"
  },
  "language_info": {
   "codemirror_mode": {
    "name": "ipython",
    "version": 3
   },
   "file_extension": ".py",
   "mimetype": "text/x-python",
   "name": "python",
   "nbconvert_exporter": "python",
   "pygments_lexer": "ipython3",
   "version": "3.12.6"
  }
 },
 "nbformat": 4,
 "nbformat_minor": 5
}
