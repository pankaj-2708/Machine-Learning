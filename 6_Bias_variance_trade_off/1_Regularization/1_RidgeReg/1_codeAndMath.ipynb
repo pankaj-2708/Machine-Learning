{
 "cells": [
  {
   "cell_type": "markdown",
   "id": "152adfbc-1bf3-4531-abf0-6bfa2e360b96",
   "metadata": {},
   "source": [
    "# for simple linear regression\n",
    "\n",
    "cost function become = sum(( yi - yi_pred )**2) + lamda*( m**2 )\n",
    "\n",
    "on calculation optimum values of m and b using ols we get  \n",
    "\n",
    "b remain same as in simple linear reg and for m a lambda is added to the denominatior\n",
    "\n",
    "<img src=\"../../../images/ridgereg.png\">"
   ]
  },
  {
   "cell_type": "code",
   "execution_count": 3,
   "id": "ffce59c4-891f-43e9-8253-21a106514377",
   "metadata": {},
   "outputs": [],
   "source": [
    "import pandas as pd\n",
    "import matplotlib.pyplot as plt\n",
    "import numpy as np\n",
    "import seaborn as sns\n",
    "\n",
    "df=pd.read_csv(\"../../Datasets/placement2.csv\")\n",
    "\n",
    "from sklearn.model_selection import train_test_split\n",
    "\n",
    "X=df.iloc[:,:-1]\n",
    "y=df.iloc[:,-1]\n",
    "X_train,X_test,y_train,y_test=train_test_split(X,y,test_size=0.25,random_state=42)"
   ]
  },
  {
   "cell_type": "code",
   "execution_count": 8,
   "id": "173b3f71-3dfc-435e-828a-8424fe706e9c",
   "metadata": {},
   "outputs": [],
   "source": [
    "class RLR:\n",
    "    def __init__(self,lda):\n",
    "        self.m=None\n",
    "        self.b=None\n",
    "        self.lda=lda\n",
    "\n",
    "    def train(self,X_train,y_train):\n",
    "        y_mean=y_train.mean()\n",
    "        X_mean=X_train.mean()\n",
    "\n",
    "        comp1=0\n",
    "        comp2=0\n",
    "\n",
    "        for xi,yi in zip(X_train[\"cgpa\"],y_train):\n",
    "            comp1+=((xi-X_mean)*(yi-y_mean))\n",
    "            comp2+=((xi-X_mean)**2)\n",
    "            \n",
    "        comp2+=self.lda\n",
    "        self.m=comp1/comp2\n",
    "        self.b=y_mean-self.m*X_mean\n",
    "        print(self.m)\n",
    "        print(self.b)\n",
    "        \n",
    "    def predict(self,X_test):\n",
    "        ans=np.array([],dtype=\"float\")\n",
    "\n",
    "        for i in X_test[\"cgpa\"]:\n",
    "            ans=np.append(ans,[self.m*i+self.b])\n",
    "\n",
    "        return ans\n",
    "        "
   ]
  },
  {
   "cell_type": "code",
   "execution_count": 23,
   "id": "1df4d41b-437c-4e49-82c2-4bc186707568",
   "metadata": {},
   "outputs": [
    {
     "name": "stdout",
     "output_type": "stream",
     "text": [
      "cgpa    0.555451\n",
      "dtype: float64\n",
      "cgpa   -0.890028\n",
      "dtype: float64\n"
     ]
    }
   ],
   "source": [
    "lr=RLR(5)\n",
    "\n",
    "lr.train(X_train,y_train)\n",
    "\n",
    "y_pred=lr.predict(X_test)"
   ]
  },
  {
   "cell_type": "code",
   "execution_count": 24,
   "id": "19d0f792-d4b3-43ce-8318-abd1e36d4705",
   "metadata": {},
   "outputs": [
    {
     "data": {
      "text/plain": [
       "0.7774248242871197"
      ]
     },
     "execution_count": 24,
     "metadata": {},
     "output_type": "execute_result"
    }
   ],
   "source": [
    "from sklearn.metrics import r2_score\n",
    "\n",
    "r2_score(y_test, y_pred)"
   ]
  },
  {
   "cell_type": "code",
   "execution_count": 56,
   "id": "a33e79ba-45cb-4f5e-acd3-2c920eca987a",
   "metadata": {},
   "outputs": [],
   "source": [
    "from sklearn.linear_model import Ridge\n",
    "\n",
    "lr=Ridge(alpha=5)\n",
    "# ridge has a param solver by which we can decide gradient descent or ols  by default it select auto\n",
    "\n",
    "\n",
    "lr.fit(X_train,y_train)\n",
    "\n",
    "y_pred=lr.predict(X_test)"
   ]
  },
  {
   "cell_type": "code",
   "execution_count": 28,
   "id": "f8a74397-b067-49e3-879f-0b3c2a4bbce7",
   "metadata": {},
   "outputs": [
    {
     "data": {
      "text/plain": [
       "0.7774248242871196"
      ]
     },
     "execution_count": 28,
     "metadata": {},
     "output_type": "execute_result"
    }
   ],
   "source": [
    "from sklearn.metrics import r2_score\n",
    "\n",
    "r2_score(y_test, y_pred)"
   ]
  },
  {
   "cell_type": "markdown",
   "id": "0a081dd9-61d0-4f53-8e50-7e1c12c28a00",
   "metadata": {},
   "source": [
    "# for multiple linear regression\n",
    "\n",
    "and extra lamda * ( b0**1 + b1**2 + b2**2 +......bn**2) = lamda * (B.T @ B ) is added  to the cost function\n",
    "\n",
    "so new solution become \n",
    "\n",
    "<img src=\"../../images/ridgeregmul.png\">"
   ]
  },
  {
   "cell_type": "code",
   "execution_count": 29,
   "id": "0c0d0056-88c4-4c35-bf30-f97b1270d957",
   "metadata": {},
   "outputs": [],
   "source": [
    "import pandas as pd\n",
    "import matplotlib.pyplot as plt\n",
    "from sklearn.datasets import load_diabetes\n",
    "import numpy as np\n",
    "import seaborn as sns\n",
    "\n",
    "X,y=load_diabetes(return_X_y=True)\n",
    "\n",
    "from sklearn.model_selection import train_test_split\n",
    "\n",
    "X_train,X_test,y_train,y_test=train_test_split(X,y,test_size=0.1,random_state=42)"
   ]
  },
  {
   "cell_type": "code",
   "execution_count": 41,
   "id": "fcdb092a-673c-4fbe-8bec-d9f5a470f75c",
   "metadata": {},
   "outputs": [],
   "source": [
    "class RMLR:\n",
    "    def __init__(self,lbd):\n",
    "        self.b=None\n",
    "        self.lbd=lbd\n",
    "    def train(self,X_train,y_train):\n",
    "        X_train=np.insert(X_train,0,1,axis=1)\n",
    "        # it insert 1 to each row of X_train\n",
    "        \n",
    "        self.b=np.linalg.inv(X_train.T @ X_train + self.lbd * np.identity(X_train.shape[1]))@(X_train.T @ y_train)\n",
    "        \n",
    "    def predict(self,X_test):\n",
    "        pred=[]\n",
    "        X_test=np.insert(X_test,0,1,axis=1)\n",
    "        # it insert 1 to each row of X_test\n",
    "        for i in X_test:\n",
    "            pred+=[sum(i*self.b)]\n",
    "        return pred"
   ]
  },
  {
   "cell_type": "code",
   "execution_count": 54,
   "id": "ce9b991c-527c-4d92-90fb-28d721c36e14",
   "metadata": {},
   "outputs": [],
   "source": [
    "lr=RMLR(0.1)\n",
    "\n",
    "lr.train(X_train,y_train)\n",
    "\n",
    "y_pred=lr.predict(X_test)"
   ]
  },
  {
   "cell_type": "code",
   "execution_count": 55,
   "id": "c0b2dbc8-7a92-429f-9e1c-a2e7d336924b",
   "metadata": {},
   "outputs": [
    {
     "data": {
      "text/plain": [
       "0.549347865618074"
      ]
     },
     "execution_count": 55,
     "metadata": {},
     "output_type": "execute_result"
    }
   ],
   "source": [
    "from sklearn.metrics import r2_score\n",
    "r2_score(y_test,y_pred)"
   ]
  },
  {
   "cell_type": "code",
   "execution_count": null,
   "id": "f5e58878-035b-4ea8-aed2-bd91a73df23d",
   "metadata": {},
   "outputs": [],
   "source": []
  }
 ],
 "metadata": {
  "kernelspec": {
   "display_name": "Python 3 (ipykernel)",
   "language": "python",
   "name": "python3"
  },
  "language_info": {
   "codemirror_mode": {
    "name": "ipython",
    "version": 3
   },
   "file_extension": ".py",
   "mimetype": "text/x-python",
   "name": "python",
   "nbconvert_exporter": "python",
   "pygments_lexer": "ipython3",
   "version": "3.12.6"
  }
 },
 "nbformat": 4,
 "nbformat_minor": 5
}
