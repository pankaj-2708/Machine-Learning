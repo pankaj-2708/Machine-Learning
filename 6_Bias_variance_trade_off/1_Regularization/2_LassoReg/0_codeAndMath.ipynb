{
 "cells": [
  {
   "cell_type": "raw",
   "id": "d8a6a114-f1e0-4d2f-a496-84e85c2d121d",
   "metadata": {},
   "source": [
    "in ridge regression for preventing our model from overfitting we add lamda*( m1**2 + m2**2 ...mn**2 ) to our cost function\n",
    "\n",
    "new cost function is = sum(( yi - yi_pred )**2) + lamda*( mod(m1) + mod(m2) ...mod(mn) )\n",
    "\n",
    "other things are same"
   ]
  },
  {
   "cell_type": "code",
   "execution_count": null,
   "id": "6f87c32f-1376-453b-8a8f-61a5ac19bc07",
   "metadata": {},
   "outputs": [],
   "source": [
    "ridge regression never make coefficent of a term 0 but lasso does\n",
    "\n",
    "on increasing value of lamda it makes less important column's coefficent 0 so it ultimatelyy doing feature selection\n",
    "\n",
    "so it is prefereed"
   ]
  },
  {
   "cell_type": "markdown",
   "id": "f60df0b7-25a9-4c66-bcce-98a05edf15b9",
   "metadata": {},
   "source": [
    "# for simple linear lg\n",
    "<img src=\"../../../images/img1.png\">\n",
    "\n",
    "\n",
    "what happen actually is as soon as \\value of m reaches 0 equation changes which ultimately changes the value to that direction from which it has come so it is stopped when m reaches 0 ( think of by changing some values of lamda)"
   ]
  },
  {
   "cell_type": "code",
   "execution_count": null,
   "id": "0aeac533-2e80-4a5b-9d9b-6a9f4893652e",
   "metadata": {},
   "outputs": [],
   "source": [
    "can be implemented similarly"
   ]
  }
 ],
 "metadata": {
  "kernelspec": {
   "display_name": "Python 3 (ipykernel)",
   "language": "python",
   "name": "python3"
  },
  "language_info": {
   "codemirror_mode": {
    "name": "ipython",
    "version": 3
   },
   "file_extension": ".py",
   "mimetype": "text/x-python",
   "name": "python",
   "nbconvert_exporter": "python",
   "pygments_lexer": "ipython3",
   "version": "3.12.6"
  }
 },
 "nbformat": 4,
 "nbformat_minor": 5
}
