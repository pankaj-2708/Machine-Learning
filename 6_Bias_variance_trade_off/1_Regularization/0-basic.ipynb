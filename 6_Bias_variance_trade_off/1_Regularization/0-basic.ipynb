{
 "cells": [
  {
   "cell_type": "code",
   "execution_count": null,
   "id": "0feafefc-3220-4e76-af24-8fde55a6d35f",
   "metadata": {},
   "outputs": [],
   "source": []
  },
  {
   "cell_type": "raw",
   "id": "e5a0847c-89c5-4711-b214-60a5cdc50f1a",
   "metadata": {},
   "source": [
    "How Regularization Works:\n",
    "\n",
    "    Penalties to the Loss Function:\n",
    "\n",
    "    Regularization adds a penalty term to the loss function, discouraging the model from assigning large weights to certain features or parameters.\n",
    "\n",
    "Reducing Model Complexity:\n",
    "\n",
    "    By penalizing large weights, regularization effectively reduces the complexity of the model, making it less likely to overfit.\n",
    "    \n",
    "Improved Generalization:\n",
    "\n",
    "The simpler, less complex model is better able to generalize to new, unseen data. \n",
    "\n",
    "\n",
    "\n",
    "types of regularization\n",
    "\n",
    "1-ridge (L2) \n",
    "2-lasso (L1) \n",
    "2-elastic net\n"
   ]
  },
  {
   "cell_type": "raw",
   "id": "7d273dbb-c51c-4436-a6fc-da1fb7fa74d9",
   "metadata": {},
   "source": [
    "in ridge regression for preventing our model from overfitting we add lamda*( m1**2 + m2**2 ...mn**2 ) to our cost function\n",
    "\n",
    "new cost function is = sum(( yi - yi_pred )**2) + lamda*( m1**2 + m2**2 ...mn**2 )\n",
    "\n",
    "other things are same\n"
   ]
  }
 ],
 "metadata": {
  "kernelspec": {
   "display_name": "Python 3 (ipykernel)",
   "language": "python",
   "name": "python3"
  },
  "language_info": {
   "codemirror_mode": {
    "name": "ipython",
    "version": 3
   },
   "file_extension": ".py",
   "mimetype": "text/x-python",
   "name": "python",
   "nbconvert_exporter": "python",
   "pygments_lexer": "ipython3",
   "version": "3.12.6"
  }
 },
 "nbformat": 4,
 "nbformat_minor": 5
}
