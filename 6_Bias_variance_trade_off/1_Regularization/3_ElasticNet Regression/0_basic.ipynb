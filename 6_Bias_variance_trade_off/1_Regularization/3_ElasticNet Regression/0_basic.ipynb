{
 "cells": [
  {
   "cell_type": "markdown",
   "id": "e67db55a-5c9e-49aa-a7e9-a311eedf60b0",
   "metadata": {},
   "source": [
    "elastic regression is combination of both lasso or ridge regression \n",
    "\n",
    "<img src=\"../../../images/img2.png\">\n",
    "\n",
    "l1ratio is b/(a+b) slight fix in above img"
   ]
  },
  {
   "cell_type": "markdown",
   "id": "f6e21987-f991-4c77-8372-922395f5184e",
   "metadata": {},
   "source": [
    "we apply ridge regression when all columns are important\n",
    "\n",
    "we apply lasso regression when all columns are not important\n",
    "\n",
    "we apply elastic net regression when we are not sure columns are impt or not and we apply it when columns have high multicollinearity"
   ]
  },
  {
   "cell_type": "code",
   "execution_count": 19,
   "id": "a3ab65d1-2240-4cdd-937c-ec4eea2c5d6e",
   "metadata": {},
   "outputs": [],
   "source": [
    "import numpy as np\n",
    "import pandas as pd\n",
    "import matplotlib.pyplot as plt\n",
    "from sklearn.datasets import load_diabetes\n",
    "\n",
    "data=load_diabetes()\n",
    "X=data.data\n",
    "y=data.target"
   ]
  },
  {
   "cell_type": "code",
   "execution_count": 20,
   "id": "0b0dd076-e988-4d54-8961-084309da9fa6",
   "metadata": {},
   "outputs": [],
   "source": [
    "from sklearn.model_selection import train_test_split\n",
    "X_train,X_test,y_train,y_test=train_test_split(X,y,test_size=0.2,random_state=45)"
   ]
  },
  {
   "cell_type": "code",
   "execution_count": 21,
   "id": "18696824-9326-49f5-ae1e-a99340c70027",
   "metadata": {},
   "outputs": [
    {
     "data": {
      "text/plain": [
       "0.1599284464431484"
      ]
     },
     "execution_count": 21,
     "metadata": {},
     "output_type": "execute_result"
    }
   ],
   "source": [
    "from sklearn.linear_model import LinearRegression\n",
    "from sklearn.metrics import r2_score\n",
    "\n",
    "lr=LinearRegression()\n",
    "\n",
    "lr.fit(X_train,y_train)\n",
    "\n",
    "y_pred=lr.predict(X_test)\n",
    "\n",
    "r2_score(y_pred,y_test)"
   ]
  },
  {
   "cell_type": "code",
   "execution_count": 22,
   "id": "7d84bbd4-2c93-46be-b5a8-0fa84190ce25",
   "metadata": {},
   "outputs": [
    {
     "data": {
      "text/plain": [
       "0.06888617835371547"
      ]
     },
     "execution_count": 22,
     "metadata": {},
     "output_type": "execute_result"
    }
   ],
   "source": [
    "from sklearn.linear_model import Ridge\n",
    "from sklearn.metrics import r2_score\n",
    "\n",
    "lr=Ridge(alpha=0.1)\n",
    "\n",
    "lr.fit(X_train,y_train)\n",
    "\n",
    "y_pred=lr.predict(X_test)\n",
    "\n",
    "r2_score(y_pred,y_test)"
   ]
  },
  {
   "cell_type": "code",
   "execution_count": 23,
   "id": "350b535d-7ee8-4452-972d-98f284796ec3",
   "metadata": {},
   "outputs": [
    {
     "data": {
      "text/plain": [
       "0.06986728226674577"
      ]
     },
     "execution_count": 23,
     "metadata": {},
     "output_type": "execute_result"
    }
   ],
   "source": [
    "from sklearn.linear_model import Lasso\n",
    "from sklearn.metrics import r2_score\n",
    "\n",
    "lr=Lasso(alpha=0.1)\n",
    "\n",
    "lr.fit(X_train,y_train)\n",
    "\n",
    "y_pred=lr.predict(X_test)\n",
    "\n",
    "r2_score(y_pred,y_test)"
   ]
  },
  {
   "cell_type": "code",
   "execution_count": 27,
   "id": "85a24263-4836-49b8-97ba-37db5b4d967d",
   "metadata": {},
   "outputs": [
    {
     "data": {
      "text/plain": [
       "-0.21608537564463592"
      ]
     },
     "execution_count": 27,
     "metadata": {},
     "output_type": "execute_result"
    }
   ],
   "source": [
    "from sklearn.linear_model import ElasticNet\n",
    "from sklearn.metrics import r2_score\n",
    "\n",
    "lr=ElasticNet(alpha=0.01,l1_ratio=0.9)\n",
    "\n",
    "lr.fit(X_train,y_train)\n",
    "\n",
    "y_pred=lr.predict(X_test)\n",
    "\n",
    "r2_score(y_pred,y_test)"
   ]
  },
  {
   "cell_type": "code",
   "execution_count": 37,
   "id": "ad65bd52-82c4-43b7-a0a6-f550bc71b9a0",
   "metadata": {},
   "outputs": [
    {
     "data": {
      "text/plain": [
       "-0.32274465036017497"
      ]
     },
     "execution_count": 37,
     "metadata": {},
     "output_type": "execute_result"
    }
   ],
   "source": [
    "from sklearn.linear_model import SGDRegressor\n",
    "\n",
    "lr=SGDRegressor(alpha=0.01,penalty=\"elasticnet\",l1_ratio=0.9,max_iter=10000,eta0=0.1,learning_rate=\"constant\")\n",
    "\n",
    "lr.fit(X_train,y_train)\n",
    "\n",
    "y_pred=lr.predict(X_test)\n",
    "\n",
    "r2_score(y_pred,y_test)"
   ]
  },
  {
   "cell_type": "code",
   "execution_count": null,
   "id": "8cf77c01-5337-4cf9-96b9-f9ca951523d9",
   "metadata": {},
   "outputs": [],
   "source": []
  }
 ],
 "metadata": {
  "kernelspec": {
   "display_name": "Python 3 (ipykernel)",
   "language": "python",
   "name": "python3"
  },
  "language_info": {
   "codemirror_mode": {
    "name": "ipython",
    "version": 3
   },
   "file_extension": ".py",
   "mimetype": "text/x-python",
   "name": "python",
   "nbconvert_exporter": "python",
   "pygments_lexer": "ipython3",
   "version": "3.12.6"
  }
 },
 "nbformat": 4,
 "nbformat_minor": 5
}
