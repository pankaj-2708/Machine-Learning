{
 "cells": [
  {
   "cell_type": "code",
   "execution_count": 77,
   "id": "4943c30d-1a06-432a-bd00-b26a5bfdc610",
   "metadata": {},
   "outputs": [],
   "source": [
    "import numpy as np\n",
    "import pandas as pd\n",
    "import plotly.express as px\n",
    "import matplotlib.pyplot as plt"
   ]
  },
  {
   "cell_type": "code",
   "execution_count": 172,
   "id": "47d8f391-2626-4410-a791-21ceec81c2c0",
   "metadata": {},
   "outputs": [],
   "source": [
    "def allPossibleArray(length,reqsum,ans,tans):\n",
    "    if sum(tans)<=reqsum and len(tans)==length:\n",
    "        ans.append(tans)\n",
    "        return\n",
    "    if sum(tans)>reqsum:\n",
    "        return\n",
    "    if len(tans)>length:\n",
    "        return\n",
    "    for i in range(reqsum+1):\n",
    "        tempans=tans.copy()\n",
    "        tempans.append(i)\n",
    "        allPossibleArray(length,reqsum,ans,tempans)\n",
    "\n",
    "ans=[]\n",
    "tans=[]"
   ]
  },
  {
   "cell_type": "code",
   "execution_count": 165,
   "id": "fae9bde5-06e6-442e-a391-62dd396c54e7",
   "metadata": {},
   "outputs": [],
   "source": [
    "# using gradient descent\n",
    "class PLR:\n",
    "    def __init__(self,degree,lr,epochs):\n",
    "        self.lr=lr\n",
    "        self.epochs=epochs\n",
    "        self.degree=degree\n",
    "\n",
    "    def polynomial(self,X):\n",
    "        allcomb=[]\n",
    "        # feature length array with sum equal degree with values 0 to featurelength\n",
    "        temp=[]\n",
    "        allPossibleArray(X.shape[1],self.degree,allcomb,temp)\n",
    "        # print(allcomb)\n",
    "        X_new=[]\n",
    "        for row in X:\n",
    "            temp=[]\n",
    "            for comb in allcomb:\n",
    "                mul=1\n",
    "                for i in range(len(comb)):\n",
    "                    mul*=(row[i]**comb[i])\n",
    "                temp.append(mul)\n",
    "            X_new.append(temp)\n",
    "        # print(X_new)\n",
    "        \n",
    "        return X_new\n",
    "        \n",
    "    def fit(self,X,y):\n",
    "        \n",
    "        # X=np.insert(X,0,1,axis=1)\n",
    "        X=np.array(X)\n",
    "        self.b=np.ones(len(X[0]))\n",
    "        # print(X.shape)\n",
    "        for p in range(self.epochs):\n",
    "            y_pred=X @ self.b\n",
    "            # print(y_pred)\n",
    "            error = y - y_pred \n",
    "            gradient=-2 * X.T @ error / len(X)\n",
    "            # print(y)\n",
    "            self.b=self.b - gradient * self.lr\n",
    "        \n",
    "        print(self.b)\n",
    "\n",
    "    def predict(self,X):\n",
    "        X=np.array(X)\n",
    "\n",
    "        ans=X@self.b\n",
    "\n",
    "        return ans"
   ]
  },
  {
   "cell_type": "code",
   "execution_count": 166,
   "id": "e945d28f-dd00-459b-a4d1-087a23fa3a3a",
   "metadata": {},
   "outputs": [],
   "source": [
    "X = 6 * np.random.rand(200, 1) - 3\n",
    "y = 0.8 * X**2 + 0.9 * X + 2 + np.random.randn(200, 1)\n",
    "y=y.ravel()"
   ]
  },
  {
   "cell_type": "code",
   "execution_count": 167,
   "id": "493eebe4-2f2f-4f6c-ae53-355b7d081f7a",
   "metadata": {},
   "outputs": [],
   "source": [
    "from sklearn.model_selection import train_test_split \n",
    "\n",
    "X_train,X_test,y_train,y_test=train_test_split(X,y,test_size=0.1)"
   ]
  },
  {
   "cell_type": "code",
   "execution_count": 170,
   "id": "94655594-1fd2-483c-9c1a-65ef43f174ee",
   "metadata": {},
   "outputs": [
    {
     "name": "stdout",
     "output_type": "stream",
     "text": [
      "[1.4959117  0.81993047 0.91555128]\n"
     ]
    }
   ],
   "source": [
    "plr=PLR(2,0.01,100)\n",
    "\n",
    "X_train_trans=plr.polynomial(X_train)\n",
    "X_test_trans=plr.polynomial(X_test)\n",
    "\n",
    "plr.fit(X_train_trans,y_train)\n",
    "y_pred=plr.predict(X_test_trans)"
   ]
  },
  {
   "cell_type": "code",
   "execution_count": 171,
   "id": "0665393d-4bd8-4440-9829-51e9b70a81b8",
   "metadata": {},
   "outputs": [
    {
     "data": {
      "text/plain": [
       "0.8902870863681029"
      ]
     },
     "execution_count": 171,
     "metadata": {},
     "output_type": "execute_result"
    }
   ],
   "source": [
    "from sklearn.metrics import r2_score\n",
    "r2_score(y_pred,y_test)"
   ]
  },
  {
   "cell_type": "code",
   "execution_count": null,
   "id": "cadbc6e4-62f0-4579-8129-8c7c0a84962c",
   "metadata": {},
   "outputs": [],
   "source": []
  }
 ],
 "metadata": {
  "kernelspec": {
   "display_name": "Python 3 (ipykernel)",
   "language": "python",
   "name": "python3"
  },
  "language_info": {
   "codemirror_mode": {
    "name": "ipython",
    "version": 3
   },
   "file_extension": ".py",
   "mimetype": "text/x-python",
   "name": "python",
   "nbconvert_exporter": "python",
   "pygments_lexer": "ipython3",
   "version": "3.12.6"
  }
 },
 "nbformat": 4,
 "nbformat_minor": 5
}
