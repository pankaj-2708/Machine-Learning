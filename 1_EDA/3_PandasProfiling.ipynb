{
 "cells": [
  {
   "cell_type": "code",
   "execution_count": 4,
   "id": "03ee7d4e-e25f-46f3-b8ce-b4d8fdd78882",
   "metadata": {},
   "outputs": [],
   "source": [
    "import pandas as pd\n",
    "from pandas_profiling import ProfileReport"
   ]
  },
  {
   "cell_type": "code",
   "execution_count": 6,
   "id": "e4b42cc8-e12c-4dc8-9c19-6ea7f8c81d58",
   "metadata": {},
   "outputs": [
    {
     "data": {
      "application/vnd.jupyter.widget-view+json": {
       "model_id": "4055e5afcd664cc9825dfb33236e8eeb",
       "version_major": 2,
       "version_minor": 0
      },
      "text/plain": [
       "Summarize dataset:   0%|          | 0/5 [00:00<?, ?it/s]"
      ]
     },
     "metadata": {},
     "output_type": "display_data"
    },
    {
     "name": "stderr",
     "output_type": "stream",
     "text": [
      "\n",
      "  0%|                                                                                                                               | 0/82 [00:00<?, ?it/s]\u001b[A\n",
      "  2%|██▉                                                                                                                    | 2/82 [00:00<00:05, 13.81it/s]\u001b[A\n",
      "  5%|█████▊                                                                                                                 | 4/82 [00:00<00:10,  7.37it/s]\u001b[A\n",
      "  6%|███████▎                                                                                                               | 5/82 [00:00<00:12,  5.94it/s]\u001b[A\n",
      "  7%|████████▋                                                                                                              | 6/82 [00:01<00:15,  4.87it/s]\u001b[A\n",
      "  9%|██████████▏                                                                                                            | 7/82 [00:01<00:16,  4.62it/s]\u001b[A\n",
      " 10%|███████████▌                                                                                                           | 8/82 [00:01<00:17,  4.23it/s]\u001b[A\n",
      " 11%|█████████████                                                                                                          | 9/82 [00:01<00:14,  5.10it/s]\u001b[A\n",
      " 12%|██████████████▍                                                                                                       | 10/82 [00:01<00:13,  5.17it/s]\u001b[A\n",
      " 13%|███████████████▊                                                                                                      | 11/82 [00:02<00:12,  5.86it/s]\u001b[A\n",
      " 15%|█████████████████▎                                                                                                    | 12/82 [00:02<00:11,  6.03it/s]\u001b[A\n",
      " 16%|██████████████████▋                                                                                                   | 13/82 [00:02<00:11,  5.77it/s]\u001b[A\n",
      " 17%|████████████████████▏                                                                                                 | 14/82 [00:02<00:10,  6.29it/s]\u001b[A\n",
      " 18%|█████████████████████▌                                                                                                | 15/82 [00:03<00:11,  5.72it/s]\u001b[A\n",
      " 20%|███████████████████████                                                                                               | 16/82 [00:03<00:19,  3.38it/s]\u001b[A\n",
      " 21%|████████████████████████▍                                                                                             | 17/82 [00:03<00:17,  3.70it/s]\u001b[A\n",
      " 22%|█████████████████████████▉                                                                                            | 18/82 [00:03<00:15,  4.00it/s]\u001b[A\n",
      " 23%|███████████████████████████▎                                                                                          | 19/82 [00:03<00:15,  4.17it/s]\u001b[A\n",
      " 24%|████████████████████████████▊                                                                                         | 20/82 [00:03<00:12,  5.02it/s]\u001b[A\n",
      "100%|██████████████████████████████████████████████████████████████████████████████████████████████████████████████████████| 82/82 [00:04<00:00, 19.70it/s]\u001b[A\n"
     ]
    },
    {
     "data": {
      "application/vnd.jupyter.widget-view+json": {
       "model_id": "7b0ba0e5bc424cd7a9fd39c8bfdd4e78",
       "version_major": 2,
       "version_minor": 0
      },
      "text/plain": [
       "Generate report structure:   0%|          | 0/1 [00:00<?, ?it/s]"
      ]
     },
     "metadata": {},
     "output_type": "display_data"
    },
    {
     "data": {
      "application/vnd.jupyter.widget-view+json": {
       "model_id": "4c9a0cad3c064289bd7d79ff89dc2ada",
       "version_major": 2,
       "version_minor": 0
      },
      "text/plain": [
       "Render HTML:   0%|          | 0/1 [00:00<?, ?it/s]"
      ]
     },
     "metadata": {},
     "output_type": "display_data"
    },
    {
     "data": {
      "application/vnd.jupyter.widget-view+json": {
       "model_id": "80d7bef184054388853340b8b6d225f5",
       "version_major": 2,
       "version_minor": 0
      },
      "text/plain": [
       "Export report to file:   0%|          | 0/1 [00:00<?, ?it/s]"
      ]
     },
     "metadata": {},
     "output_type": "display_data"
    }
   ],
   "source": [
    "df=pd.read_csv(\"AmesHousing.csv\")\n",
    "df.head()\n",
    "profile = ProfileReport(df, title=\"My Data Profile\", explorative=True)\n",
    "profile.to_file(\"5_res.html\")"
   ]
  },
  {
   "cell_type": "code",
   "execution_count": null,
   "id": "0d285ed5-011f-48a2-a34e-c3a1316d478c",
   "metadata": {},
   "outputs": [],
   "source": []
  }
 ],
 "metadata": {
  "kernelspec": {
   "display_name": "Python 3 (ipykernel)",
   "language": "python",
   "name": "python3"
  },
  "language_info": {
   "codemirror_mode": {
    "name": "ipython",
    "version": 3
   },
   "file_extension": ".py",
   "mimetype": "text/x-python",
   "name": "python",
   "nbconvert_exporter": "python",
   "pygments_lexer": "ipython3",
   "version": "3.12.6"
  }
 },
 "nbformat": 4,
 "nbformat_minor": 5
}
