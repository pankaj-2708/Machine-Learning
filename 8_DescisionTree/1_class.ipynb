{
 "cells": [
  {
   "cell_type": "code",
   "execution_count": 1,
   "id": "1f77a677-6ca3-4255-ae19-35be5263fd57",
   "metadata": {},
   "outputs": [],
   "source": [
    "import numpy as np\n",
    "import pandas as pd"
   ]
  },
  {
   "cell_type": "code",
   "execution_count": 2,
   "id": "75828c34-ebf2-4250-b368-ab25b9e3d013",
   "metadata": {},
   "outputs": [],
   "source": [
    "class DescissionTree:\n",
    "    def __init__(self,depth):\n",
    "        self.tree=None\n",
    "        self.max_depth=depth\n",
    "\n",
    "    def _gini(self,arr):\n",
    "        classes,count=np.unique(arr,return_counts=True)\n",
    "        probs=count/count.sum()\n",
    "        return 1 - sum(probs**2)\n",
    "\n",
    "    def _entropy(self,arr):\n",
    "        classes,count=np.unique(arr,return_counts=True)\n",
    "        probs=count/count.sum()\n",
    "        return sum([-i * np.log2(i) for i in probs])\n",
    "        \n",
    "\n",
    "    def _best_split(self, X ,y):\n",
    "        best_gini=float('inf')\n",
    "        best_index=None\n",
    "        best_thresh=None\n",
    "        for feature_index in range(X.shape[1]):\n",
    "            thresholds=np.unique(X[:,feature_index])\n",
    "            for threshold in thresholds:\n",
    "                left_mask=X[:,feature_index]<=threshold\n",
    "                right_mask=X[:,feature_index]>threshold\n",
    "\n",
    "                if len(y[left_mask])==0 or len(y[right_mask])==0:\n",
    "                    continue\n",
    "                left_gini=self._entropy(y[left_mask])\n",
    "                right_gini=self._entropy(y[right_mask])\n",
    "\n",
    "                weighted_gini=(len(y[left_mask])*left_gini+ len(y[right_mask])* right_gini)/len(y)\n",
    "                \n",
    "                if weighted_gini<best_gini:\n",
    "                    best_gini=weighted_gini\n",
    "                    best_index=feature_index\n",
    "                    best_thresh=threshold\n",
    "\n",
    "        return best_index,best_thresh\n",
    "\n",
    "    def build_Tree(self,X,y,depth=0):\n",
    "        if len(np.unique(y)) == 1 or depth == self.max_depth:\n",
    "            return {\"leaf\":True,'class':np.bincount(y).argmax()}\n",
    "            \n",
    "        feature_index,threshold=self._best_split(X,y)\n",
    "\n",
    "        if feature_index==None:\n",
    "            return {\"leaf\":True,'class':np.bincount(y).argmax()}\n",
    "\n",
    "        left_mask=X[:,feature_index]<=threshold\n",
    "        right_mask=X[:,feature_index]>threshold\n",
    "\n",
    "        left_subtree=self.build_Tree(X[left_mask],y[left_mask],depth+1)\n",
    "        right_subtree=self.build_Tree(X[right_mask],y[right_mask],depth+1)\n",
    "\n",
    "        return {\n",
    "                'leaf':False,\n",
    "                'feature_index':feature_index,\n",
    "                'threshold':threshold,\n",
    "                'left_subtree':left_subtree,\n",
    "                'right_subtree':right_subtree\n",
    "               }\n",
    "        \n",
    "    def fit(self,X,y):\n",
    "        self.Tree=self.build_Tree(X,y)\n",
    "\n",
    "    def predict_one(self,x):\n",
    "        tree=self.Tree\n",
    "        while not tree['leaf']:\n",
    "            if x[tree['feature_index']] <= tree['threshold']:\n",
    "                tree = tree['left_subtree']\n",
    "            else:\n",
    "                tree = tree['right_subtree']\n",
    "        return tree['class']\n",
    "        \n",
    "    def predict(self,X):\n",
    "        return [self.predict_one(i) for i in X]"
   ]
  },
  {
   "cell_type": "code",
   "execution_count": 19,
   "id": "c6eb1186-8b66-4d8d-b26b-cd434e83b639",
   "metadata": {},
   "outputs": [
    {
     "name": "stdout",
     "output_type": "stream",
     "text": [
      "Accuracy: 1.0\n"
     ]
    }
   ],
   "source": [
    "from sklearn.datasets import load_iris\n",
    "from sklearn.model_selection import train_test_split\n",
    "\n",
    "X,y=load_iris(return_X_y=True)\n",
    "X_train, X_test, y_train, y_test = train_test_split(X,y, test_size=0.2, random_state=42)\n",
    "\n",
    "tree = DescissionTree(3)\n",
    "tree.fit(X_train, y_train)\n",
    "y_pred = tree.predict(X_test)\n",
    "\n",
    "# Accuracy\n",
    "# print(\"Predicted:\", y_pred)\n",
    "# print(\"Actual   :\", y_test)\n",
    "print(\"Accuracy:\", (y_pred == y_test).mean())\n"
   ]
  },
  {
   "cell_type": "code",
   "execution_count": 20,
   "id": "1d5aab5d-03bd-4e03-bf8d-d1d33a9b17cd",
   "metadata": {},
   "outputs": [
    {
     "data": {
      "text/plain": [
       "array([[10,  0,  0],\n",
       "       [ 0,  9,  0],\n",
       "       [ 0,  0, 11]])"
      ]
     },
     "execution_count": 20,
     "metadata": {},
     "output_type": "execute_result"
    }
   ],
   "source": [
    "from sklearn.metrics import confusion_matrix\n",
    "\n",
    "confusion_matrix(y_pred,y_test)"
   ]
  },
  {
   "cell_type": "code",
   "execution_count": null,
   "id": "5de7dfda-d837-4ced-9840-a21ca3c849df",
   "metadata": {},
   "outputs": [],
   "source": []
  }
 ],
 "metadata": {
  "kernelspec": {
   "display_name": "Python 3 (ipykernel)",
   "language": "python",
   "name": "python3"
  },
  "language_info": {
   "codemirror_mode": {
    "name": "ipython",
    "version": 3
   },
   "file_extension": ".py",
   "mimetype": "text/x-python",
   "name": "python",
   "nbconvert_exporter": "python",
   "pygments_lexer": "ipython3",
   "version": "3.12.6"
  }
 },
 "nbformat": 4,
 "nbformat_minor": 5
}
