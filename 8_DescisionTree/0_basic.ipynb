{
 "cells": [
  {
   "cell_type": "markdown",
   "id": "7077b839-443d-471e-a8e1-be220844cef4",
   "metadata": {},
   "source": [
    "<img src=\"../images/11-06-25 (1).png\">"
   ]
  },
  {
   "cell_type": "raw",
   "id": "e7207b72-ceb8-4085-8348-5488664da31e",
   "metadata": {},
   "source": [
    "eg-\n",
    "\n",
    "                Is it exam week?\n",
    "                   /        \\\n",
    "                Yes          No\n",
    "               /               \\\n",
    "          Study           Do you have money?\n",
    "                             /          \\\n",
    "                          Yes            No\n",
    "                         /                \\\n",
    "                   Go Out              Stay Home\n"
   ]
  },
  {
   "cell_type": "markdown",
   "id": "cb43800a-b14b-47f7-ac85-b68cac5a2d4e",
   "metadata": {},
   "source": [
    "# CART Algoritham \n",
    "\n",
    "it is an algo for creating descision tree\n",
    "\n",
    "cart algo uses gini index for splitting but we can also use entropy as given below our main goal is to maximise info gain\n",
    "\n",
    "<img src=\"../images/11-06-25.png\">"
   ]
  },
  {
   "cell_type": "markdown",
   "id": "e500dd3e-ecab-4901-ad37-5b53e38c0df2",
   "metadata": {},
   "source": [
    "to check on basis of which column we get best result we need to calcultare information gain for each col and whichever column maximize we select it \n",
    "\n",
    "there are two ways of calculating info gain\n",
    "\n",
    "1- using entropy\n",
    "\n",
    "2- using gini impurity\n",
    "\n",
    "formula = X ( parent ) - weighted X of children\n",
    "\n",
    "where X can be any of above thing"
   ]
  },
  {
   "cell_type": "markdown",
   "id": "8e6646cc-94a0-42f1-afaf-6dbb2a197dcf",
   "metadata": {},
   "source": [
    "# entropy\n",
    "<img src=\"../images/11-06-25 (2).png\">"
   ]
  },
  {
   "cell_type": "markdown",
   "id": "512315d6-d556-471d-b4ef-80c89f8f7115",
   "metadata": {},
   "source": [
    "<img src=\"../images/11-06-25 .png\">\n",
    "<img src=\"../images/11-06-25  (2).png\">"
   ]
  },
  {
   "cell_type": "markdown",
   "id": "c3714875-a82f-48de-8fa9-63624f3ec92d",
   "metadata": {},
   "source": [
    "# for continuious variables\n",
    "\n",
    "entropy can be predicted by looking at the graph which has more wider plot on x axis has more entropy"
   ]
  },
  {
   "cell_type": "markdown",
   "id": "cbaf9037-aa90-4e30-a60b-e6df09fbef2b",
   "metadata": {},
   "source": [
    "# Information Gain\n",
    "\n",
    "<img src=\"../images/11-06-25 (4).png\">\n",
    "<img src=\"../images/11-06-25 (5).png\">\n",
    "<img src=\"../images/11-06-25 (6).png\">\n",
    "<img src=\"../images/11-06-25 (7).png\">\n",
    "<img src=\"../images/11-06-25 (8).png\">\n",
    "<img src=\"../images/11-06-25 (9).png\">\n",
    "<img src=\"../images/11-06-25 (3).png\">"
   ]
  },
  {
   "cell_type": "markdown",
   "id": "05458935-24e2-4ab8-b548-dcc212ef9dfe",
   "metadata": {},
   "source": [
    "# GIni Impurity\n",
    "\n",
    "gini_imp= 1- sum ( probabilty ( event i ) **2 )\n",
    "\n",
    "its max value is 0.5\n",
    "\n",
    "it is computatially eficent than entropy \n",
    "\n",
    "but entropy is better than this "
   ]
  },
  {
   "cell_type": "markdown",
   "id": "a1ffce34-7138-4bf1-93b4-9ef44e957447",
   "metadata": {},
   "source": [
    "# For numerical data\n",
    "<img src=\"../images/11-06-25 (10).png\">\n",
    "<img src=\"../images/11-06-25 (11).png\">\n",
    "<img src=\"../images/11-06-25 (12).png\">\n",
    "<img src=\"../images/11-06-25 (13).png\">\n",
    "<img src=\"../images/11-06-25 (14).png\">\n",
    "<img src=\"../images/11-06-25 (15).png\">"
   ]
  },
  {
   "cell_type": "code",
   "execution_count": null,
   "id": "5f709090-971d-4ba5-af74-0e2bba2c9ab7",
   "metadata": {},
   "outputs": [],
   "source": []
  },
  {
   "cell_type": "code",
   "execution_count": null,
   "id": "09f62ed3-c439-4a60-88bd-ea078c1360c3",
   "metadata": {},
   "outputs": [],
   "source": []
  }
 ],
 "metadata": {
  "kernelspec": {
   "display_name": "Python 3 (ipykernel)",
   "language": "python",
   "name": "python3"
  },
  "language_info": {
   "codemirror_mode": {
    "name": "ipython",
    "version": 3
   },
   "file_extension": ".py",
   "mimetype": "text/x-python",
   "name": "python",
   "nbconvert_exporter": "python",
   "pygments_lexer": "ipython3",
   "version": "3.12.6"
  }
 },
 "nbformat": 4,
 "nbformat_minor": 5
}
