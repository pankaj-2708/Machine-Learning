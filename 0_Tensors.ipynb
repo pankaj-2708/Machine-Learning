{
 "cells": [
  {
   "cell_type": "code",
   "execution_count": 4,
   "id": "97c9b4ad-e2af-41ca-9833-c6f65eeb3e26",
   "metadata": {},
   "outputs": [],
   "source": [
    "# In machine learning, a tensor is a fundamental data structure, essentially a multi-dimensional array, that \n",
    "# generalizes the concept of scalars, vectors, and matrices to higher dimensions\n",
    "\n",
    "# A tensor is a general term for an N-dimensional data structure:\n",
    "\n",
    "# Scalar(one element) → 0D tensor\n",
    "\n",
    "# Vector → 1D tensor   1D tensor(vector) is a N dimensional vector where N is the length of vector\n",
    "\n",
    "# Matrix → 2D tensor\n",
    "\n",
    "# Higher-rank tensors → 3D, 4D, etc."
   ]
  },
  {
   "cell_type": "code",
   "execution_count": 5,
   "id": "8ee1fd59-5a8f-4b12-9444-ef4f0819e4b7",
   "metadata": {},
   "outputs": [
    {
     "data": {
      "text/plain": [
       "array(4)"
      ]
     },
     "execution_count": 5,
     "metadata": {},
     "output_type": "execute_result"
    }
   ],
   "source": [
    "import numpy as np\n",
    "\n",
    "# 0D scalar\n",
    "a=np.array(4)\n",
    "a"
   ]
  },
  {
   "cell_type": "code",
   "execution_count": null,
   "id": "29e21684-b2e7-4d7e-8fc4-2791b0e3dc44",
   "metadata": {},
   "outputs": [],
   "source": []
  }
 ],
 "metadata": {
  "kernelspec": {
   "display_name": "Python 3 (ipykernel)",
   "language": "python",
   "name": "python3"
  },
  "language_info": {
   "codemirror_mode": {
    "name": "ipython",
    "version": 3
   },
   "file_extension": ".py",
   "mimetype": "text/x-python",
   "name": "python",
   "nbconvert_exporter": "python",
   "pygments_lexer": "ipython3",
   "version": "3.12.6"
  }
 },
 "nbformat": 4,
 "nbformat_minor": 5
}
