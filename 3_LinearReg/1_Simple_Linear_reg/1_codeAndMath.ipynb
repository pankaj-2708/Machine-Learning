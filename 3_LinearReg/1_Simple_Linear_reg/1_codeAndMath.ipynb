{
 "cells": [
  {
   "cell_type": "raw",
   "id": "712dac9c-acb3-4c8a-a7d3-134ae9f43e95",
   "metadata": {},
   "source": [
    "sckit learn solve regression problem by two methodos \n",
    "\n",
    "1-ols (oridnary least square)\n",
    "    in this we do computation to calculate optimal values of required variables \n",
    "    linearRegression class in sckit learn use this method\n",
    "\n",
    "\n",
    "2-gradient descent\n",
    "    in this approximate step by step to get to optimal values of required variables\n",
    "    sgbRegression class in sckit learn use this method"
   ]
  },
  {
   "cell_type": "markdown",
   "id": "5e3ca6ee-3b0d-46da-9182-d9e38c56cb8c",
   "metadata": {},
   "source": [
    "in simple linear regression we try to find a m and b for the equatio y=mx+b that fits best to given points\n",
    "\n",
    "here cost function is = sum((actual_value_of_y-(mx+b))**2)\n",
    "\n",
    "when we plot curve of m and b with cost function in 3d we get a curve like this \n",
    "\n",
    "<img src=\"https://encrypted-tbn0.gstatic.com/images?q=tbn:ANd9GcR3VnByFRpUEVVbxMKRvC2j1ZxMAvVWxHGRUQ&s\">\n",
    "\n",
    "for mimising it we use differention tech \n",
    "\n",
    "<img src=\"../../images/b_min.png\">\n",
    "<img src=\"../../images/min_1.png\">\n",
    "<img src=\"../../images/min_2.png\">\n"
   ]
  },
  {
   "cell_type": "code",
   "execution_count": 1,
   "id": "e5077ed3-1b7b-4a1b-a3fc-f8c5a65730c6",
   "metadata": {},
   "outputs": [],
   "source": [
    "import pandas as pd\n",
    "import matplotlib.pyplot as plt\n",
    "import numpy as np\n",
    "import seaborn as sns\n",
    "\n",
    "df=pd.read_csv(\"../../Datasets/placement2.csv\")\n",
    "\n",
    "from sklearn.model_selection import train_test_split\n",
    "\n",
    "X=df.iloc[:,:-1]\n",
    "y=df.iloc[:,-1]\n",
    "\n",
    "X_train,X_test,y_train,y_test=train_test_split(X,y,test_size=0.25,random_state=42)"
   ]
  },
  {
   "cell_type": "code",
   "execution_count": 2,
   "id": "257f3002-f40c-411b-b181-48049c34ef09",
   "metadata": {},
   "outputs": [],
   "source": [
    "class LR:\n",
    "    def __init__(self):\n",
    "        self.m=None\n",
    "        self.b=None\n",
    "\n",
    "    def train(self,X_train,y_train):\n",
    "        y_mean=y_train.mean()\n",
    "        X_mean=X_train.mean()\n",
    "\n",
    "        comp1=0\n",
    "        comp2=0\n",
    "\n",
    "        for xi,yi in zip(X_train[\"cgpa\"],y_train):\n",
    "            comp1+=((xi-X_mean)*(yi-y_mean))\n",
    "            comp2+=((xi-X_mean)**2)\n",
    "\n",
    "        self.m=comp1/comp2\n",
    "        self.b=y_mean-self.m*X_mean\n",
    "        print(self.m)\n",
    "        print(self.b)\n",
    "        \n",
    "    def predict(self,X_test):\n",
    "        ans=np.array([],dtype=\"float\")\n",
    "\n",
    "        for i in X_test[\"cgpa\"]:\n",
    "            ans=np.append(ans,[self.m*i+self.b])\n",
    "\n",
    "        return ans\n",
    "        "
   ]
  },
  {
   "cell_type": "code",
   "execution_count": 3,
   "id": "f26fda94-ebca-4c28-892f-75f65dd9a497",
   "metadata": {},
   "outputs": [
    {
     "name": "stdout",
     "output_type": "stream",
     "text": [
      "cgpa    0.571114\n",
      "dtype: float64\n",
      "cgpa   -0.999895\n",
      "dtype: float64\n"
     ]
    }
   ],
   "source": [
    "lr=LR()\n",
    "\n",
    "lr.train(X_train,y_train)\n",
    "\n",
    "y_pred=lr.predict(X_test)"
   ]
  },
  {
   "cell_type": "code",
   "execution_count": 4,
   "id": "ae95079a-6650-4f88-984a-9caa3d93d9fc",
   "metadata": {},
   "outputs": [
    {
     "name": "stdout",
     "output_type": "stream",
     "text": [
      "MSE: 0.09122322472141597\n"
     ]
    }
   ],
   "source": [
    "from sklearn.metrics import mean_squared_error\n",
    "\n",
    "mse = mean_squared_error(y_test, y_pred)\n",
    "print(\"MSE:\", mse)"
   ]
  },
  {
   "cell_type": "code",
   "execution_count": 5,
   "id": "b8349b9e-fb89-4a08-a8aa-f084b4b1c7db",
   "metadata": {},
   "outputs": [
    {
     "data": {
      "text/plain": [
       "0.7774721122516276"
      ]
     },
     "execution_count": 5,
     "metadata": {},
     "output_type": "execute_result"
    }
   ],
   "source": [
    "from sklearn.metrics import r2_score\n",
    "\n",
    "r2_score(y_test, y_pred)"
   ]
  },
  {
   "cell_type": "code",
   "execution_count": null,
   "id": "7a8213ea-6425-463d-b171-cce9c2194b7d",
   "metadata": {},
   "outputs": [],
   "source": []
  }
 ],
 "metadata": {
  "kernelspec": {
   "display_name": "Python 3 (ipykernel)",
   "language": "python",
   "name": "python3"
  },
  "language_info": {
   "codemirror_mode": {
    "name": "ipython",
    "version": 3
   },
   "file_extension": ".py",
   "mimetype": "text/x-python",
   "name": "python",
   "nbconvert_exporter": "python",
   "pygments_lexer": "ipython3",
   "version": "3.12.6"
  }
 },
 "nbformat": 4,
 "nbformat_minor": 5
}
