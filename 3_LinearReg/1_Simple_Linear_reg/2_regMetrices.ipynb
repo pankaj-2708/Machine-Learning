{
 "cells": [
  {
   "cell_type": "raw",
   "id": "c58f0ad1-3e86-49ba-a4cc-fd03cfa6933e",
   "metadata": {},
   "source": [
    "1. MSE (Mean Squared Error):\n",
    "   Formula:\n",
    "     MSE = (1/n) * Σ (yᵢ - ŷᵢ)²\n",
    "\n",
    "   Advantages:\n",
    "   - Penalizes larger errors more due to squaring\n",
    "   - Differentiable → good for optimization (e.g., in ML)\n",
    "\n",
    "   Disadvantages:\n",
    "   - Sensitive to outliers\n",
    "   - Units are squared → not directly interpretable\n",
    "\n",
    "---\n",
    "\n",
    "2. MAE (Mean Absolute Error):\n",
    "   Formula:\n",
    "     MAE = (1/n) * Σ |yᵢ - ŷᵢ|\n",
    "\n",
    "   Advantages:\n",
    "   - More robust to outliers than MSE\n",
    "   - Same unit as target variable\n",
    "\n",
    "   Disadvantages:\n",
    "   - Less sensitive to large errors\n",
    "   - Not differentiable at zero (can be tricky in optimization)\n",
    "\n",
    "---\n",
    "\n",
    "3. RMSE (Root Mean Squared Error):\n",
    "   Formula:\n",
    "     RMSE = √[ (1/n) * Σ (yᵢ - ŷᵢ)² ]\n",
    "\n",
    "   Advantages:\n",
    "   - Same unit as the target variable\n",
    "   - Penalizes larger errors like MSE but more interpretable\n",
    "\n",
    "   Disadvantages:\n",
    "   - Still sensitive to outliers\n",
    "   - May exaggerate the impact of large errors\n",
    "\n",
    "---\n",
    "\n",
    "4. R² Score (Coefficient of Determination):\n",
    "   Formula:\n",
    "     R² = 1 - [ Σ (yᵢ - ŷᵢ)² / Σ (yᵢ - ȳ)² ]\n",
    "     R² = 1 - [ MSE w.r.t regression line / MSE w.r.t mean line ]\n",
    "    \n",
    "    it basically compare results due to regression line and mean line\n",
    "\n",
    "    perfect line - R2 score is 1\n",
    "    wrost line - R2 score is 0 or negative\n",
    "\n",
    "    interpretation of r2 score\n",
    "    if r2 score is .80 it means that x is able to explain 80% variance of y\n",
    "\n",
    "   Advantages:\n",
    "   - Indicates how well the model explains variance in data\n",
    "   - Easy to interpret (0 to 1 scale, higher is better)\n",
    "\n",
    "   Disadvantages:\n",
    "   - Can be misleading if used alone\n",
    "   - Doesn’t account for number of predictors\n",
    "   - r2 score also increases when we add irrelevant columns as x\n",
    "---\n",
    "\n",
    "5. Adjusted R² Score:\n",
    "   Formula:\n",
    "     Adjusted R² = 1 - [ (1 - R²) * (n - 1) / (n - p - 1) ]\n",
    "\n",
    "   where:\n",
    "     n = number of observations\n",
    "     p = number of predictors\n",
    "\n",
    "    it solve last disadvantage of R2 score\n",
    "   Advantages:\n",
    "   - Adjusts R² by accounting for number of predictors\n",
    "   - Prevents overestimating model performance in multi-variable models\n",
    "\n",
    "   Disadvantages:\n",
    "   - Harder to interpret than plain R²\n",
    "   - Still doesn’t indicate if predictors are meaningful\n",
    "\n"
   ]
  },
  {
   "cell_type": "code",
   "execution_count": 1,
   "id": "b9512622-ed7a-49d0-96ab-da511053e40f",
   "metadata": {},
   "outputs": [],
   "source": [
    "import pandas as pd\n",
    "import matplotlib.pyplot as plt\n",
    "import numpy as np\n",
    "import seaborn as sns"
   ]
  },
  {
   "cell_type": "code",
   "execution_count": 2,
   "id": "e76370b1-c2d2-4ba1-a815-caf09f57939e",
   "metadata": {},
   "outputs": [
    {
     "data": {
      "text/html": [
       "<div>\n",
       "<style scoped>\n",
       "    .dataframe tbody tr th:only-of-type {\n",
       "        vertical-align: middle;\n",
       "    }\n",
       "\n",
       "    .dataframe tbody tr th {\n",
       "        vertical-align: top;\n",
       "    }\n",
       "\n",
       "    .dataframe thead th {\n",
       "        text-align: right;\n",
       "    }\n",
       "</style>\n",
       "<table border=\"1\" class=\"dataframe\">\n",
       "  <thead>\n",
       "    <tr style=\"text-align: right;\">\n",
       "      <th></th>\n",
       "      <th>cgpa</th>\n",
       "      <th>package</th>\n",
       "    </tr>\n",
       "  </thead>\n",
       "  <tbody>\n",
       "    <tr>\n",
       "      <th>0</th>\n",
       "      <td>6.89</td>\n",
       "      <td>3.26</td>\n",
       "    </tr>\n",
       "    <tr>\n",
       "      <th>1</th>\n",
       "      <td>5.12</td>\n",
       "      <td>1.98</td>\n",
       "    </tr>\n",
       "    <tr>\n",
       "      <th>2</th>\n",
       "      <td>7.82</td>\n",
       "      <td>3.25</td>\n",
       "    </tr>\n",
       "    <tr>\n",
       "      <th>3</th>\n",
       "      <td>7.42</td>\n",
       "      <td>3.67</td>\n",
       "    </tr>\n",
       "    <tr>\n",
       "      <th>4</th>\n",
       "      <td>6.94</td>\n",
       "      <td>3.57</td>\n",
       "    </tr>\n",
       "  </tbody>\n",
       "</table>\n",
       "</div>"
      ],
      "text/plain": [
       "   cgpa  package\n",
       "0  6.89     3.26\n",
       "1  5.12     1.98\n",
       "2  7.82     3.25\n",
       "3  7.42     3.67\n",
       "4  6.94     3.57"
      ]
     },
     "execution_count": 2,
     "metadata": {},
     "output_type": "execute_result"
    }
   ],
   "source": [
    "df=pd.read_csv(\"../../Datasets/placement2.csv\")\n",
    "df.head()"
   ]
  },
  {
   "cell_type": "code",
   "execution_count": 3,
   "id": "373dc44a-ba36-4c84-badb-1b6690f0f875",
   "metadata": {},
   "outputs": [
    {
     "data": {
      "text/plain": [
       "Text(0, 0.5, 'package in lpa')"
      ]
     },
     "execution_count": 3,
     "metadata": {},
     "output_type": "execute_result"
    },
    {
     "data": {
      "image/png": "[encoded data removed]",
      "text/plain": [
       "<Figure size 640x480 with 1 Axes>"
      ]
     },
     "metadata": {},
     "output_type": "display_data"
    }
   ],
   "source": [
    "plt.scatter(df[\"cgpa\"],df[\"package\"])\n",
    "plt.xlabel(\"CGPA\")\n",
    "plt.ylabel(\"package in lpa\")"
   ]
  },
  {
   "cell_type": "code",
   "execution_count": 4,
   "id": "66769ff7-bf0a-4b65-b2e9-bb2f28414675",
   "metadata": {},
   "outputs": [],
   "source": [
    "from sklearn.model_selection import train_test_split\n",
    "\n",
    "X=df.iloc[:,:-1]\n",
    "y=df.iloc[:,-1]\n",
    "X_train,X_test,y_train,y_test=train_test_split(X,y,test_size=0.25,random_state=42)"
   ]
  },
  {
   "cell_type": "code",
   "execution_count": 5,
   "id": "819a2a2d-60cb-4511-8a02-7a8af58587d6",
   "metadata": {},
   "outputs": [],
   "source": [
    "from sklearn.linear_model import LinearRegression\n",
    "\n",
    "lr=LinearRegression()\n",
    "\n",
    "lr.fit(X_train,y_train)\n",
    "\n",
    "y_pred=lr.predict(X_test)\n"
   ]
  },
  {
   "cell_type": "code",
   "execution_count": 6,
   "id": "a1cb2a08-bb8c-4381-812a-e18916f0228c",
   "metadata": {},
   "outputs": [
    {
     "data": {
      "text/plain": [
       "Text(0, 0.5, 'package in lpa')"
      ]
     },
     "execution_count": 6,
     "metadata": {},
     "output_type": "execute_result"
    },
    {
     "data": {
      "image/png": "[encoded data removed]",
      "text/plain": [
       "<Figure size 640x480 with 1 Axes>"
      ]
     },
     "metadata": {},
     "output_type": "display_data"
    }
   ],
   "source": [
    "plt.scatter(df[\"cgpa\"],df[\"package\"])\n",
    "plt.plot(X_test,y_pred,color=\"red\")\n",
    "plt.xlabel(\"CGPA\")\n",
    "plt.ylabel(\"package in lpa\")"
   ]
  },
  {
   "cell_type": "code",
   "execution_count": 7,
   "id": "468d8802-e9c6-4b39-9222-f277c47c1df5",
   "metadata": {},
   "outputs": [
    {
     "data": {
      "text/plain": [
       "(array([0.57111357]), np.float64(-0.9998951779221357))"
      ]
     },
     "execution_count": 7,
     "metadata": {},
     "output_type": "execute_result"
    }
   ],
   "source": [
    "slope=lr.coef_\n",
    "intercept=lr.intercept_\n",
    "slope,intercept"
   ]
  },
  {
   "cell_type": "code",
   "execution_count": 9,
   "id": "1b398121-1a98-45a0-ae8b-929dfc7a021a",
   "metadata": {},
   "outputs": [
    {
     "name": "stdout",
     "output_type": "stream",
     "text": [
      "MSE: 0.09122322472141596\n",
      "MAE: 0.24266327437416046\n",
      "r2score: 0.7774721122516276\n"
     ]
    }
   ],
   "source": [
    "from sklearn.metrics import mean_squared_error,r2_score,mean_absolute_error,r2_score\n",
    "\n",
    "mse = mean_squared_error(y_test, y_pred)\n",
    "mae = mean_absolute_error(y_test, y_pred)\n",
    "r2 = r2_score(y_test, y_pred)\n",
    "print(\"MSE:\", mse)\n",
    "print(\"MAE:\", mae)\n",
    "print(\"r2score:\", r2)\n"
   ]
  },
  {
   "cell_type": "code",
   "execution_count": 11,
   "id": "0689ff6b-1182-4d3e-9a7f-c40f3e32264d",
   "metadata": {},
   "outputs": [
    {
     "name": "stdout",
     "output_type": "stream",
     "text": [
      "0.7728361145902032\n"
     ]
    }
   ],
   "source": [
    "# adjusted r2 score\n",
    "adjusted_r2_score=1-(1-r2)*(X_test.shape[0]-1)/(X_test.shape[0]-1-1)\n",
    "print(adjusted_r2_score)"
   ]
  },
  {
   "cell_type": "code",
   "execution_count": 19,
   "id": "c19bbcce-21b4-4e1d-bf48-b42dec2c0442",
   "metadata": {},
   "outputs": [
    {
     "data": {
      "text/html": [
       "<div>\n",
       "<style scoped>\n",
       "    .dataframe tbody tr th:only-of-type {\n",
       "        vertical-align: middle;\n",
       "    }\n",
       "\n",
       "    .dataframe tbody tr th {\n",
       "        vertical-align: top;\n",
       "    }\n",
       "\n",
       "    .dataframe thead th {\n",
       "        text-align: right;\n",
       "    }\n",
       "</style>\n",
       "<table border=\"1\" class=\"dataframe\">\n",
       "  <thead>\n",
       "    <tr style=\"text-align: right;\">\n",
       "      <th></th>\n",
       "      <th>cgpa</th>\n",
       "      <th>package</th>\n",
       "      <th>random</th>\n",
       "    </tr>\n",
       "  </thead>\n",
       "  <tbody>\n",
       "    <tr>\n",
       "      <th>0</th>\n",
       "      <td>6.89</td>\n",
       "      <td>3.26</td>\n",
       "      <td>0.366739</td>\n",
       "    </tr>\n",
       "    <tr>\n",
       "      <th>1</th>\n",
       "      <td>5.12</td>\n",
       "      <td>1.98</td>\n",
       "      <td>0.366017</td>\n",
       "    </tr>\n",
       "    <tr>\n",
       "      <th>2</th>\n",
       "      <td>7.82</td>\n",
       "      <td>3.25</td>\n",
       "      <td>0.325657</td>\n",
       "    </tr>\n",
       "    <tr>\n",
       "      <th>3</th>\n",
       "      <td>7.42</td>\n",
       "      <td>3.67</td>\n",
       "      <td>0.833971</td>\n",
       "    </tr>\n",
       "    <tr>\n",
       "      <th>4</th>\n",
       "      <td>6.94</td>\n",
       "      <td>3.57</td>\n",
       "      <td>0.613363</td>\n",
       "    </tr>\n",
       "  </tbody>\n",
       "</table>\n",
       "</div>"
      ],
      "text/plain": [
       "   cgpa  package    random\n",
       "0  6.89     3.26  0.366739\n",
       "1  5.12     1.98  0.366017\n",
       "2  7.82     3.25  0.325657\n",
       "3  7.42     3.67  0.833971\n",
       "4  6.94     3.57  0.613363"
      ]
     },
     "execution_count": 19,
     "metadata": {},
     "output_type": "execute_result"
    }
   ],
   "source": [
    "# adding a random column and checking r2 score and adjusted r2 score\n",
    "new_df=pd.DataFrame()\n",
    "new_df=df.copy()\n",
    "new_df[\"random\"]=np.random.random(200)\n",
    "new_df.head()"
   ]
  },
  {
   "cell_type": "code",
   "execution_count": 21,
   "id": "5c0a2711-cc1c-40b9-90f9-acbb256c432d",
   "metadata": {},
   "outputs": [
    {
     "name": "stdout",
     "output_type": "stream",
     "text": [
      "r2score: 0.7768111563037923\n",
      "0.772161388726788\n"
     ]
    }
   ],
   "source": [
    "from sklearn.model_selection import train_test_split\n",
    "\n",
    "X=new_df[[\"cgpa\",\"random\"]]\n",
    "y=new_df.iloc[:,1]\n",
    "X_train,X_test,y_train,y_test=train_test_split(X,y,test_size=0.25,random_state=42)\n",
    "\n",
    "from sklearn.linear_model import LinearRegression\n",
    "\n",
    "lr=LinearRegression()\n",
    "\n",
    "lr.fit(X_train,y_train)\n",
    "\n",
    "y_pred=lr.predict(X_test)\n",
    "\n",
    "r2 = r2_score(y_test, y_pred)\n",
    "print(\"r2score:\", r2)\n",
    "\n",
    "adjusted_r2_score=1-(1-r2)*(X_test.shape[0]-1)/(X_test.shape[0]-1-1)\n",
    "print(adjusted_r2_score)"
   ]
  },
  {
   "cell_type": "code",
   "execution_count": null,
   "id": "355bed72-da99-401c-aa62-ce434edd5f93",
   "metadata": {},
   "outputs": [],
   "source": []
  }
 ],
 "metadata": {
  "kernelspec": {
   "display_name": "Python 3 (ipykernel)",
   "language": "python",
   "name": "python3"
  },
  "language_info": {
   "codemirror_mode": {
    "name": "ipython",
    "version": 3
   },
   "file_extension": ".py",
   "mimetype": "text/x-python",
   "name": "python",
   "nbconvert_exporter": "python",
   "pygments_lexer": "ipython3",
   "version": "3.12.6"
  }
 },
 "nbformat": 4,
 "nbformat_minor": 5
}
