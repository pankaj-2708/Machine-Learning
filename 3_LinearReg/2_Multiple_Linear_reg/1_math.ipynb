{
 "cells": [
  {
   "cell_type": "markdown",
   "id": "04b96b73-0891-4fc3-b7f1-513a677b4709",
   "metadata": {},
   "source": [
    "by doing ols same as in simple linear reg we get \n",
    "\n",
    "<img src=\"../../images/b.png\">\n",
    "\n",
    "derivation-\n",
    "\n",
    "<a href=\"https://medium.com/@bhanu0925/deriving-normal-equation-for-multiple-linear-regression-85241965ee3b\" target=\"_blank\">\n",
    "  Read the derivation on Medium (almost correct)\n",
    "</a>\n",
    "\n",
    "here we have to calculate inverse(transpose(X)X) and timecomplexity of inverse of matrix is n3 so it require very high mathematical computation  ( eg if X has 999 features/columns + 1 for constant/intercept then it will require 10**9 computation )\n",
    "\n",
    "so we can also use gradient descent here"
   ]
  },
  {
   "cell_type": "code",
   "execution_count": 81,
   "id": "e4bc490d-62e4-48c7-97f6-bff85bab56d4",
   "metadata": {},
   "outputs": [],
   "source": [
    "import pandas as pd\n",
    "import matplotlib.pyplot as plt\n",
    "from sklearn.datasets import load_diabetes\n",
    "import numpy as np\n",
    "import seaborn as sns\n",
    "\n",
    "X,y=load_diabetes(return_X_y=True)\n",
    "\n",
    "from sklearn.model_selection import train_test_split\n",
    "\n",
    "X_train,X_test,y_train,y_test=train_test_split(X,y,test_size=0.1,random_state=42)"
   ]
  },
  {
   "cell_type": "code",
   "execution_count": 82,
   "id": "d85ee0c2-f5af-4352-862c-a04f6eaf7a7a",
   "metadata": {},
   "outputs": [],
   "source": [
    "class LR:\n",
    "    def __init__(self):\n",
    "        self.b=None\n",
    "\n",
    "    def train(self,X_train,y_train):\n",
    "        X_train=np.insert(X_train,0,1,axis=1)\n",
    "        # it insert 1 to each row of X_train\n",
    "        \n",
    "        self.b=np.linalg.inv(X_train.T @ X_train)@(X_train.T @ y_train)\n",
    "        \n",
    "    def predict(self,X_test):\n",
    "        pred=[]\n",
    "        X_test=np.insert(X_test,0,1,axis=1)\n",
    "        # it insert 1 to each row of X_test\n",
    "        for i in X_test:\n",
    "            pred+=[sum(i*self.b)]\n",
    "        return pred"
   ]
  },
  {
   "cell_type": "code",
   "execution_count": 83,
   "id": "53e93e2b-af5b-4723-a0ab-00346043ec38",
   "metadata": {},
   "outputs": [],
   "source": [
    "lr=LR()\n",
    "\n",
    "lr.train(X_train,y_train)\n",
    "\n",
    "y_pred=lr.predict(X_test)"
   ]
  },
  {
   "cell_type": "code",
   "execution_count": 84,
   "id": "a238a485-f8cd-4ba9-868c-925c79367f6f",
   "metadata": {},
   "outputs": [
    {
     "data": {
      "text/plain": [
       "0.5514200923362624"
      ]
     },
     "execution_count": 84,
     "metadata": {},
     "output_type": "execute_result"
    }
   ],
   "source": [
    "from sklearn.metrics import r2_score\n",
    "r2_score(y_test,y_pred)"
   ]
  },
  {
   "cell_type": "code",
   "execution_count": 85,
   "id": "40e3052b-735b-4551-97ca-b9da77c8674f",
   "metadata": {},
   "outputs": [
    {
     "name": "stdout",
     "output_type": "stream",
     "text": [
      "r2score: 0.5514200923362625\n"
     ]
    }
   ],
   "source": [
    "from sklearn.model_selection import train_test_split\n",
    "\n",
    "X_train,X_test,y_train,y_test=train_test_split(X,y,test_size=0.1,random_state=42)\n",
    "from sklearn.linear_model import LinearRegression\n",
    "\n",
    "lr=LinearRegression()\n",
    "\n",
    "lr.fit(X_train,y_train)\n",
    "\n",
    "y_pred=lr.predict(X_test)\n",
    "r2 = r2_score(y_test, y_pred)\n",
    "print(\"r2score:\", r2)"
   ]
  },
  {
   "cell_type": "code",
   "execution_count": null,
   "id": "1d6c76c3-f73f-4e22-9bc7-8637f10490b6",
   "metadata": {},
   "outputs": [],
   "source": []
  }
 ],
 "metadata": {
  "kernelspec": {
   "display_name": "Python 3 (ipykernel)",
   "language": "python",
   "name": "python3"
  },
  "language_info": {
   "codemirror_mode": {
    "name": "ipython",
    "version": 3
   },
   "file_extension": ".py",
   "mimetype": "text/x-python",
   "name": "python",
   "nbconvert_exporter": "python",
   "pygments_lexer": "ipython3",
   "version": "3.12.6"
  }
 },
 "nbformat": 4,
 "nbformat_minor": 5
}
